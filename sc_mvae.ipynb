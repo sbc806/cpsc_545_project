{
  "cells": [
    {
      "cell_type": "markdown",
      "metadata": {
        "id": "view-in-github",
        "colab_type": "text"
      },
      "source": [
        "<a href=\"https://colab.research.google.com/github/sbc806/cpsc_545_project/blob/main/sc_mvae.ipynb\" target=\"_parent\"><img src=\"https://colab.research.google.com/assets/colab-badge.svg\" alt=\"Open In Colab\"/></a>"
      ]
    },
    {
      "cell_type": "code",
      "execution_count": 1,
      "metadata": {
        "colab": {
          "base_uri": "https://localhost:8080/"
        },
        "id": "5s4jHzvgLo_1",
        "outputId": "4ca04161-e089-415d-accc-c2ad20f29ca7"
      },
      "outputs": [
        {
          "output_type": "stream",
          "name": "stdout",
          "text": [
            "Mounted at /content/drive\n"
          ]
        }
      ],
      "source": [
        "from google.colab import drive\n",
        "drive.mount('/content/drive')"
      ]
    },
    {
      "cell_type": "code",
      "execution_count": null,
      "metadata": {
        "id": "uh79GyDIfX_Z"
      },
      "outputs": [],
      "source": [
        "# Requires that repository be public\n",
        "!git clone https://github.com/sbc806/scrna_mvae.git"
      ]
    },
    {
      "cell_type": "code",
      "execution_count": 3,
      "metadata": {
        "colab": {
          "base_uri": "https://localhost:8080/"
        },
        "id": "EP9HyaT0-X5n",
        "outputId": "b3c6a0ec-b966-4240-b720-c11adbb9abd5"
      },
      "outputs": [
        {
          "output_type": "stream",
          "name": "stdout",
          "text": [
            "Collecting geoopt\n",
            "  Downloading geoopt-0.5.0-py3-none-any.whl (90 kB)\n",
            "\u001b[?25l     \u001b[90m━━━━━━━━━━━━━━━━━━━━━━━━━━━━━━━━━━━━━━━━\u001b[0m \u001b[32m0.0/90.1 kB\u001b[0m \u001b[31m?\u001b[0m eta \u001b[36m-:--:--\u001b[0m\r\u001b[2K     \u001b[91m━━━━━━━━━━━━━━━━━━━━━━━━━━━━━━━\u001b[0m\u001b[91m╸\u001b[0m\u001b[90m━━━━━━━━\u001b[0m \u001b[32m71.7/90.1 kB\u001b[0m \u001b[31m1.9 MB/s\u001b[0m eta \u001b[36m0:00:01\u001b[0m\r\u001b[2K     \u001b[90m━━━━━━━━━━━━━━━━━━━━━━━━━━━━━━━━━━━━━━━━\u001b[0m \u001b[32m90.1/90.1 kB\u001b[0m \u001b[31m1.7 MB/s\u001b[0m eta \u001b[36m0:00:00\u001b[0m\n",
            "\u001b[?25hRequirement already satisfied: torch>=1.9.0 in /usr/local/lib/python3.10/dist-packages (from geoopt) (2.0.1+cu118)\n",
            "Requirement already satisfied: numpy in /usr/local/lib/python3.10/dist-packages (from geoopt) (1.22.4)\n",
            "Requirement already satisfied: scipy in /usr/local/lib/python3.10/dist-packages (from geoopt) (1.10.1)\n",
            "Requirement already satisfied: filelock in /usr/local/lib/python3.10/dist-packages (from torch>=1.9.0->geoopt) (3.12.2)\n",
            "Requirement already satisfied: typing-extensions in /usr/local/lib/python3.10/dist-packages (from torch>=1.9.0->geoopt) (4.7.1)\n",
            "Requirement already satisfied: sympy in /usr/local/lib/python3.10/dist-packages (from torch>=1.9.0->geoopt) (1.11.1)\n",
            "Requirement already satisfied: networkx in /usr/local/lib/python3.10/dist-packages (from torch>=1.9.0->geoopt) (3.1)\n",
            "Requirement already satisfied: jinja2 in /usr/local/lib/python3.10/dist-packages (from torch>=1.9.0->geoopt) (3.1.2)\n",
            "Requirement already satisfied: triton==2.0.0 in /usr/local/lib/python3.10/dist-packages (from torch>=1.9.0->geoopt) (2.0.0)\n",
            "Requirement already satisfied: cmake in /usr/local/lib/python3.10/dist-packages (from triton==2.0.0->torch>=1.9.0->geoopt) (3.25.2)\n",
            "Requirement already satisfied: lit in /usr/local/lib/python3.10/dist-packages (from triton==2.0.0->torch>=1.9.0->geoopt) (16.0.6)\n",
            "Requirement already satisfied: MarkupSafe>=2.0 in /usr/local/lib/python3.10/dist-packages (from jinja2->torch>=1.9.0->geoopt) (2.1.3)\n",
            "Requirement already satisfied: mpmath>=0.19 in /usr/local/lib/python3.10/dist-packages (from sympy->torch>=1.9.0->geoopt) (1.3.0)\n",
            "Installing collected packages: geoopt\n",
            "Successfully installed geoopt-0.5.0\n"
          ]
        }
      ],
      "source": [
        "!pip install geoopt"
      ]
    },
    {
      "cell_type": "code",
      "execution_count": 4,
      "metadata": {
        "colab": {
          "base_uri": "https://localhost:8080/"
        },
        "id": "b2SCkv8Z_ZDe",
        "outputId": "2b9e8e9a-5fa8-4750-8da2-866d03e51b53"
      },
      "outputs": [
        {
          "output_type": "stream",
          "name": "stdout",
          "text": [
            "Collecting scanpy\n",
            "  Downloading scanpy-1.9.3-py3-none-any.whl (2.0 MB)\n",
            "\u001b[2K     \u001b[90m━━━━━━━━━━━━━━━━━━━━━━━━━━━━━━━━━━━━━━━━\u001b[0m \u001b[32m2.0/2.0 MB\u001b[0m \u001b[31m8.9 MB/s\u001b[0m eta \u001b[36m0:00:00\u001b[0m\n",
            "\u001b[?25hCollecting anndata>=0.7.4 (from scanpy)\n",
            "  Downloading anndata-0.9.2-py3-none-any.whl (104 kB)\n",
            "\u001b[2K     \u001b[90m━━━━━━━━━━━━━━━━━━━━━━━━━━━━━━━━━━━━━━\u001b[0m \u001b[32m104.2/104.2 kB\u001b[0m \u001b[31m10.5 MB/s\u001b[0m eta \u001b[36m0:00:00\u001b[0m\n",
            "\u001b[?25hRequirement already satisfied: numpy>=1.17.0 in /usr/local/lib/python3.10/dist-packages (from scanpy) (1.22.4)\n",
            "Requirement already satisfied: matplotlib>=3.4 in /usr/local/lib/python3.10/dist-packages (from scanpy) (3.7.1)\n",
            "Requirement already satisfied: pandas>=1.0 in /usr/local/lib/python3.10/dist-packages (from scanpy) (1.5.3)\n",
            "Requirement already satisfied: scipy>=1.4 in /usr/local/lib/python3.10/dist-packages (from scanpy) (1.10.1)\n",
            "Requirement already satisfied: seaborn in /usr/local/lib/python3.10/dist-packages (from scanpy) (0.12.2)\n",
            "Requirement already satisfied: h5py>=3 in /usr/local/lib/python3.10/dist-packages (from scanpy) (3.8.0)\n",
            "Requirement already satisfied: tqdm in /usr/local/lib/python3.10/dist-packages (from scanpy) (4.65.0)\n",
            "Requirement already satisfied: scikit-learn>=0.22 in /usr/local/lib/python3.10/dist-packages (from scanpy) (1.2.2)\n",
            "Requirement already satisfied: statsmodels>=0.10.0rc2 in /usr/local/lib/python3.10/dist-packages (from scanpy) (0.13.5)\n",
            "Requirement already satisfied: patsy in /usr/local/lib/python3.10/dist-packages (from scanpy) (0.5.3)\n",
            "Requirement already satisfied: networkx>=2.3 in /usr/local/lib/python3.10/dist-packages (from scanpy) (3.1)\n",
            "Requirement already satisfied: natsort in /usr/local/lib/python3.10/dist-packages (from scanpy) (8.3.1)\n",
            "Requirement already satisfied: joblib in /usr/local/lib/python3.10/dist-packages (from scanpy) (1.3.1)\n",
            "Requirement already satisfied: numba>=0.41.0 in /usr/local/lib/python3.10/dist-packages (from scanpy) (0.56.4)\n",
            "Collecting umap-learn>=0.3.10 (from scanpy)\n",
            "  Downloading umap-learn-0.5.3.tar.gz (88 kB)\n",
            "\u001b[2K     \u001b[90m━━━━━━━━━━━━━━━━━━━━━━━━━━━━━━━━━━━━━━━━\u001b[0m \u001b[32m88.2/88.2 kB\u001b[0m \u001b[31m8.8 MB/s\u001b[0m eta \u001b[36m0:00:00\u001b[0m\n",
            "\u001b[?25h  Preparing metadata (setup.py) ... \u001b[?25l\u001b[?25hdone\n",
            "Requirement already satisfied: packaging in /usr/local/lib/python3.10/dist-packages (from scanpy) (23.1)\n",
            "Collecting session-info (from scanpy)\n",
            "  Downloading session_info-1.0.0.tar.gz (24 kB)\n",
            "  Preparing metadata (setup.py) ... \u001b[?25l\u001b[?25hdone\n",
            "Requirement already satisfied: contourpy>=1.0.1 in /usr/local/lib/python3.10/dist-packages (from matplotlib>=3.4->scanpy) (1.1.0)\n",
            "Requirement already satisfied: cycler>=0.10 in /usr/local/lib/python3.10/dist-packages (from matplotlib>=3.4->scanpy) (0.11.0)\n",
            "Requirement already satisfied: fonttools>=4.22.0 in /usr/local/lib/python3.10/dist-packages (from matplotlib>=3.4->scanpy) (4.41.0)\n",
            "Requirement already satisfied: kiwisolver>=1.0.1 in /usr/local/lib/python3.10/dist-packages (from matplotlib>=3.4->scanpy) (1.4.4)\n",
            "Requirement already satisfied: pillow>=6.2.0 in /usr/local/lib/python3.10/dist-packages (from matplotlib>=3.4->scanpy) (8.4.0)\n",
            "Requirement already satisfied: pyparsing>=2.3.1 in /usr/local/lib/python3.10/dist-packages (from matplotlib>=3.4->scanpy) (3.1.0)\n",
            "Requirement already satisfied: python-dateutil>=2.7 in /usr/local/lib/python3.10/dist-packages (from matplotlib>=3.4->scanpy) (2.8.2)\n",
            "Requirement already satisfied: llvmlite<0.40,>=0.39.0dev0 in /usr/local/lib/python3.10/dist-packages (from numba>=0.41.0->scanpy) (0.39.1)\n",
            "Requirement already satisfied: setuptools in /usr/local/lib/python3.10/dist-packages (from numba>=0.41.0->scanpy) (67.7.2)\n",
            "Requirement already satisfied: pytz>=2020.1 in /usr/local/lib/python3.10/dist-packages (from pandas>=1.0->scanpy) (2022.7.1)\n",
            "Requirement already satisfied: threadpoolctl>=2.0.0 in /usr/local/lib/python3.10/dist-packages (from scikit-learn>=0.22->scanpy) (3.2.0)\n",
            "Requirement already satisfied: six in /usr/local/lib/python3.10/dist-packages (from patsy->scanpy) (1.16.0)\n",
            "Collecting pynndescent>=0.5 (from umap-learn>=0.3.10->scanpy)\n",
            "  Downloading pynndescent-0.5.10.tar.gz (1.1 MB)\n",
            "\u001b[2K     \u001b[90m━━━━━━━━━━━━━━━━━━━━━━━━━━━━━━━━━━━━━━━━\u001b[0m \u001b[32m1.1/1.1 MB\u001b[0m \u001b[31m14.7 MB/s\u001b[0m eta \u001b[36m0:00:00\u001b[0m\n",
            "\u001b[?25h  Preparing metadata (setup.py) ... \u001b[?25l\u001b[?25hdone\n",
            "Collecting stdlib_list (from session-info->scanpy)\n",
            "  Downloading stdlib_list-0.9.0-py3-none-any.whl (75 kB)\n",
            "\u001b[2K     \u001b[90m━━━━━━━━━━━━━━━━━━━━━━━━━━━━━━━━━━━━━━━━\u001b[0m \u001b[32m75.6/75.6 kB\u001b[0m \u001b[31m7.9 MB/s\u001b[0m eta \u001b[36m0:00:00\u001b[0m\n",
            "\u001b[?25hBuilding wheels for collected packages: umap-learn, session-info, pynndescent\n",
            "  Building wheel for umap-learn (setup.py) ... \u001b[?25l\u001b[?25hdone\n",
            "  Created wheel for umap-learn: filename=umap_learn-0.5.3-py3-none-any.whl size=82816 sha256=2986ffa4e610ca0718cfd6a1b5a8858654a709ef8a14b7e59c8374c8c8d181d5\n",
            "  Stored in directory: /root/.cache/pip/wheels/a0/e8/c6/a37ea663620bd5200ea1ba0907ab3c217042c1d035ef606acc\n",
            "  Building wheel for session-info (setup.py) ... \u001b[?25l\u001b[?25hdone\n",
            "  Created wheel for session-info: filename=session_info-1.0.0-py3-none-any.whl size=8026 sha256=4109bd00dd3696a9063fabb920e2121d355d6a1eee8e39640f2c37bb37d6179c\n",
            "  Stored in directory: /root/.cache/pip/wheels/6a/aa/b9/eb5d4031476ec10802795b97ccf937b9bd998d68a9b268765a\n",
            "  Building wheel for pynndescent (setup.py) ... \u001b[?25l\u001b[?25hdone\n",
            "  Created wheel for pynndescent: filename=pynndescent-0.5.10-py3-none-any.whl size=55622 sha256=83d6b85a9d6ea64728dcb59ade55c977d6767d598b6a8237ee6a1d44f2e36087\n",
            "  Stored in directory: /root/.cache/pip/wheels/4a/38/5d/f60a40a66a9512b7e5e83517ebc2d1b42d857be97d135f1096\n",
            "Successfully built umap-learn session-info pynndescent\n",
            "Installing collected packages: stdlib_list, session-info, pynndescent, anndata, umap-learn, scanpy\n",
            "Successfully installed anndata-0.9.2 pynndescent-0.5.10 scanpy-1.9.3 session-info-1.0.0 stdlib_list-0.9.0 umap-learn-0.5.3\n"
          ]
        }
      ],
      "source": [
        "!pip install scanpy"
      ]
    },
    {
      "cell_type": "code",
      "execution_count": 5,
      "metadata": {
        "colab": {
          "base_uri": "https://localhost:8080/"
        },
        "id": "-KJ_5Sa4D925",
        "outputId": "1818a881-da36-4fc0-b937-a76dfc4b7e2c"
      },
      "outputs": [
        {
          "output_type": "stream",
          "name": "stdout",
          "text": [
            "Collecting tensorboardX\n",
            "  Downloading tensorboardX-2.6.1-py2.py3-none-any.whl (101 kB)\n",
            "\u001b[2K     \u001b[90m━━━━━━━━━━━━━━━━━━━━━━━━━━━━━━━━━━━━━━━\u001b[0m \u001b[32m101.6/101.6 kB\u001b[0m \u001b[31m2.0 MB/s\u001b[0m eta \u001b[36m0:00:00\u001b[0m\n",
            "\u001b[?25hRequirement already satisfied: numpy in /usr/local/lib/python3.10/dist-packages (from tensorboardX) (1.22.4)\n",
            "Requirement already satisfied: packaging in /usr/local/lib/python3.10/dist-packages (from tensorboardX) (23.1)\n",
            "Collecting protobuf>=4.22.3 (from tensorboardX)\n",
            "  Downloading protobuf-4.23.4-cp37-abi3-manylinux2014_x86_64.whl (304 kB)\n",
            "\u001b[2K     \u001b[90m━━━━━━━━━━━━━━━━━━━━━━━━━━━━━━━━━━━━━━━\u001b[0m \u001b[32m304.5/304.5 kB\u001b[0m \u001b[31m5.3 MB/s\u001b[0m eta \u001b[36m0:00:00\u001b[0m\n",
            "\u001b[?25hInstalling collected packages: protobuf, tensorboardX\n",
            "  Attempting uninstall: protobuf\n",
            "    Found existing installation: protobuf 3.20.3\n",
            "    Uninstalling protobuf-3.20.3:\n",
            "      Successfully uninstalled protobuf-3.20.3\n",
            "Successfully installed protobuf-4.23.4 tensorboardX-2.6.1\n"
          ]
        }
      ],
      "source": [
        "!pip install tensorboardX"
      ]
    },
    {
      "cell_type": "code",
      "execution_count": 6,
      "metadata": {
        "colab": {
          "base_uri": "https://localhost:8080/"
        },
        "id": "s2EMOSVSHggR",
        "outputId": "4e0a5b88-dca0-4771-d444-267d10aceee1"
      },
      "outputs": [
        {
          "output_type": "stream",
          "name": "stdout",
          "text": [
            "Requirement already satisfied: anndata in /usr/local/lib/python3.10/dist-packages (0.9.2)\n",
            "Requirement already satisfied: pandas!=2.0.1,>=1.1.1 in /usr/local/lib/python3.10/dist-packages (from anndata) (1.5.3)\n",
            "Requirement already satisfied: numpy>=1.16.5 in /usr/local/lib/python3.10/dist-packages (from anndata) (1.22.4)\n",
            "Requirement already satisfied: scipy>1.4 in /usr/local/lib/python3.10/dist-packages (from anndata) (1.10.1)\n",
            "Requirement already satisfied: h5py>=3 in /usr/local/lib/python3.10/dist-packages (from anndata) (3.8.0)\n",
            "Requirement already satisfied: natsort in /usr/local/lib/python3.10/dist-packages (from anndata) (8.3.1)\n",
            "Requirement already satisfied: packaging>=20 in /usr/local/lib/python3.10/dist-packages (from anndata) (23.1)\n",
            "Requirement already satisfied: python-dateutil>=2.8.1 in /usr/local/lib/python3.10/dist-packages (from pandas!=2.0.1,>=1.1.1->anndata) (2.8.2)\n",
            "Requirement already satisfied: pytz>=2020.1 in /usr/local/lib/python3.10/dist-packages (from pandas!=2.0.1,>=1.1.1->anndata) (2022.7.1)\n",
            "Requirement already satisfied: six>=1.5 in /usr/local/lib/python3.10/dist-packages (from python-dateutil>=2.8.1->pandas!=2.0.1,>=1.1.1->anndata) (1.16.0)\n"
          ]
        }
      ],
      "source": [
        "!pip install anndata"
      ]
    },
    {
      "cell_type": "code",
      "execution_count": 7,
      "metadata": {
        "colab": {
          "base_uri": "https://localhost:8080/"
        },
        "id": "A14bAbXxKkSF",
        "outputId": "46120ac6-b065-417f-a841-9565acd200dc"
      },
      "outputs": [
        {
          "output_type": "stream",
          "name": "stdout",
          "text": [
            "Collecting loompy\n",
            "  Downloading loompy-3.0.7.tar.gz (4.8 MB)\n",
            "\u001b[2K     \u001b[90m━━━━━━━━━━━━━━━━━━━━━━━━━━━━━━━━━━━━━━━━\u001b[0m \u001b[32m4.8/4.8 MB\u001b[0m \u001b[31m12.3 MB/s\u001b[0m eta \u001b[36m0:00:00\u001b[0m\n",
            "\u001b[?25h  Preparing metadata (setup.py) ... \u001b[?25l\u001b[?25hdone\n",
            "Requirement already satisfied: h5py in /usr/local/lib/python3.10/dist-packages (from loompy) (3.8.0)\n",
            "Requirement already satisfied: numpy in /usr/local/lib/python3.10/dist-packages (from loompy) (1.22.4)\n",
            "Requirement already satisfied: scipy in /usr/local/lib/python3.10/dist-packages (from loompy) (1.10.1)\n",
            "Requirement already satisfied: setuptools in /usr/local/lib/python3.10/dist-packages (from loompy) (67.7.2)\n",
            "Requirement already satisfied: numba in /usr/local/lib/python3.10/dist-packages (from loompy) (0.56.4)\n",
            "Requirement already satisfied: click in /usr/local/lib/python3.10/dist-packages (from loompy) (8.1.6)\n",
            "Collecting numpy-groupies (from loompy)\n",
            "  Downloading numpy_groupies-0.9.22.tar.gz (53 kB)\n",
            "\u001b[2K     \u001b[90m━━━━━━━━━━━━━━━━━━━━━━━━━━━━━━━━━━━━━━━━\u001b[0m \u001b[32m53.3/53.3 kB\u001b[0m \u001b[31m5.2 MB/s\u001b[0m eta \u001b[36m0:00:00\u001b[0m\n",
            "\u001b[?25h  Preparing metadata (setup.py) ... \u001b[?25l\u001b[?25hdone\n",
            "Requirement already satisfied: llvmlite<0.40,>=0.39.0dev0 in /usr/local/lib/python3.10/dist-packages (from numba->loompy) (0.39.1)\n",
            "Building wheels for collected packages: loompy, numpy-groupies\n",
            "  Building wheel for loompy (setup.py) ... \u001b[?25l\u001b[?25hdone\n",
            "  Created wheel for loompy: filename=loompy-3.0.7-py3-none-any.whl size=52018 sha256=eb32d89b05d15950ba213d7b188b429bf33b246dc02e8516f85b1740458508a6\n",
            "  Stored in directory: /root/.cache/pip/wheels/2c/22/1f/792a4621bb631e538bf1c21feae9bbaa6b19fd6d6ab382d1fd\n",
            "  Building wheel for numpy-groupies (setup.py) ... \u001b[?25l\u001b[?25hdone\n",
            "  Created wheel for numpy-groupies: filename=numpy_groupies-0.9.22-py3-none-any.whl size=25846 sha256=1684ef8917cdf590d1313537c2a75c674332acfde3776815f5c1b04692947284\n",
            "  Stored in directory: /root/.cache/pip/wheels/5b/ce/73/9192b12bb05cc6a44ba159cb733270b1539004037302a42077\n",
            "Successfully built loompy numpy-groupies\n",
            "Installing collected packages: numpy-groupies, loompy\n",
            "Successfully installed loompy-3.0.7 numpy-groupies-0.9.22\n"
          ]
        }
      ],
      "source": [
        "!pip install -U loompy"
      ]
    },
    {
      "cell_type": "code",
      "execution_count": 8,
      "metadata": {
        "colab": {
          "base_uri": "https://localhost:8080/"
        },
        "id": "eC6QZYeQ9Q9X",
        "outputId": "7563fd96-217f-4096-b267-3f21b2e2c231"
      },
      "outputs": [
        {
          "output_type": "stream",
          "name": "stdout",
          "text": [
            "['/content', '/env/python', '/usr/lib/python310.zip', '/usr/lib/python3.10', '/usr/lib/python3.10/lib-dynload', '', '/usr/local/lib/python3.10/dist-packages', '/usr/lib/python3/dist-packages', '/usr/local/lib/python3.10/dist-packages/IPython/extensions', '/root/.ipython']\n"
          ]
        }
      ],
      "source": [
        "import sys as sys\n",
        "\n",
        "print(sys.path)\n",
        "# If running notebook outside of scrna_mvae directory, add it to the path\n",
        "sys.path.append('/content/scrna_mvae/')"
      ]
    },
    {
      "cell_type": "code",
      "execution_count": 9,
      "metadata": {
        "id": "V7_10lFA8qgQ"
      },
      "outputs": [],
      "source": [
        "import argparse\n",
        "import datetime\n",
        "import os\n",
        "\n",
        "import torch\n",
        "\n",
        "from mt.data import create_dataset\n",
        "from mt.mvae import utils\n",
        "from mt.mvae.models import Trainer\n",
        "from mt.utils import str2bool\n",
        "from mt.mvae.models.nb_vae import NBVAE\n",
        "import numpy as np\n",
        "\n",
        "import pandas as pd\n",
        "import scanpy as sc"
      ]
    },
    {
      "cell_type": "code",
      "execution_count": 10,
      "metadata": {
        "id": "DRqoStfJ7AHz"
      },
      "outputs": [],
      "source": [
        "# The path to the datasets\n",
        "# Assumed all datasets have the same base path\n",
        "dataset_path = '/content/drive/MyDrive/mvae_research/datasets'\n",
        "\n",
        "# Keys are the dataset names\n",
        "# Values are the subdirectories and the file containing the dataset\n",
        "datasets_paths = {\"hela\": \"revelio_paper/hela/hela_select.loom\",\n",
        "\n",
        "                \"DataSetS2\": \"cyclum_paper/DataSetS2.h5ad\",\n",
        "\n",
        "                \"velocity_human\": \"deepcycle_paper/human/velocity_human_fibroblast.h5ad\",\n",
        "                \"velocity_mouse\": \"deepcycle_paper/mouse/velocity_mouse.h5ad\",\n",
        "\n",
        "                \"melanoma\": \"cyclum_paper/melanoma/melanoma_single_cell_revised_v2.h5ad\",\n",
        "                \"melanoma_processed\": \"cyclum_paper/melanoma/melanoma_single_cell_revised_v2_processed.h5ad\",\n",
        "                \"melanoma_78\": \"cyclum_paper/melanoma/melanoma_78.h5ad\",\n",
        "\n",
        "                \"mouse_retina\": \"tricycle_paper/mouse_retina/mouse_retina_horizontal.h5ad\",\n",
        "\n",
        "                \"ovarian_epithelial\": \"ovarian_cancer/local.h5ad\",\n",
        "                \"ovarian_epithelial_raw\": \"ovarian_cancer/epithelial_count_added.h5ad\",\n",
        "                \"ovarian_epithelial_cycling\": \"ovarian_cancer/ovarian_epithelial_cycling.h5ad\",\n",
        "                \"ovarian_epithelial_cycling_raw\": \"ovarian_cancer/ovarian_epithelial_cycling.h5ad\",\n",
        "\n",
        "                \"myeloid\": \"immune_cell_dataset/myeloid/CountAdded_PIP_myeloid_object_for_cellxgene.h5ad\",\n",
        "                \"b_cells\": \"immune_cell_dataset/b_cells/CountAdded_PIP_B_object_for_cellxgene.h5ad\",\n",
        "                \"t_cells\": \"immune_cell_dataset/CountAdded_PIP_global_object_for_cellxgene.h5ad\",\n",
        "                \"immune_global\": \"immune_cell_dataset/CountAdded_PIP_global_object_for_cellxgene.h5ad\",\n",
        "                \"myeloid_subset_1\": \"immune_cell_dataset/myeloid/myeloid_subset_1.h5ad\",\n",
        "                }"
      ]
    },
    {
      "cell_type": "code",
      "execution_count": 59,
      "metadata": {
        "colab": {
          "base_uri": "https://localhost:8080/"
        },
        "id": "7wntSzMYHSVN",
        "outputId": "1064fd9c-3ca3-4a3f-9e2a-dd84954b2320"
      },
      "outputs": [
        {
          "output_type": "stream",
          "name": "stdout",
          "text": [
            "Dataset: velocity_human\n"
          ]
        }
      ],
      "source": [
        "# vary important to prevent NAN\n",
        "# torch.set_default_dtype(torch.float64)\n",
        "\n",
        "# model_name = 's2, s2'\n",
        "# fixed_curvature = True\n",
        "\n",
        "# components = utils.parse_components(model_name, fixed_curvature)\n",
        "\n",
        "# h_dim = 32\n",
        "# scalar_parametrization = False\n",
        "# device = 'cpu'\n",
        "\n",
        "# dataset = create_dataset('mnist', 100, '/Users/jding/work/mvae/data/')\n",
        "# train_loader, test_loader = dataset.create_loaders()\n",
        "\n",
        "# ==\n",
        "from mt.data.umi_data import UMIVaeDataset\n",
        "import anndata\n",
        "# adata = anndata.read_loom('/Users/jding/work/project/scdata/hela_select.loom')\n",
        "\n",
        "# dataset_name should be a key in datasets_paths\n",
        "dataset_name = \"velocity_human\"\n",
        "full_dataset_path = os.path.join(dataset_path, datasets_paths[dataset_name])\n",
        "# save_path is the path to save the embeddings to\n",
        "save_path = '/content/drive/MyDrive/mvae_research/mvae_results'\n",
        "\n",
        "# True if the raw counts should be used rather than the processed X\n",
        "use_raw = True\n",
        "print(\"Dataset:\", dataset_name)\n",
        "if dataset_name == \"hela\":\n",
        "  adata = anndata.read_loom(full_dataset_path)\n",
        "  save_path = os.path.join(save_path, 'hela')\n",
        "\n",
        "elif dataset_name == \"DataSetS2\":\n",
        "  adata = sc.read_h5ad(full_dataset_path)\n",
        "  # adata.X = adata.X.astype(np.double)\n",
        "  # adata.var['primerid'].index = np.arange(0, adata.n_vars, 1)\n",
        "  save_path = os.path.join(save_path, 'DataSetS2')\n",
        "  if use_raw:\n",
        "    adata.X = adata.layers['X_rawCount']\n",
        "\n",
        "elif dataset_name == \"velocity_human\":\n",
        "  # adata = sc.read_h5ad('/content/drive/MyDrive/mvae_research/datasets/velocity_anndata_human_fibroblast_DeepCycle_ISMARA.h5ad')\n",
        "  adata = sc.read_h5ad(full_dataset_path)\n",
        "  adata.var['gene_name'] = adata.var['Accession'].index\n",
        "  save_path = os.path.join(save_path, 'cell_cycle_gene_regulation/velocity_human')\n",
        "  if use_raw:\n",
        "    adata.layers['X_original'] = adata.X\n",
        "    adata.X = adata.layers['X_raw'].todense().astype(np.double)\n",
        "  else:\n",
        "    adata.X = adata.X.todense().astype(np.double)\n",
        "\n",
        "elif dataset_name == \"velocity_mouse\":\n",
        "  adata = sc.read_h5ad(full_dataset_path)\n",
        "  adata.var['gene_name'] = [gene.upper() for gene in adata.var['Accession'].index]\n",
        "  save_path = os.path.join(save_path, 'cell_cycle_gene_regulation/velocity_mouse')\n",
        "  if use_raw:\n",
        "    adata.obsm['X_original'] = adata.X\n",
        "    adata.X = adata.obsm['X_raw'].todense().astype(np.double)\n",
        "  else:\n",
        "    adata.X = adata.X.todense().astype(np.double)\n",
        "\n",
        "elif dataset_name == \"melanoma\":\n",
        "  adata = sc.read_h5ad(full_dataset_path)\n",
        "  save_path = os.path.join(save_path, 'cyclum_paper/melanoma')\n",
        "\n",
        "elif dataset_name == \"melanoma_processed\":\n",
        "  adata = sc.read_h5ad(full_dataset_path)\n",
        "  save_path = os.path.join(save_path, 'cyclum_paper/melanoma_processed')\n",
        "\n",
        "elif dataset_name == \"melanoma_78\":\n",
        "  adata = sc.read_h5ad(full_dataset_path)\n",
        "  save_path = os.path.join(save_path, 'cyclum_paper/melanoma_78')\n",
        "\n",
        "elif dataset_name == \"mouse_retina\":\n",
        "  adata = sc.read_h5ad(full_dataset_path)\n",
        "  save_path = os.path.join(save_path, \"tricycle_paper/mouse_retina\")\n",
        "\n",
        "elif dataset_name == \"ovarian_epithelial_raw\":\n",
        "  adata = sc.read_h5ad(full_dataset_path)\n",
        "  adata.obsm['X_original'] = adata.X.astype(np.double)\n",
        "  adata.X = adata.obsm['X_raw'].astype(np.double)\n",
        "  save_path = os.path.join(save_path, 'ovarian/ovarian_epithelial')\n",
        "\n",
        "elif dataset_name == \"ovarian_epithelial\":\n",
        "  adata = sc.read_h5ad(full_dataset_path)\n",
        "  save_path = os.path.join(save_path, 'ovarian/ovarian_epithelial')\n",
        "\n",
        "elif dataset_name == \"ovarian_epithelial_cycling\":\n",
        "  adata = sc.read_h5ad(full_dataset_path)\n",
        "  save_path = os.path.join(save_path, 'ovarian/ovarian_epithelial_cycling')\n",
        "\n",
        "elif dataset_name == \"ovarian_epithelial_cycling_raw\":\n",
        "  adata = sc.read_h5ad(full_dataset_path)\n",
        "  adata.obsm['X_original'] = adata.X.astype(np.double)\n",
        "  adata.X = adata.obsm['X_raw'].astype(np.double)\n",
        "  save_path = os.path.join(save_path, 'ovarian/ovarian_epithelial_cycling')\n",
        "\n",
        "elif dataset_name == \"myeloid\":\n",
        "  adata = sc.read_h5ad(full_dataset_path)\n",
        "  save_path = os.path.join(save_path, 'immune_cell_dataset/myeloid')\n",
        "\n",
        "elif dataset_name == \"b_cells\":\n",
        "  adata = sc.read_h5ad(full_dataset_path)\n",
        "  save_path = os.path.join(save_path, 'immune_cell_dataset/b_cells')\n",
        "\n",
        "elif dataset_name == 't_cells':\n",
        "  adata = sc.read_h5ad(full_dataset_path)\n",
        "  save_path = os.path.join(save_path, 'immune_cell_dataset/t_cells')\n",
        "\n",
        "elif dataset_name == \"immune_global\":\n",
        "  adata = sc.read_h5ad(full_dataset_path)\n",
        "  save_path = os.path.join(save_path, 'immune_cell_dataset/global')\n",
        "\n",
        "elif dataset_name == \"myeloid_subset_1\":\n",
        "  adata = sc.read_h5ad(full_dataset_path)\n",
        "  adata.var['gene_name'] = adata.var.index\n",
        "  save_path = os.path.join(save_path, 'immune_cell_dataset/myeloid_subset_1')\n",
        "  if use_raw:\n",
        "    adata.obsm['X_original'] = adata.X.astype(np.double)\n",
        "    adata.X = adata.layers['counts'].astype(np.double)"
      ]
    },
    {
      "cell_type": "code",
      "source": [
        "adata"
      ],
      "metadata": {
        "colab": {
          "base_uri": "https://localhost:8080/"
        },
        "id": "LW5xA7_BSRkE",
        "outputId": "cc2cc9cb-0ba7-474c-f207-50ba1fb615bd"
      },
      "execution_count": 60,
      "outputs": [
        {
          "output_type": "execute_result",
          "data": {
            "text/plain": [
              "AnnData object with n_obs × n_vars = 5367 × 10789\n",
              "    obs: 'Clusters', '_X', '_Y', 'sample', 'n_genes', 'percent_mito', 'n_counts', 'initial_size_spliced', 'initial_size_unspliced', 'initial_size', 'S_score', 'G2M_score', 'phase', 'clusters_gradients', 'leiden', 'cell_cycle_theta'\n",
              "    var: 'Accession', 'Chromosome', 'End', 'Start', 'Strand', 'n_cells', 'gene_count_corr', 'gene_name'\n",
              "    uns: 'ISMARA_activities', 'clusters_gradients_colors', 'leiden', 'leiden_colors', 'neighbors', 'pca', 'rank_genes_groups', 'sample_colors', 'umap'\n",
              "    obsm: 'X_pca', 'X_umap'\n",
              "    varm: 'PCs'\n",
              "    layers: 'Ms', 'Mu', 'X_raw', 'ambiguous', 'matrix', 'spliced', 'unspliced', 'X_original'\n",
              "    obsp: 'connectivities', 'distances'"
            ]
          },
          "metadata": {},
          "execution_count": 60
        }
      ]
    },
    {
      "cell_type": "markdown",
      "metadata": {
        "id": "UjZvfZrTmGWY"
      },
      "source": [
        "Make sure to rearrange the genes so that the cycling genes are placed first before creating the training and test datasets.\n",
        "\n",
        "The function for doing so is at the bottom of the notebook."
      ]
    },
    {
      "cell_type": "markdown",
      "metadata": {
        "id": "jjGODQn2phz_"
      },
      "source": [
        "Create the training and test datasets"
      ]
    },
    {
      "cell_type": "code",
      "execution_count": null,
      "metadata": {
        "colab": {
          "base_uri": "https://localhost:8080/"
        },
        "id": "SsWHHPnaoH35",
        "outputId": "b9e4dfb9-2769-4d44-9991-b44483faea85"
      },
      "outputs": [
        {
          "name": "stdout",
          "output_type": "stream",
          "text": [
            "in_dim = 31897\n",
            "dataset.in_dim = 31897\n",
            "torch.Size([128, 31897])\n",
            "torch.Size([128, 31897])\n",
            "torch.Size([128, 31897])\n",
            "torch.Size([128, 31897])\n",
            "torch.Size([128, 31897])\n",
            "torch.Size([128, 31897])\n",
            "torch.Size([128, 31897])\n",
            "torch.Size([128, 31897])\n",
            "torch.Size([128, 31897])\n",
            "torch.Size([128, 31897])\n",
            "torch.Size([128, 31897])\n",
            "torch.Size([128, 31897])\n",
            "torch.Size([128, 31897])\n",
            "torch.Size([128, 31897])\n",
            "torch.Size([128, 31897])\n",
            "torch.Size([128, 31897])\n",
            "torch.Size([128, 31897])\n",
            "torch.Size([128, 31897])\n",
            "torch.Size([128, 31897])\n",
            "torch.Size([128, 31897])\n",
            "torch.Size([128, 31897])\n",
            "torch.Size([128, 31897])\n",
            "torch.Size([128, 31897])\n",
            "torch.Size([128, 31897])\n",
            "torch.Size([128, 31897])\n",
            "torch.Size([128, 31897])\n",
            "torch.Size([128, 31897])\n",
            "torch.Size([128, 31897])\n",
            "torch.Size([128, 31897])\n",
            "torch.Size([128, 31897])\n",
            "torch.Size([128, 31897])\n",
            "torch.Size([128, 31897])\n",
            "torch.Size([128, 31897])\n",
            "torch.Size([128, 31897])\n",
            "torch.Size([128, 31897])\n",
            "torch.Size([128, 31897])\n",
            "torch.Size([128, 31897])\n",
            "torch.Size([128, 31897])\n",
            "torch.Size([128, 31897])\n",
            "torch.Size([128, 31897])\n",
            "torch.Size([128, 31897])\n",
            "torch.Size([128, 31897])\n",
            "torch.Size([128, 31897])\n",
            "torch.Size([128, 31897])\n",
            "torch.Size([128, 31897])\n",
            "torch.Size([128, 31897])\n",
            "torch.Size([128, 31897])\n",
            "torch.Size([128, 31897])\n",
            "torch.Size([128, 31897])\n",
            "torch.Size([128, 31897])\n",
            "torch.Size([128, 31897])\n",
            "torch.Size([128, 31897])\n",
            "torch.Size([128, 31897])\n",
            "torch.Size([128, 31897])\n",
            "torch.Size([128, 31897])\n",
            "torch.Size([128, 31897])\n",
            "torch.Size([128, 31897])\n",
            "torch.Size([128, 31897])\n",
            "torch.Size([128, 31897])\n",
            "torch.Size([128, 31897])\n",
            "torch.Size([128, 31897])\n",
            "torch.Size([128, 31897])\n",
            "torch.Size([128, 31897])\n",
            "torch.Size([128, 31897])\n",
            "torch.Size([128, 31897])\n",
            "torch.Size([128, 31897])\n",
            "torch.Size([128, 31897])\n",
            "torch.Size([128, 31897])\n",
            "torch.Size([128, 31897])\n",
            "torch.Size([128, 31897])\n",
            "torch.Size([128, 31897])\n",
            "torch.Size([128, 31897])\n",
            "torch.Size([128, 31897])\n",
            "torch.Size([128, 31897])\n",
            "torch.Size([128, 31897])\n",
            "torch.Size([128, 31897])\n",
            "torch.Size([128, 31897])\n",
            "torch.Size([128, 31897])\n",
            "torch.Size([128, 31897])\n",
            "torch.Size([128, 31897])\n",
            "torch.Size([128, 31897])\n",
            "torch.Size([128, 31897])\n",
            "torch.Size([128, 31897])\n",
            "torch.Size([128, 31897])\n",
            "torch.Size([128, 31897])\n",
            "torch.Size([128, 31897])\n",
            "torch.Size([128, 31897])\n",
            "torch.Size([128, 31897])\n",
            "torch.Size([128, 31897])\n",
            "torch.Size([128, 31897])\n",
            "torch.Size([128, 31897])\n",
            "torch.Size([128, 31897])\n",
            "torch.Size([128, 31897])\n",
            "torch.Size([128, 31897])\n",
            "torch.Size([128, 31897])\n",
            "torch.Size([128, 31897])\n",
            "torch.Size([128, 31897])\n",
            "torch.Size([128, 31897])\n",
            "torch.Size([128, 31897])\n",
            "torch.Size([128, 31897])\n",
            "torch.Size([128, 31897])\n",
            "torch.Size([128, 31897])\n",
            "torch.Size([128, 31897])\n",
            "torch.Size([128, 31897])\n",
            "torch.Size([128, 31897])\n",
            "torch.Size([128, 31897])\n",
            "torch.Size([128, 31897])\n",
            "torch.Size([128, 31897])\n",
            "torch.Size([128, 31897])\n",
            "torch.Size([128, 31897])\n",
            "torch.Size([128, 31897])\n",
            "torch.Size([128, 31897])\n",
            "torch.Size([128, 31897])\n",
            "torch.Size([128, 31897])\n",
            "torch.Size([128, 31897])\n",
            "torch.Size([128, 31897])\n",
            "torch.Size([128, 31897])\n",
            "torch.Size([128, 31897])\n",
            "torch.Size([128, 31897])\n",
            "torch.Size([128, 31897])\n",
            "torch.Size([128, 31897])\n",
            "torch.Size([128, 31897])\n",
            "torch.Size([128, 31897])\n",
            "torch.Size([128, 31897])\n",
            "torch.Size([128, 31897])\n",
            "torch.Size([128, 31897])\n",
            "torch.Size([128, 31897])\n",
            "torch.Size([128, 31897])\n",
            "torch.Size([128, 31897])\n",
            "torch.Size([128, 31897])\n",
            "torch.Size([128, 31897])\n",
            "torch.Size([128, 31897])\n",
            "torch.Size([128, 31897])\n",
            "torch.Size([128, 31897])\n",
            "torch.Size([22, 31897])\n"
          ]
        }
      ],
      "source": [
        "# Does y actually get used in the evaluation?\n",
        "if dataset_name == \"hela\":\n",
        "  x = adata.X.todense().astype(np.double)\n",
        "  y = adata.obs['batch'].rank(method='dense').astype(int)\n",
        "\n",
        "elif dataset_name == \"DataSetS2\":\n",
        "  x = adata.X.astype(np.double)\n",
        "  y = adata.obs['cellline'].rank(method='dense').astype(int)\n",
        "\n",
        "elif dataset_name == \"velocity_human\":\n",
        "  x = adata.X\n",
        "  y = adata.obs['Clusters'].rank(method='dense').astype(int)\n",
        "\n",
        "elif dataset_name == \"velocity_mouse\":\n",
        "  x = adata.X\n",
        "  y = adata.obs['Clusters'].rank(method='dense').astype(int)\n",
        "\n",
        "elif dataset_name == \"melanoma\":\n",
        "  x = adata.X\n",
        "  y = adata.obs['malignant(1=no,2=yes,0=unresolved)']\n",
        "\n",
        "elif dataset_name == \"melanoma_78\":\n",
        "  x = adata.X\n",
        "  y = adata.obs['cell_id'].rank(method='dense').astype(int)\n",
        "\n",
        "elif dataset_name == \"melanoma_processed\":\n",
        "  x = adata.X\n",
        "  y = adata.obs['malignant(1=no,2=yes,0=unresolved)']\n",
        "\n",
        "elif dataset_name == \"ovarian_epithelial\":\n",
        "  x = adata.X.todense().astype(np.double)\n",
        "  y = adata.obs['cluster_label'].rank(method='dense').astype(int)\n",
        "\n",
        "elif dataset_name == \"ovarian_epithelial_cycling_raw\":\n",
        "  x = adata.X.todense().astype(np.double)\n",
        "  y = adata.obs['cluster_label'].rank(method='dense').astype(int)\n",
        "\n",
        "elif dataset_name == \"myeloid_subset_1\":\n",
        "  x = adata.X.todense().astype(np.double)\n",
        "  y = adata.obs['Manually_curated_celltype'].rank(method='dense').astype(int)\n",
        "\n",
        "# Create the dataset and separate it into training and test sets\n",
        "in_dim = x.shape[1]\n",
        "print(f\"in_dim = {in_dim}\")\n",
        "dataset = UMIVaeDataset(batch_size=128, in_dim=in_dim)\n",
        "print(f\"dataset.in_dim = {dataset.in_dim}\")\n",
        "train_loader = dataset.create_loaders(x, y)\n",
        "test_loader = train_loader\n",
        "\n",
        "for i, data in enumerate(train_loader):\n",
        "    print((data[0].shape))"
      ]
    },
    {
      "cell_type": "markdown",
      "metadata": {
        "id": "MawYwX9TSFF-"
      },
      "source": [
        "Create mask"
      ]
    },
    {
      "cell_type": "code",
      "execution_count": null,
      "metadata": {
        "id": "8Nih0lViMekP"
      },
      "outputs": [],
      "source": [
        "import pandas as pd\n",
        "\n",
        "mask_cyc = np.zeros(adata.n_vars)\n",
        "\n",
        "# The key for the gene names\n",
        "if dataset_name == \"hela\":\n",
        "  gene_names = 'gene_symbols'\n",
        "elif dataset_name == \"DataSetS2\":\n",
        "  gene_names = 'primerid'\n",
        "elif dataset_name == \"velocity_human\":\n",
        "  gene_names = 'gene_name'\n",
        "elif dataset_name == \"velocity_mouse\":\n",
        "  gene_names = 'gene_name'\n",
        "elif dataset_name == \"melanoma\":\n",
        "  gene_names = 'gene_name'\n",
        "elif dataset_name == \"melanoma_78\":\n",
        "  gene_names = 'gene_name'\n",
        "elif dataset_name == \"ovarian_epithelial\":\n",
        "  gene_names = 'gene_name'\n",
        "elif dataset_name == \"ovarian_epithelial_cycling_raw\":\n",
        "  gene_names = 'gene_name'\n",
        "elif dataset_name == \"myeloid\":\n",
        "  gene_names = 'gene_name'\n",
        "elif dataset_name == \"myeloid_subset_1\":\n",
        "  gene_names = 'gene_name'\n",
        "\n",
        "# cycle_gene = pd.read_csv('/Users/jding/work/project/scdata/cycle_gene.txt', header=None, sep='\\t')\n",
        "cycle_gene = pd.read_csv('/content/drive/MyDrive/mvae/data/scdata/cycle_gene.txt', header=None, sep='\\t')\n",
        "\n",
        "# Obtain the cell cycling genes present in the cell x gene matrix\n",
        "cycle_gene = cycle_gene[0][cycle_gene[0].isin(adata.var[gene_names])]\n",
        "\n",
        "# A mask that is 1 where the gene is a cell cycling gene and 0 otherwise\n",
        "mask_cyc[adata.var[gene_names].isin(cycle_gene)] = 1\n",
        "\n",
        "# A mask that is 0 where the gene is a cell cycling gene and 1 otherwise\n",
        "mask_all = np.ones(adata.n_vars)\n",
        "mask_all[adata.var[gene_names].isin(cycle_gene)] = 0\n",
        "\n",
        "num_gene = len(mask_cyc)\n",
        "# Weight seems like currently not used\n",
        "weight = (1 + np.array((num_gene - mask_cyc.sum(), num_gene - mask_all.sum()))) / num_gene\n",
        "\n",
        "# mask = torch.tensor([mask_cyc * weight[0], mask_all * weight[1]])\n",
        "# Original mask for s2, s2, way nb_vae is right now is that need row for each component\n",
        "mask = torch.tensor([mask_cyc, mask_all])\n",
        "# mask = torch.tensor([mask_cyc, mask_cyc, mask_all])\n",
        "\n",
        "# 714 cycling genes\n",
        "# mask = torch.tensor([np.ones(adata.n_vars), np.ones(adata.n_vars)])"
      ]
    },
    {
      "cell_type": "code",
      "execution_count": null,
      "metadata": {
        "id": "s3d_mulU04zv"
      },
      "outputs": [],
      "source": [
        "# vary important to prevent NAN\n",
        "torch.set_default_dtype(torch.float64)\n",
        "\n",
        "model_name = 'h2, e10'\n",
        "fixed_curvature = True\n",
        "\n",
        "components = utils.parse_components(model_name, fixed_curvature)\n",
        "\n",
        "h_dim = 32\n",
        "scalar_parametrization = False\n",
        "device = 'cpu'\n",
        "\n",
        "# dataset = create_dataset('mnist', 100, '/Users/jding/work/mvae/data/')\n",
        "# train_loader, test_loader = dataset.create_loaders()\n",
        "\n",
        "# =="
      ]
    },
    {
      "cell_type": "code",
      "execution_count": null,
      "metadata": {
        "colab": {
          "base_uri": "https://localhost:8080/"
        },
        "id": "lvTrSL6PS01v",
        "outputId": "fe9750fa-df10-4638-8617-4eb8c6dd7a0c"
      },
      "outputs": [
        {
          "name": "stdout",
          "output_type": "stream",
          "text": [
            "h2, e10\n",
            "torch.Size([2, 31897])\n",
            "[1. 1. 1. ... 0. 0. 0.]\n",
            "[0. 0. 0. ... 1. 1. 1.]\n"
          ]
        }
      ],
      "source": [
        "print(model_name)\n",
        "print(mask.shape)\n",
        "print(mask_cyc)\n",
        "print(mask_all)"
      ]
    },
    {
      "cell_type": "markdown",
      "metadata": {
        "id": "N-9gp6STSz0y"
      },
      "source": [
        "Run the model"
      ]
    },
    {
      "cell_type": "code",
      "execution_count": null,
      "metadata": {
        "colab": {
          "base_uri": "https://localhost:8080/"
        },
        "id": "l5MuMdB-wRYL",
        "outputId": "a78d1b22-a149-43dd-e32e-0c64de976524"
      },
      "outputs": [
        {
          "name": "stdout",
          "output_type": "stream",
          "text": [
            "Making /content/drive/MyDrive/mvae_research/mvae_results/ovarian/ovarian_epithelial_cycling/input_3\n",
            "Making /content/drive/MyDrive/mvae_research/mvae_results/ovarian/ovarian_epithelial_cycling/input_3/hyperparameter_1\n"
          ]
        }
      ],
      "source": [
        "# Make sure input number and hyperparameter number is correct\n",
        "input_number = 3\n",
        "hyperparameter_number = 1\n",
        "\n",
        "input_dir = \"input_\" + str(input_number)\n",
        "input_path = os.path.join(save_path, input_dir)\n",
        "if not os.path.exists(input_path):\n",
        "  print(\"Making \" + input_path)\n",
        "  os.mkdir(input_path)\n",
        "\n",
        "hyperparameter_dir = \"hyperparameter_\" + str(hyperparameter_number)\n",
        "hyperparameter_path = os.path.join(input_path, hyperparameter_dir)\n",
        "if not os.path.exists(hyperparameter_path):\n",
        "  print(\"Making \" + hyperparameter_path)\n",
        "  os.mkdir(hyperparameter_path)"
      ]
    },
    {
      "cell_type": "code",
      "execution_count": null,
      "metadata": {
        "colab": {
          "background_save": true,
          "base_uri": "https://localhost:8080/"
        },
        "id": "I6KJC61ZDAjD",
        "outputId": "c7e827d9-07cc-4296-f5be-1ed335565958"
      },
      "outputs": [
        {
          "name": "stdout",
          "output_type": "stream",
          "text": [
            "\tTrainEpoch 0:\t{'bce': -11713.169934176192, 'kl': 66.86141033848862, 'elbo': -11780.03134451467, 'll': 0.0, 'mi': 0.0, 'cov_norm': 0.0, 'beta': 1.0, 'comp_000_h2/curvature': -1.0, 'comp_001_e10/curvature': 0.0}\n",
            "\tTrainEpoch 1:\t{'bce': -10133.25290661171, 'kl': 29.08170421030118, 'elbo': -10162.334610822012, 'll': 0.0, 'mi': 0.0, 'cov_norm': 0.0, 'beta': 1.0, 'comp_000_h2/curvature': -1.0, 'comp_001_e10/curvature': 0.0}\n",
            "\tTrainEpoch 2:\t{'bce': -10059.42711520845, 'kl': 27.01427656320849, 'elbo': -10086.441391771657, 'll': 0.0, 'mi': 0.0, 'cov_norm': 0.0, 'beta': 1.0, 'comp_000_h2/curvature': -1.0, 'comp_001_e10/curvature': 0.0}\n",
            "\tTrainEpoch 3:\t{'bce': -9993.301949351664, 'kl': 26.37328791864989, 'elbo': -10019.675237270314, 'll': 0.0, 'mi': 0.0, 'cov_norm': 0.0, 'beta': 1.0, 'comp_000_h2/curvature': -1.0, 'comp_001_e10/curvature': 0.0}\n",
            "\tTrainEpoch 4:\t{'bce': -9925.237433696257, 'kl': 26.983547349030093, 'elbo': -9952.220981045284, 'll': 0.0, 'mi': 0.0, 'cov_norm': 0.0, 'beta': 1.0, 'comp_000_h2/curvature': -1.0, 'comp_001_e10/curvature': 0.0}\n",
            "\tTrainEpoch 5:\t{'bce': -9877.54594757672, 'kl': 27.603288115637675, 'elbo': -9905.149235692355, 'll': 0.0, 'mi': 0.0, 'cov_norm': 0.0, 'beta': 1.0, 'comp_000_h2/curvature': -1.0, 'comp_001_e10/curvature': 0.0}\n",
            "\tTrainEpoch 6:\t{'bce': -9843.31658487362, 'kl': 27.517746448040516, 'elbo': -9870.834331321654, 'll': 0.0, 'mi': 0.0, 'cov_norm': 0.0, 'beta': 1.0, 'comp_000_h2/curvature': -1.0, 'comp_001_e10/curvature': 0.0}\n",
            "\tTrainEpoch 7:\t{'bce': -9821.307885035052, 'kl': 27.40322970000466, 'elbo': -9848.711114735055, 'll': 0.0, 'mi': 0.0, 'cov_norm': 0.0, 'beta': 1.0, 'comp_000_h2/curvature': -1.0, 'comp_001_e10/curvature': 0.0}\n",
            "\tTrainEpoch 8:\t{'bce': -9800.997630514774, 'kl': 27.402377077885877, 'elbo': -9828.400007592656, 'll': 0.0, 'mi': 0.0, 'cov_norm': 0.0, 'beta': 1.0, 'comp_000_h2/curvature': -1.0, 'comp_001_e10/curvature': 0.0}\n",
            "\tTrainEpoch 9:\t{'bce': -9779.376515787024, 'kl': 27.452814208185387, 'elbo': -9806.829329995213, 'll': 0.0, 'mi': 0.0, 'cov_norm': 0.0, 'beta': 1.0, 'comp_000_h2/curvature': -1.0, 'comp_001_e10/curvature': 0.0}\n",
            "\tTrainEpoch 10:\t{'bce': -9762.203575041547, 'kl': 27.620160578281798, 'elbo': -9789.823735619833, 'll': 0.0, 'mi': 0.0, 'cov_norm': 0.0, 'beta': 1.0, 'comp_000_h2/curvature': -1.0, 'comp_001_e10/curvature': 0.0}\n",
            "\tTrainEpoch 11:\t{'bce': -9742.180307381484, 'kl': 27.63475952436347, 'elbo': -9769.815066905852, 'll': 0.0, 'mi': 0.0, 'cov_norm': 0.0, 'beta': 1.0, 'comp_000_h2/curvature': -1.0, 'comp_001_e10/curvature': 0.0}\n",
            "\tTrainEpoch 12:\t{'bce': -9721.5999178743, 'kl': 27.949544766248763, 'elbo': -9749.549462640558, 'll': 0.0, 'mi': 0.0, 'cov_norm': 0.0, 'beta': 1.0, 'comp_000_h2/curvature': -1.0, 'comp_001_e10/curvature': 0.0}\n",
            "\tTrainEpoch 13:\t{'bce': -9704.425017532052, 'kl': 28.06516741099764, 'elbo': -9732.490184943055, 'll': 0.0, 'mi': 0.0, 'cov_norm': 0.0, 'beta': 1.0, 'comp_000_h2/curvature': -1.0, 'comp_001_e10/curvature': 0.0}\n",
            "\tTrainEpoch 14:\t{'bce': -9680.543052625106, 'kl': 28.229548067091347, 'elbo': -9708.772600692197, 'll': 0.0, 'mi': 0.0, 'cov_norm': 0.0, 'beta': 1.0, 'comp_000_h2/curvature': -1.0, 'comp_001_e10/curvature': 0.0}\n",
            "\tTrainEpoch 15:\t{'bce': -9661.587998071665, 'kl': 28.328356082998525, 'elbo': -9689.916354154666, 'll': 0.0, 'mi': 0.0, 'cov_norm': 0.0, 'beta': 1.0, 'comp_000_h2/curvature': -1.0, 'comp_001_e10/curvature': 0.0}\n",
            "\tTrainEpoch 16:\t{'bce': -9643.979743002432, 'kl': 28.393798416241673, 'elbo': -9672.37354141867, 'll': 0.0, 'mi': 0.0, 'cov_norm': 0.0, 'beta': 1.0, 'comp_000_h2/curvature': -1.0, 'comp_001_e10/curvature': 0.0}\n",
            "\tTrainEpoch 17:\t{'bce': -9624.06530611383, 'kl': 28.424259643118287, 'elbo': -9652.489565756952, 'll': 0.0, 'mi': 0.0, 'cov_norm': 0.0, 'beta': 1.0, 'comp_000_h2/curvature': -1.0, 'comp_001_e10/curvature': 0.0}\n",
            "\tTrainEpoch 18:\t{'bce': -9607.659672752083, 'kl': 28.396402716734134, 'elbo': -9636.056075468821, 'll': 0.0, 'mi': 0.0, 'cov_norm': 0.0, 'beta': 1.0, 'comp_000_h2/curvature': -1.0, 'comp_001_e10/curvature': 0.0}\n",
            "\tTrainEpoch 19:\t{'bce': -9592.400688054659, 'kl': 28.538428182952195, 'elbo': -9620.939116237612, 'll': 0.0, 'mi': 0.0, 'cov_norm': 0.0, 'beta': 1.0, 'comp_000_h2/curvature': -1.0, 'comp_001_e10/curvature': 0.0}\n",
            "\tTrainEpoch 20:\t{'bce': -9577.120106996821, 'kl': 28.60168759352026, 'elbo': -9605.721794590347, 'll': 0.0, 'mi': 0.0, 'cov_norm': 0.0, 'beta': 1.0, 'comp_000_h2/curvature': -1.0, 'comp_001_e10/curvature': 0.0}\n",
            "\tTrainEpoch 21:\t{'bce': -9562.631780486156, 'kl': 28.722590817765717, 'elbo': -9591.35437130392, 'll': 0.0, 'mi': 0.0, 'cov_norm': 0.0, 'beta': 1.0, 'comp_000_h2/curvature': -1.0, 'comp_001_e10/curvature': 0.0}\n",
            "\tTrainEpoch 22:\t{'bce': -9547.852739645352, 'kl': 29.015242176616958, 'elbo': -9576.867981821975, 'll': 0.0, 'mi': 0.0, 'cov_norm': 0.0, 'beta': 1.0, 'comp_000_h2/curvature': -1.0, 'comp_001_e10/curvature': 0.0}\n",
            "\tTrainEpoch 23:\t{'bce': -9534.212028101683, 'kl': 29.222439181983578, 'elbo': -9563.434467283667, 'll': 0.0, 'mi': 0.0, 'cov_norm': 0.0, 'beta': 1.0, 'comp_000_h2/curvature': -1.0, 'comp_001_e10/curvature': 0.0}\n",
            "\tTrainEpoch 24:\t{'bce': -9518.247011970188, 'kl': 29.649157355490235, 'elbo': -9547.896169325682, 'll': 0.0, 'mi': 0.0, 'cov_norm': 0.0, 'beta': 1.0, 'comp_000_h2/curvature': -1.0, 'comp_001_e10/curvature': 0.0}\n",
            "\tTrainEpoch 25:\t{'bce': -9504.738591458557, 'kl': 29.93611372647401, 'elbo': -9534.674705185029, 'll': 0.0, 'mi': 0.0, 'cov_norm': 0.0, 'beta': 1.0, 'comp_000_h2/curvature': -1.0, 'comp_001_e10/curvature': 0.0}\n",
            "\tTrainEpoch 26:\t{'bce': -9490.521911451879, 'kl': 30.327748546295908, 'elbo': -9520.849659998175, 'll': 0.0, 'mi': 0.0, 'cov_norm': 0.0, 'beta': 1.0, 'comp_000_h2/curvature': -1.0, 'comp_001_e10/curvature': 0.0}\n",
            "\tTrainEpoch 27:\t{'bce': -9478.472667624543, 'kl': 30.519885564582232, 'elbo': -9508.992553189131, 'll': 0.0, 'mi': 0.0, 'cov_norm': 0.0, 'beta': 1.0, 'comp_000_h2/curvature': -1.0, 'comp_001_e10/curvature': 0.0}\n",
            "\tTrainEpoch 28:\t{'bce': -9466.296063936112, 'kl': 30.793677525485336, 'elbo': -9497.08974146159, 'll': 0.0, 'mi': 0.0, 'cov_norm': 0.0, 'beta': 1.0, 'comp_000_h2/curvature': -1.0, 'comp_001_e10/curvature': 0.0}\n",
            "\tTrainEpoch 29:\t{'bce': -9454.001082414434, 'kl': 30.854140316849595, 'elbo': -9484.855222731283, 'll': 0.0, 'mi': 0.0, 'cov_norm': 0.0, 'beta': 1.0, 'comp_000_h2/curvature': -1.0, 'comp_001_e10/curvature': 0.0}\n",
            "\tTrainEpoch 30:\t{'bce': -9444.027124154714, 'kl': 31.06863263473956, 'elbo': -9475.09575678946, 'll': 0.0, 'mi': 0.0, 'cov_norm': 0.0, 'beta': 1.0, 'comp_000_h2/curvature': -1.0, 'comp_001_e10/curvature': 0.0}\n",
            "\tTrainEpoch 31:\t{'bce': -9433.492876503371, 'kl': 31.240676764210043, 'elbo': -9464.733553267588, 'll': 0.0, 'mi': 0.0, 'cov_norm': 0.0, 'beta': 1.0, 'comp_000_h2/curvature': -1.0, 'comp_001_e10/curvature': 0.0}\n",
            "\tTrainEpoch 32:\t{'bce': -9422.266694942777, 'kl': 31.348795700281574, 'elbo': -9453.615490643051, 'll': 0.0, 'mi': 0.0, 'cov_norm': 0.0, 'beta': 1.0, 'comp_000_h2/curvature': -1.0, 'comp_001_e10/curvature': 0.0}\n",
            "\tTrainEpoch 33:\t{'bce': -9413.13452258392, 'kl': 31.41218603180518, 'elbo': -9444.54670861573, 'll': 0.0, 'mi': 0.0, 'cov_norm': 0.0, 'beta': 1.0, 'comp_000_h2/curvature': -1.0, 'comp_001_e10/curvature': 0.0}\n",
            "\tTrainEpoch 34:\t{'bce': -9405.558810521803, 'kl': 31.452749175517592, 'elbo': -9437.011559697326, 'll': 0.0, 'mi': 0.0, 'cov_norm': 0.0, 'beta': 1.0, 'comp_000_h2/curvature': -1.0, 'comp_001_e10/curvature': 0.0}\n",
            "\tTrainEpoch 35:\t{'bce': -9397.984830064162, 'kl': 31.457290463091734, 'elbo': -9429.442120527252, 'll': 0.0, 'mi': 0.0, 'cov_norm': 0.0, 'beta': 1.0, 'comp_000_h2/curvature': -1.0, 'comp_001_e10/curvature': 0.0}\n",
            "\tTrainEpoch 36:\t{'bce': -9390.17681219676, 'kl': 31.480102018136684, 'elbo': -9421.656914214893, 'll': 0.0, 'mi': 0.0, 'cov_norm': 0.0, 'beta': 1.0, 'comp_000_h2/curvature': -1.0, 'comp_001_e10/curvature': 0.0}\n",
            "\tTrainEpoch 37:\t{'bce': -9382.753903583576, 'kl': 31.473047681857405, 'elbo': -9414.226951265431, 'll': 0.0, 'mi': 0.0, 'cov_norm': 0.0, 'beta': 1.0, 'comp_000_h2/curvature': -1.0, 'comp_001_e10/curvature': 0.0}\n",
            "\tTrainEpoch 38:\t{'bce': -9376.19932758995, 'kl': 31.58052720633306, 'elbo': -9407.779854796278, 'll': 0.0, 'mi': 0.0, 'cov_norm': 0.0, 'beta': 1.0, 'comp_000_h2/curvature': -1.0, 'comp_001_e10/curvature': 0.0}\n",
            "\tTrainEpoch 39:\t{'bce': -9370.503045448282, 'kl': 31.5512949794781, 'elbo': -9402.054340427752, 'll': 0.0, 'mi': 0.0, 'cov_norm': 0.0, 'beta': 1.0, 'comp_000_h2/curvature': -1.0, 'comp_001_e10/curvature': 0.0}\n",
            "\tTrainEpoch 40:\t{'bce': -9365.477976038304, 'kl': 31.590630810826543, 'elbo': -9397.068606849136, 'll': 0.0, 'mi': 0.0, 'cov_norm': 0.0, 'beta': 1.0, 'comp_000_h2/curvature': -1.0, 'comp_001_e10/curvature': 0.0}\n",
            "\tTrainEpoch 41:\t{'bce': -9360.226075610315, 'kl': 31.46915665895973, 'elbo': -9391.695232269276, 'll': 0.0, 'mi': 0.0, 'cov_norm': 0.0, 'beta': 1.0, 'comp_000_h2/curvature': -1.0, 'comp_001_e10/curvature': 0.0}\n",
            "\tTrainEpoch 42:\t{'bce': -9354.193953417936, 'kl': 31.568753392810155, 'elbo': -9385.76270681075, 'll': 0.0, 'mi': 0.0, 'cov_norm': 0.0, 'beta': 1.0, 'comp_000_h2/curvature': -1.0, 'comp_001_e10/curvature': 0.0}\n",
            "\tTrainEpoch 43:\t{'bce': -9350.467323339344, 'kl': 31.60277131652176, 'elbo': -9382.07009465586, 'll': 0.0, 'mi': 0.0, 'cov_norm': 0.0, 'beta': 1.0, 'comp_000_h2/curvature': -1.0, 'comp_001_e10/curvature': 0.0}\n",
            "\tTrainEpoch 44:\t{'bce': -9345.73796635963, 'kl': 31.580001843975886, 'elbo': -9377.317968203603, 'll': 0.0, 'mi': 0.0, 'cov_norm': 0.0, 'beta': 1.0, 'comp_000_h2/curvature': -1.0, 'comp_001_e10/curvature': 0.0}\n",
            "\tTrainEpoch 45:\t{'bce': -9341.235903599281, 'kl': 31.623225328299533, 'elbo': -9372.859128927583, 'll': 0.0, 'mi': 0.0, 'cov_norm': 0.0, 'beta': 1.0, 'comp_000_h2/curvature': -1.0, 'comp_001_e10/curvature': 0.0}\n",
            "\tTrainEpoch 46:\t{'bce': -9336.801459388871, 'kl': 31.654986776419715, 'elbo': -9368.456446165295, 'll': 0.0, 'mi': 0.0, 'cov_norm': 0.0, 'beta': 1.0, 'comp_000_h2/curvature': -1.0, 'comp_001_e10/curvature': 0.0}\n",
            "\tTrainEpoch 47:\t{'bce': -9333.502713185182, 'kl': 31.69201697475533, 'elbo': -9365.194730159927, 'll': 0.0, 'mi': 0.0, 'cov_norm': 0.0, 'beta': 1.0, 'comp_000_h2/curvature': -1.0, 'comp_001_e10/curvature': 0.0}\n",
            "\tTrainEpoch 48:\t{'bce': -9329.471802477783, 'kl': 31.666646642122775, 'elbo': -9361.138449119911, 'll': 0.0, 'mi': 0.0, 'cov_norm': 0.0, 'beta': 1.0, 'comp_000_h2/curvature': -1.0, 'comp_001_e10/curvature': 0.0}\n",
            "\tTrainEpoch 49:\t{'bce': -9324.581712775436, 'kl': 31.740888007740164, 'elbo': -9356.32260078318, 'll': 0.0, 'mi': 0.0, 'cov_norm': 0.0, 'beta': 1.0, 'comp_000_h2/curvature': -1.0, 'comp_001_e10/curvature': 0.0}\n",
            "\tTrainEpoch 50:\t{'bce': -9319.597378234846, 'kl': 31.774609385753514, 'elbo': -9351.371987620601, 'll': 0.0, 'mi': 0.0, 'cov_norm': 0.0, 'beta': 1.0, 'comp_000_h2/curvature': -1.0, 'comp_001_e10/curvature': 0.0}\n",
            "\tTrainEpoch 51:\t{'bce': -9316.631400628718, 'kl': 31.743861538067847, 'elbo': -9348.375262166785, 'll': 0.0, 'mi': 0.0, 'cov_norm': 0.0, 'beta': 1.0, 'comp_000_h2/curvature': -1.0, 'comp_001_e10/curvature': 0.0}\n",
            "\tTrainEpoch 52:\t{'bce': -9313.123056189086, 'kl': 31.82148589454595, 'elbo': -9344.944542083631, 'll': 0.0, 'mi': 0.0, 'cov_norm': 0.0, 'beta': 1.0, 'comp_000_h2/curvature': -1.0, 'comp_001_e10/curvature': 0.0}\n",
            "\tTrainEpoch 53:\t{'bce': -9308.084600409926, 'kl': 31.795046328553614, 'elbo': -9339.879646738482, 'll': 0.0, 'mi': 0.0, 'cov_norm': 0.0, 'beta': 1.0, 'comp_000_h2/curvature': -1.0, 'comp_001_e10/curvature': 0.0}\n",
            "\tTrainEpoch 54:\t{'bce': -9305.017423747393, 'kl': 31.800724663083297, 'elbo': -9336.81814841048, 'll': 0.0, 'mi': 0.0, 'cov_norm': 0.0, 'beta': 1.0, 'comp_000_h2/curvature': -1.0, 'comp_001_e10/curvature': 0.0}\n",
            "\tTrainEpoch 55:\t{'bce': -9300.748404354208, 'kl': 31.809517785760125, 'elbo': -9332.55792213997, 'll': 0.0, 'mi': 0.0, 'cov_norm': 0.0, 'beta': 1.0, 'comp_000_h2/curvature': -1.0, 'comp_001_e10/curvature': 0.0}\n",
            "\tTrainEpoch 56:\t{'bce': -9298.203161926016, 'kl': 31.861829299035257, 'elbo': -9330.064991225048, 'll': 0.0, 'mi': 0.0, 'cov_norm': 0.0, 'beta': 1.0, 'comp_000_h2/curvature': -1.0, 'comp_001_e10/curvature': 0.0}\n",
            "\tTrainEpoch 57:\t{'bce': -9295.186693552198, 'kl': 31.91433576417789, 'elbo': -9327.10102931638, 'll': 0.0, 'mi': 0.0, 'cov_norm': 0.0, 'beta': 1.0, 'comp_000_h2/curvature': -1.0, 'comp_001_e10/curvature': 0.0}\n",
            "\tTrainEpoch 58:\t{'bce': -9291.16562597927, 'kl': 31.84094897425049, 'elbo': -9323.00657495352, 'll': 0.0, 'mi': 0.0, 'cov_norm': 0.0, 'beta': 1.0, 'comp_000_h2/curvature': -1.0, 'comp_001_e10/curvature': 0.0}\n",
            "\tTrainEpoch 59:\t{'bce': -9288.598417644316, 'kl': 31.843040752939345, 'elbo': -9320.44145839726, 'll': 0.0, 'mi': 0.0, 'cov_norm': 0.0, 'beta': 1.0, 'comp_000_h2/curvature': -1.0, 'comp_001_e10/curvature': 0.0}\n",
            "\tTrainEpoch 60:\t{'bce': -9286.898291902142, 'kl': 31.862003476281004, 'elbo': -9318.760295378423, 'll': 0.0, 'mi': 0.0, 'cov_norm': 0.0, 'beta': 1.0, 'comp_000_h2/curvature': -1.0, 'comp_001_e10/curvature': 0.0}\n",
            "\tTrainEpoch 61:\t{'bce': -9285.06253603486, 'kl': 31.82541655503662, 'elbo': -9316.887952589901, 'll': 0.0, 'mi': 0.0, 'cov_norm': 0.0, 'beta': 1.0, 'comp_000_h2/curvature': -1.0, 'comp_001_e10/curvature': 0.0}\n",
            "\tTrainEpoch 62:\t{'bce': -9280.565071011604, 'kl': 31.895926377774757, 'elbo': -9312.46099738938, 'll': 0.0, 'mi': 0.0, 'cov_norm': 0.0, 'beta': 1.0, 'comp_000_h2/curvature': -1.0, 'comp_001_e10/curvature': 0.0}\n",
            "\tTrainEpoch 63:\t{'bce': -9278.13183696463, 'kl': 31.924342982575855, 'elbo': -9310.0561799472, 'll': 0.0, 'mi': 0.0, 'cov_norm': 0.0, 'beta': 1.0, 'comp_000_h2/curvature': -1.0, 'comp_001_e10/curvature': 0.0}\n",
            "\tTrainEpoch 64:\t{'bce': -9275.90206456035, 'kl': 31.86911611402926, 'elbo': -9307.771180674376, 'll': 0.0, 'mi': 0.0, 'cov_norm': 0.0, 'beta': 1.0, 'comp_000_h2/curvature': -1.0, 'comp_001_e10/curvature': 0.0}\n",
            "\tTrainEpoch 65:\t{'bce': -9274.797775757734, 'kl': 31.93609401834332, 'elbo': -9306.733869776073, 'll': 0.0, 'mi': 0.0, 'cov_norm': 0.0, 'beta': 1.0, 'comp_000_h2/curvature': -1.0, 'comp_001_e10/curvature': 0.0}\n",
            "\tTrainEpoch 66:\t{'bce': -9272.615371634403, 'kl': 31.866574841360205, 'elbo': -9304.481946475762, 'll': 0.0, 'mi': 0.0, 'cov_norm': 0.0, 'beta': 1.0, 'comp_000_h2/curvature': -1.0, 'comp_001_e10/curvature': 0.0}\n",
            "\tTrainEpoch 67:\t{'bce': -9267.809300586438, 'kl': 31.84004826923681, 'elbo': -9299.64934885567, 'll': 0.0, 'mi': 0.0, 'cov_norm': 0.0, 'beta': 1.0, 'comp_000_h2/curvature': -1.0, 'comp_001_e10/curvature': 0.0}\n",
            "\tTrainEpoch 68:\t{'bce': -9264.844263723813, 'kl': 32.00536999119898, 'elbo': -9296.849633715019, 'll': 0.0, 'mi': 0.0, 'cov_norm': 0.0, 'beta': 1.0, 'comp_000_h2/curvature': -1.0, 'comp_001_e10/curvature': 0.0}\n",
            "\tTrainEpoch 69:\t{'bce': -9262.491887692537, 'kl': 31.931733026035303, 'elbo': -9294.423620718579, 'll': 0.0, 'mi': 0.0, 'cov_norm': 0.0, 'beta': 1.0, 'comp_000_h2/curvature': -1.0, 'comp_001_e10/curvature': 0.0}\n",
            "\tTrainEpoch 70:\t{'bce': -9261.718105826023, 'kl': 31.998762152076456, 'elbo': -9293.716867978097, 'll': 0.0, 'mi': 0.0, 'cov_norm': 0.0, 'beta': 1.0, 'comp_000_h2/curvature': -1.0, 'comp_001_e10/curvature': 0.0}\n",
            "\tTrainEpoch 71:\t{'bce': -9258.509801509757, 'kl': 31.972107376108553, 'elbo': -9290.481908885868, 'll': 0.0, 'mi': 0.0, 'cov_norm': 0.0, 'beta': 1.0, 'comp_000_h2/curvature': -1.0, 'comp_001_e10/curvature': 0.0}\n",
            "\tTrainEpoch 72:\t{'bce': -9259.255297862514, 'kl': 32.00638421447546, 'elbo': -9291.26168207699, 'll': 0.0, 'mi': 0.0, 'cov_norm': 0.0, 'beta': 1.0, 'comp_000_h2/curvature': -1.0, 'comp_001_e10/curvature': 0.0}\n",
            "\tTrainEpoch 73:\t{'bce': -9255.7733965966, 'kl': 32.041530242105146, 'elbo': -9287.814926838713, 'll': 0.0, 'mi': 0.0, 'cov_norm': 0.0, 'beta': 1.0, 'comp_000_h2/curvature': -1.0, 'comp_001_e10/curvature': 0.0}\n",
            "\tTrainEpoch 74:\t{'bce': -9253.116731870417, 'kl': 31.99988666902968, 'elbo': -9285.116618539443, 'll': 0.0, 'mi': 0.0, 'cov_norm': 0.0, 'beta': 1.0, 'comp_000_h2/curvature': -1.0, 'comp_001_e10/curvature': 0.0}\n",
            "\tTrainEpoch 75:\t{'bce': -9252.174399140593, 'kl': 32.00393294193997, 'elbo': -9284.17833208253, 'll': 0.0, 'mi': 0.0, 'cov_norm': 0.0, 'beta': 1.0, 'comp_000_h2/curvature': -1.0, 'comp_001_e10/curvature': 0.0}\n",
            "\tTrainEpoch 76:\t{'bce': -9248.899256428596, 'kl': 32.04264721143568, 'elbo': -9280.941903640032, 'll': 0.0, 'mi': 0.0, 'cov_norm': 0.0, 'beta': 1.0, 'comp_000_h2/curvature': -1.0, 'comp_001_e10/curvature': 0.0}\n",
            "\tTrainEpoch 77:\t{'bce': -9247.316328914376, 'kl': 32.04644839426287, 'elbo': -9279.36277730863, 'll': 0.0, 'mi': 0.0, 'cov_norm': 0.0, 'beta': 1.0, 'comp_000_h2/curvature': -1.0, 'comp_001_e10/curvature': 0.0}\n",
            "\tTrainEpoch 78:\t{'bce': -9245.580379258583, 'kl': 32.080725036500134, 'elbo': -9277.661104295077, 'll': 0.0, 'mi': 0.0, 'cov_norm': 0.0, 'beta': 1.0, 'comp_000_h2/curvature': -1.0, 'comp_001_e10/curvature': 0.0}\n",
            "\tTrainEpoch 79:\t{'bce': -9244.391743002334, 'kl': 32.10325240866227, 'elbo': -9276.494995410996, 'll': 0.0, 'mi': 0.0, 'cov_norm': 0.0, 'beta': 1.0, 'comp_000_h2/curvature': -1.0, 'comp_001_e10/curvature': 0.0}\n",
            "\tTrainEpoch 80:\t{'bce': -9242.01490085009, 'kl': 32.18808314789476, 'elbo': -9274.20298399798, 'll': 0.0, 'mi': 0.0, 'cov_norm': 0.0, 'beta': 1.0, 'comp_000_h2/curvature': -1.0, 'comp_001_e10/curvature': 0.0}\n",
            "\tTrainEpoch 81:\t{'bce': -9240.446483283202, 'kl': 32.166600081389646, 'elbo': -9272.613083364588, 'll': 0.0, 'mi': 0.0, 'cov_norm': 0.0, 'beta': 1.0, 'comp_000_h2/curvature': -1.0, 'comp_001_e10/curvature': 0.0}\n",
            "\tTrainEpoch 82:\t{'bce': -9239.431391211132, 'kl': 32.117692454262496, 'elbo': -9271.549083665393, 'll': 0.0, 'mi': 0.0, 'cov_norm': 0.0, 'beta': 1.0, 'comp_000_h2/curvature': -1.0, 'comp_001_e10/curvature': 0.0}\n",
            "\tTrainEpoch 83:\t{'bce': -9238.19856214309, 'kl': 32.104742290644836, 'elbo': -9270.30330443374, 'll': 0.0, 'mi': 0.0, 'cov_norm': 0.0, 'beta': 1.0, 'comp_000_h2/curvature': -1.0, 'comp_001_e10/curvature': 0.0}\n",
            "\tTrainEpoch 84:\t{'bce': -9236.17597158047, 'kl': 32.143866009097174, 'elbo': -9268.319837589564, 'll': 0.0, 'mi': 0.0, 'cov_norm': 0.0, 'beta': 1.0, 'comp_000_h2/curvature': -1.0, 'comp_001_e10/curvature': 0.0}\n",
            "\tTrainEpoch 85:\t{'bce': -9234.840198634709, 'kl': 32.1597086151101, 'elbo': -9266.99990724981, 'll': 0.0, 'mi': 0.0, 'cov_norm': 0.0, 'beta': 1.0, 'comp_000_h2/curvature': -1.0, 'comp_001_e10/curvature': 0.0}\n",
            "\tTrainEpoch 86:\t{'bce': -9232.92188657727, 'kl': 32.15821821650966, 'elbo': -9265.080104793777, 'll': 0.0, 'mi': 0.0, 'cov_norm': 0.0, 'beta': 1.0, 'comp_000_h2/curvature': -1.0, 'comp_001_e10/curvature': 0.0}\n",
            "\tTrainEpoch 87:\t{'bce': -9231.849277704381, 'kl': 32.23289312428897, 'elbo': -9264.082170828668, 'll': 0.0, 'mi': 0.0, 'cov_norm': 0.0, 'beta': 1.0, 'comp_000_h2/curvature': -1.0, 'comp_001_e10/curvature': 0.0}\n",
            "\tTrainEpoch 88:\t{'bce': -9230.85643635198, 'kl': 32.21977360130197, 'elbo': -9263.07620995328, 'll': 0.0, 'mi': 0.0, 'cov_norm': 0.0, 'beta': 1.0, 'comp_000_h2/curvature': -1.0, 'comp_001_e10/curvature': 0.0}\n",
            "\tTrainEpoch 89:\t{'bce': -9228.827195730028, 'kl': 32.24523589606305, 'elbo': -9261.072431626088, 'll': 0.0, 'mi': 0.0, 'cov_norm': 0.0, 'beta': 1.0, 'comp_000_h2/curvature': -1.0, 'comp_001_e10/curvature': 0.0}\n",
            "\tTrainEpoch 90:\t{'bce': -9228.43472675333, 'kl': 32.23678558904293, 'elbo': -9260.671512342384, 'll': 0.0, 'mi': 0.0, 'cov_norm': 0.0, 'beta': 1.0, 'comp_000_h2/curvature': -1.0, 'comp_001_e10/curvature': 0.0}\n",
            "\tTrainEpoch 91:\t{'bce': -9226.648978448327, 'kl': 32.27117638585746, 'elbo': -9258.920154834188, 'll': 0.0, 'mi': 0.0, 'cov_norm': 0.0, 'beta': 1.0, 'comp_000_h2/curvature': -1.0, 'comp_001_e10/curvature': 0.0}\n",
            "\tTrainEpoch 92:\t{'bce': -9225.58564126813, 'kl': 32.219337985114585, 'elbo': -9257.80497925324, 'll': 0.0, 'mi': 0.0, 'cov_norm': 0.0, 'beta': 1.0, 'comp_000_h2/curvature': -1.0, 'comp_001_e10/curvature': 0.0}\n",
            "\tTrainEpoch 93:\t{'bce': -9224.020157229052, 'kl': 32.30255578298398, 'elbo': -9256.322713012041, 'll': 0.0, 'mi': 0.0, 'cov_norm': 0.0, 'beta': 1.0, 'comp_000_h2/curvature': -1.0, 'comp_001_e10/curvature': 0.0}\n",
            "\tTrainEpoch 94:\t{'bce': -9223.682272365482, 'kl': 32.3069212540643, 'elbo': -9255.98919361955, 'll': 0.0, 'mi': 0.0, 'cov_norm': 0.0, 'beta': 1.0, 'comp_000_h2/curvature': -1.0, 'comp_001_e10/curvature': 0.0}\n",
            "\tTrainEpoch 95:\t{'bce': -9223.115278945384, 'kl': 32.23069515018753, 'elbo': -9255.34597409557, 'll': 0.0, 'mi': 0.0, 'cov_norm': 0.0, 'beta': 1.0, 'comp_000_h2/curvature': -1.0, 'comp_001_e10/curvature': 0.0}\n",
            "\tTrainEpoch 96:\t{'bce': -9221.197056998048, 'kl': 32.29388125802455, 'elbo': -9253.49093825607, 'll': 0.0, 'mi': 0.0, 'cov_norm': 0.0, 'beta': 1.0, 'comp_000_h2/curvature': -1.0, 'comp_001_e10/curvature': 0.0}\n",
            "\tTrainEpoch 97:\t{'bce': -9219.447022662504, 'kl': 32.36033749048708, 'elbo': -9251.807360152994, 'll': 0.0, 'mi': 0.0, 'cov_norm': 0.0, 'beta': 1.0, 'comp_000_h2/curvature': -1.0, 'comp_001_e10/curvature': 0.0}\n",
            "\tTrainEpoch 98:\t{'bce': -9218.903377241833, 'kl': 32.361837590539416, 'elbo': -9251.26521483237, 'll': 0.0, 'mi': 0.0, 'cov_norm': 0.0, 'beta': 1.0, 'comp_000_h2/curvature': -1.0, 'comp_001_e10/curvature': 0.0}\n",
            "\tTrainEpoch 99:\t{'bce': -9217.613745736766, 'kl': 32.28593136088132, 'elbo': -9249.899677097648, 'll': 0.0, 'mi': 0.0, 'cov_norm': 0.0, 'beta': 1.0, 'comp_000_h2/curvature': -1.0, 'comp_001_e10/curvature': 0.0}\n",
            "\tTrainEpoch 100:\t{'bce': -9216.740605920448, 'kl': 32.359980615983666, 'elbo': -9249.100586536433, 'll': 0.0, 'mi': 0.0, 'cov_norm': 0.0, 'beta': 1.0, 'comp_000_h2/curvature': -1.0, 'comp_001_e10/curvature': 0.0}\n",
            "\tTrainEpoch 101:\t{'bce': -9216.952566255914, 'kl': 32.35116648569907, 'elbo': -9249.30373274162, 'll': 0.0, 'mi': 0.0, 'cov_norm': 0.0, 'beta': 1.0, 'comp_000_h2/curvature': -1.0, 'comp_001_e10/curvature': 0.0}\n",
            "\tTrainEpoch 102:\t{'bce': -9215.872930472784, 'kl': 32.337517056461465, 'elbo': -9248.210447529244, 'll': 0.0, 'mi': 0.0, 'cov_norm': 0.0, 'beta': 1.0, 'comp_000_h2/curvature': -1.0, 'comp_001_e10/curvature': 0.0}\n",
            "\tTrainEpoch 103:\t{'bce': -9214.08101720018, 'kl': 32.362235898903585, 'elbo': -9246.443253099089, 'll': 0.0, 'mi': 0.0, 'cov_norm': 0.0, 'beta': 1.0, 'comp_000_h2/curvature': -1.0, 'comp_001_e10/curvature': 0.0}\n",
            "\tTrainEpoch 104:\t{'bce': -9212.76700199605, 'kl': 32.37245150984939, 'elbo': -9245.139453505904, 'll': 0.0, 'mi': 0.0, 'cov_norm': 0.0, 'beta': 1.0, 'comp_000_h2/curvature': -1.0, 'comp_001_e10/curvature': 0.0}\n",
            "\tTrainEpoch 105:\t{'bce': -9211.979002358159, 'kl': 32.4085586899518, 'elbo': -9244.3875610481, 'll': 0.0, 'mi': 0.0, 'cov_norm': 0.0, 'beta': 1.0, 'comp_000_h2/curvature': -1.0, 'comp_001_e10/curvature': 0.0}\n",
            "\tTrainEpoch 106:\t{'bce': -9211.54404648864, 'kl': 32.367877384697266, 'elbo': -9243.91192387334, 'll': 0.0, 'mi': 0.0, 'cov_norm': 0.0, 'beta': 1.0, 'comp_000_h2/curvature': -1.0, 'comp_001_e10/curvature': 0.0}\n",
            "\tTrainEpoch 107:\t{'bce': -9210.970504173576, 'kl': 32.450909513583774, 'elbo': -9243.421413687158, 'll': 0.0, 'mi': 0.0, 'cov_norm': 0.0, 'beta': 1.0, 'comp_000_h2/curvature': -1.0, 'comp_001_e10/curvature': 0.0}\n",
            "\tTrainEpoch 108:\t{'bce': -9210.192205535925, 'kl': 32.41411118464791, 'elbo': -9242.60631672057, 'll': 0.0, 'mi': 0.0, 'cov_norm': 0.0, 'beta': 1.0, 'comp_000_h2/curvature': -1.0, 'comp_001_e10/curvature': 0.0}\n",
            "\tTrainEpoch 109:\t{'bce': -9208.929328222799, 'kl': 32.45647600984851, 'elbo': -9241.385804232652, 'll': 0.0, 'mi': 0.0, 'cov_norm': 0.0, 'beta': 1.0, 'comp_000_h2/curvature': -1.0, 'comp_001_e10/curvature': 0.0}\n",
            "\tTrainEpoch 110:\t{'bce': -9207.914640533903, 'kl': 32.465713534523836, 'elbo': -9240.380354068424, 'll': 0.0, 'mi': 0.0, 'cov_norm': 0.0, 'beta': 1.0, 'comp_000_h2/curvature': -1.0, 'comp_001_e10/curvature': 0.0}\n",
            "\tTrainEpoch 111:\t{'bce': -9207.197147436424, 'kl': 32.438054992402385, 'elbo': -9239.635202428823, 'll': 0.0, 'mi': 0.0, 'cov_norm': 0.0, 'beta': 1.0, 'comp_000_h2/curvature': -1.0, 'comp_001_e10/curvature': 0.0}\n",
            "\tTrainEpoch 112:\t{'bce': -9206.240305409045, 'kl': 32.482886950075645, 'elbo': -9238.723192359115, 'll': 0.0, 'mi': 0.0, 'cov_norm': 0.0, 'beta': 1.0, 'comp_000_h2/curvature': -1.0, 'comp_001_e10/curvature': 0.0}\n",
            "\tTrainEpoch 113:\t{'bce': -9206.127231660012, 'kl': 32.49231052163319, 'elbo': -9238.619542181645, 'll': 0.0, 'mi': 0.0, 'cov_norm': 0.0, 'beta': 1.0, 'comp_000_h2/curvature': -1.0, 'comp_001_e10/curvature': 0.0}\n",
            "\tTrainEpoch 114:\t{'bce': -9204.913021171114, 'kl': 32.48260193948533, 'elbo': -9237.395623110595, 'll': 0.0, 'mi': 0.0, 'cov_norm': 0.0, 'beta': 1.0, 'comp_000_h2/curvature': -1.0, 'comp_001_e10/curvature': 0.0}\n",
            "\tTrainEpoch 115:\t{'bce': -9204.112311970875, 'kl': 32.462505359745, 'elbo': -9236.574817330618, 'll': 0.0, 'mi': 0.0, 'cov_norm': 0.0, 'beta': 1.0, 'comp_000_h2/curvature': -1.0, 'comp_001_e10/curvature': 0.0}\n",
            "\tTrainEpoch 116:\t{'bce': -9203.95370971259, 'kl': 32.49890634575853, 'elbo': -9236.452616058345, 'll': 0.0, 'mi': 0.0, 'cov_norm': 0.0, 'beta': 1.0, 'comp_000_h2/curvature': -1.0, 'comp_001_e10/curvature': 0.0}\n",
            "\tTrainEpoch 117:\t{'bce': -9203.214124843525, 'kl': 32.5669205457574, 'elbo': -9235.781045389285, 'll': 0.0, 'mi': 0.0, 'cov_norm': 0.0, 'beta': 1.0, 'comp_000_h2/curvature': -1.0, 'comp_001_e10/curvature': 0.0}\n",
            "\tTrainEpoch 118:\t{'bce': -9202.644631994479, 'kl': 32.41714184199361, 'elbo': -9235.06177383647, 'll': 0.0, 'mi': 0.0, 'cov_norm': 0.0, 'beta': 1.0, 'comp_000_h2/curvature': -1.0, 'comp_001_e10/curvature': 0.0}\n",
            "\tTrainEpoch 119:\t{'bce': -9201.735249278765, 'kl': 32.53229241980851, 'elbo': -9234.267541698578, 'll': 0.0, 'mi': 0.0, 'cov_norm': 0.0, 'beta': 1.0, 'comp_000_h2/curvature': -1.0, 'comp_001_e10/curvature': 0.0}\n",
            "\tTrainEpoch 120:\t{'bce': -9200.963142564548, 'kl': 32.555099085606045, 'elbo': -9233.518241650158, 'll': 0.0, 'mi': 0.0, 'cov_norm': 0.0, 'beta': 1.0, 'comp_000_h2/curvature': -1.0, 'comp_001_e10/curvature': 0.0}\n",
            "\tTrainEpoch 121:\t{'bce': -9200.587463261532, 'kl': 32.537970240034156, 'elbo': -9233.125433501578, 'll': 0.0, 'mi': 0.0, 'cov_norm': 0.0, 'beta': 1.0, 'comp_000_h2/curvature': -1.0, 'comp_001_e10/curvature': 0.0}\n",
            "\tTrainEpoch 122:\t{'bce': -9199.278926721798, 'kl': 32.54676101769002, 'elbo': -9231.82568773949, 'll': 0.0, 'mi': 0.0, 'cov_norm': 0.0, 'beta': 1.0, 'comp_000_h2/curvature': -1.0, 'comp_001_e10/curvature': 0.0}\n",
            "\tTrainEpoch 123:\t{'bce': -9198.84923947704, 'kl': 32.589601506363536, 'elbo': -9231.438840983408, 'll': 0.0, 'mi': 0.0, 'cov_norm': 0.0, 'beta': 1.0, 'comp_000_h2/curvature': -1.0, 'comp_001_e10/curvature': 0.0}\n",
            "\tTrainEpoch 124:\t{'bce': -9198.269512517221, 'kl': 32.574556742558315, 'elbo': -9230.844069259787, 'll': 0.0, 'mi': 0.0, 'cov_norm': 0.0, 'beta': 1.0, 'comp_000_h2/curvature': -1.0, 'comp_001_e10/curvature': 0.0}\n",
            "\tTrainEpoch 125:\t{'bce': -9197.81490735299, 'kl': 32.580017441200404, 'elbo': -9230.394924794178, 'll': 0.0, 'mi': 0.0, 'cov_norm': 0.0, 'beta': 1.0, 'comp_000_h2/curvature': -1.0, 'comp_001_e10/curvature': 0.0}\n",
            "\tTrainEpoch 126:\t{'bce': -9196.855398803675, 'kl': 32.598624909973, 'elbo': -9229.454023713648, 'll': 0.0, 'mi': 0.0, 'cov_norm': 0.0, 'beta': 1.0, 'comp_000_h2/curvature': -1.0, 'comp_001_e10/curvature': 0.0}\n",
            "\tTrainEpoch 127:\t{'bce': -9195.975598180623, 'kl': 32.569075481140146, 'elbo': -9228.544673661761, 'll': 0.0, 'mi': 0.0, 'cov_norm': 0.0, 'beta': 1.0, 'comp_000_h2/curvature': -1.0, 'comp_001_e10/curvature': 0.0}\n",
            "\tTrainEpoch 128:\t{'bce': -9195.178758979733, 'kl': 32.59723814639516, 'elbo': -9227.775997126135, 'll': 0.0, 'mi': 0.0, 'cov_norm': 0.0, 'beta': 1.0, 'comp_000_h2/curvature': -1.0, 'comp_001_e10/curvature': 0.0}\n",
            "\tTrainEpoch 129:\t{'bce': -9196.004383228717, 'kl': 32.57778339504774, 'elbo': -9228.582166623757, 'll': 0.0, 'mi': 0.0, 'cov_norm': 0.0, 'beta': 1.0, 'comp_000_h2/curvature': -1.0, 'comp_001_e10/curvature': 0.0}\n",
            "\tTrainEpoch 130:\t{'bce': -9195.642351351624, 'kl': 32.56638820972841, 'elbo': -9228.208739561353, 'll': 0.0, 'mi': 0.0, 'cov_norm': 0.0, 'beta': 1.0, 'comp_000_h2/curvature': -1.0, 'comp_001_e10/curvature': 0.0}\n",
            "\tTrainEpoch 131:\t{'bce': -9194.527401286918, 'kl': 32.58019599554843, 'elbo': -9227.107597282473, 'll': 0.0, 'mi': 0.0, 'cov_norm': 0.0, 'beta': 1.0, 'comp_000_h2/curvature': -1.0, 'comp_001_e10/curvature': 0.0}\n",
            "\tTrainEpoch 132:\t{'bce': -9193.482169829602, 'kl': 32.59738387055825, 'elbo': -9226.079553700154, 'll': 0.0, 'mi': 0.0, 'cov_norm': 0.0, 'beta': 1.0, 'comp_000_h2/curvature': -1.0, 'comp_001_e10/curvature': 0.0}\n",
            "\tTrainEpoch 133:\t{'bce': -9194.08483078272, 'kl': 32.6431788325078, 'elbo': -9226.728009615235, 'll': 0.0, 'mi': 0.0, 'cov_norm': 0.0, 'beta': 1.0, 'comp_000_h2/curvature': -1.0, 'comp_001_e10/curvature': 0.0}\n",
            "\tTrainEpoch 134:\t{'bce': -9192.492099259784, 'kl': 32.62316420627823, 'elbo': -9225.115263466056, 'll': 0.0, 'mi': 0.0, 'cov_norm': 0.0, 'beta': 1.0, 'comp_000_h2/curvature': -1.0, 'comp_001_e10/curvature': 0.0}\n",
            "\tTrainEpoch 135:\t{'bce': -9192.360541335534, 'kl': 32.65790658367829, 'elbo': -9225.018447919216, 'll': 0.0, 'mi': 0.0, 'cov_norm': 0.0, 'beta': 1.0, 'comp_000_h2/curvature': -1.0, 'comp_001_e10/curvature': 0.0}\n",
            "\tTrainEpoch 136:\t{'bce': -9192.596934145846, 'kl': 32.600173505164456, 'elbo': -9225.197107651018, 'll': 0.0, 'mi': 0.0, 'cov_norm': 0.0, 'beta': 1.0, 'comp_000_h2/curvature': -1.0, 'comp_001_e10/curvature': 0.0}\n",
            "\tTrainEpoch 137:\t{'bce': -9192.176036670797, 'kl': 32.60895661516854, 'elbo': -9224.78499328596, 'll': 0.0, 'mi': 0.0, 'cov_norm': 0.0, 'beta': 1.0, 'comp_000_h2/curvature': -1.0, 'comp_001_e10/curvature': 0.0}\n",
            "\tTrainEpoch 138:\t{'bce': -9190.164725575263, 'kl': 32.62572456404781, 'elbo': -9222.790450139319, 'll': 0.0, 'mi': 0.0, 'cov_norm': 0.0, 'beta': 1.0, 'comp_000_h2/curvature': -1.0, 'comp_001_e10/curvature': 0.0}\n",
            "\tTrainEpoch 139:\t{'bce': -9189.714678167375, 'kl': 32.64518245730346, 'elbo': -9222.359860624674, 'll': 0.0, 'mi': 0.0, 'cov_norm': 0.0, 'beta': 1.0, 'comp_000_h2/curvature': -1.0, 'comp_001_e10/curvature': 0.0}\n",
            "\tTrainEpoch 140:\t{'bce': -9189.788369377256, 'kl': 32.66496420623551, 'elbo': -9222.453333583488, 'll': 0.0, 'mi': 0.0, 'cov_norm': 0.0, 'beta': 1.0, 'comp_000_h2/curvature': -1.0, 'comp_001_e10/curvature': 0.0}\n",
            "\tTrainEpoch 141:\t{'bce': -9188.93834907001, 'kl': 32.736786151676256, 'elbo': -9221.675135221678, 'll': 0.0, 'mi': 0.0, 'cov_norm': 0.0, 'beta': 1.0, 'comp_000_h2/curvature': -1.0, 'comp_001_e10/curvature': 0.0}\n",
            "\tTrainEpoch 142:\t{'bce': -9188.017864988804, 'kl': 32.694949634550575, 'elbo': -9220.712814623355, 'll': 0.0, 'mi': 0.0, 'cov_norm': 0.0, 'beta': 1.0, 'comp_000_h2/curvature': -1.0, 'comp_001_e10/curvature': 0.0}\n",
            "\tTrainEpoch 143:\t{'bce': -9188.309090519013, 'kl': 32.71899825405316, 'elbo': -9221.02808877307, 'll': 0.0, 'mi': 0.0, 'cov_norm': 0.0, 'beta': 1.0, 'comp_000_h2/curvature': -1.0, 'comp_001_e10/curvature': 0.0}\n",
            "\tTrainEpoch 144:\t{'bce': -9187.774732952148, 'kl': 32.7314699337864, 'elbo': -9220.50620288594, 'll': 0.0, 'mi': 0.0, 'cov_norm': 0.0, 'beta': 1.0, 'comp_000_h2/curvature': -1.0, 'comp_001_e10/curvature': 0.0}\n",
            "\tTrainEpoch 145:\t{'bce': -9188.391581750631, 'kl': 32.703451306549674, 'elbo': -9221.095033057185, 'll': 0.0, 'mi': 0.0, 'cov_norm': 0.0, 'beta': 1.0, 'comp_000_h2/curvature': -1.0, 'comp_001_e10/curvature': 0.0}\n",
            "\tTrainEpoch 146:\t{'bce': -9187.866843891627, 'kl': 32.747561437399625, 'elbo': -9220.614405329025, 'll': 0.0, 'mi': 0.0, 'cov_norm': 0.0, 'beta': 1.0, 'comp_000_h2/curvature': -1.0, 'comp_001_e10/curvature': 0.0}\n",
            "\tTrainEpoch 147:\t{'bce': -9186.644372460514, 'kl': 32.70120277231706, 'elbo': -9219.345575232832, 'll': 0.0, 'mi': 0.0, 'cov_norm': 0.0, 'beta': 1.0, 'comp_000_h2/curvature': -1.0, 'comp_001_e10/curvature': 0.0}\n",
            "\tTrainEpoch 148:\t{'bce': -9185.359484739101, 'kl': 32.74235923968752, 'elbo': -9218.10184397879, 'll': 0.0, 'mi': 0.0, 'cov_norm': 0.0, 'beta': 1.0, 'comp_000_h2/curvature': -1.0, 'comp_001_e10/curvature': 0.0}\n",
            "\tTrainEpoch 149:\t{'bce': -9185.579425796055, 'kl': 32.717820797943816, 'elbo': -9218.29724659399, 'll': 0.0, 'mi': 0.0, 'cov_norm': 0.0, 'beta': 1.0, 'comp_000_h2/curvature': -1.0, 'comp_001_e10/curvature': 0.0}\n",
            "\tTrainEpoch 150:\t{'bce': -9184.932676112678, 'kl': 32.72679461505687, 'elbo': -9217.659470727735, 'll': 0.0, 'mi': 0.0, 'cov_norm': 0.0, 'beta': 1.0, 'comp_000_h2/curvature': -1.0, 'comp_001_e10/curvature': 0.0}\n",
            "\tTrainEpoch 151:\t{'bce': -9185.477148326001, 'kl': 32.67599392542124, 'elbo': -9218.153142251414, 'll': 0.0, 'mi': 0.0, 'cov_norm': 0.0, 'beta': 1.0, 'comp_000_h2/curvature': -1.0, 'comp_001_e10/curvature': 0.0}\n",
            "\tTrainEpoch 152:\t{'bce': -9184.417848858195, 'kl': 32.70527928309835, 'elbo': -9217.123128141302, 'll': 0.0, 'mi': 0.0, 'cov_norm': 0.0, 'beta': 1.0, 'comp_000_h2/curvature': -1.0, 'comp_001_e10/curvature': 0.0}\n",
            "\tTrainEpoch 153:\t{'bce': -9184.453001022926, 'kl': 32.70587509642295, 'elbo': -9217.15887611935, 'll': 0.0, 'mi': 0.0, 'cov_norm': 0.0, 'beta': 1.0, 'comp_000_h2/curvature': -1.0, 'comp_001_e10/curvature': 0.0}\n",
            "\tTrainEpoch 154:\t{'bce': -9183.417733783082, 'kl': 32.76803420183004, 'elbo': -9216.185767984902, 'll': 0.0, 'mi': 0.0, 'cov_norm': 0.0, 'beta': 1.0, 'comp_000_h2/curvature': -1.0, 'comp_001_e10/curvature': 0.0}\n",
            "\tTrainEpoch 155:\t{'bce': -9182.9414074031, 'kl': 32.7659927384767, 'elbo': -9215.707400141571, 'll': 0.0, 'mi': 0.0, 'cov_norm': 0.0, 'beta': 1.0, 'comp_000_h2/curvature': -1.0, 'comp_001_e10/curvature': 0.0}\n",
            "\tTrainEpoch 156:\t{'bce': -9182.703149517834, 'kl': 32.80072117899916, 'elbo': -9215.50387069684, 'll': 0.0, 'mi': 0.0, 'cov_norm': 0.0, 'beta': 1.0, 'comp_000_h2/curvature': -1.0, 'comp_001_e10/curvature': 0.0}\n",
            "\tTrainEpoch 157:\t{'bce': -9182.212390792189, 'kl': 32.75938869474077, 'elbo': -9214.971779486932, 'll': 0.0, 'mi': 0.0, 'cov_norm': 0.0, 'beta': 1.0, 'comp_000_h2/curvature': -1.0, 'comp_001_e10/curvature': 0.0}\n",
            "\tTrainEpoch 158:\t{'bce': -9181.188209887956, 'kl': 32.82913557168725, 'elbo': -9214.017345459653, 'll': 0.0, 'mi': 0.0, 'cov_norm': 0.0, 'beta': 1.0, 'comp_000_h2/curvature': -1.0, 'comp_001_e10/curvature': 0.0}\n",
            "\tTrainEpoch 159:\t{'bce': -9181.47111197804, 'kl': 32.79586349080896, 'elbo': -9214.266975468843, 'll': 0.0, 'mi': 0.0, 'cov_norm': 0.0, 'beta': 1.0, 'comp_000_h2/curvature': -1.0, 'comp_001_e10/curvature': 0.0}\n",
            "\tTrainEpoch 160:\t{'bce': -9182.429004443173, 'kl': 32.75634085230951, 'elbo': -9215.18534529548, 'll': 0.0, 'mi': 0.0, 'cov_norm': 0.0, 'beta': 1.0, 'comp_000_h2/curvature': -1.0, 'comp_001_e10/curvature': 0.0}\n",
            "\tTrainEpoch 161:\t{'bce': -9180.811121286646, 'kl': 32.82283381931066, 'elbo': -9213.633955105965, 'll': 0.0, 'mi': 0.0, 'cov_norm': 0.0, 'beta': 1.0, 'comp_000_h2/curvature': -1.0, 'comp_001_e10/curvature': 0.0}\n",
            "\tTrainEpoch 162:\t{'bce': -9180.969838883715, 'kl': 32.786531504015244, 'elbo': -9213.756370387731, 'll': 0.0, 'mi': 0.0, 'cov_norm': 0.0, 'beta': 1.0, 'comp_000_h2/curvature': -1.0, 'comp_001_e10/curvature': 0.0}\n",
            "\tTrainEpoch 163:\t{'bce': -9179.921888668481, 'kl': 32.78487118648742, 'elbo': -9212.706759854962, 'll': 0.0, 'mi': 0.0, 'cov_norm': 0.0, 'beta': 1.0, 'comp_000_h2/curvature': -1.0, 'comp_001_e10/curvature': 0.0}\n",
            "\tTrainEpoch 164:\t{'bce': -9180.267138421783, 'kl': 32.82297800946989, 'elbo': -9213.090116431253, 'll': 0.0, 'mi': 0.0, 'cov_norm': 0.0, 'beta': 1.0, 'comp_000_h2/curvature': -1.0, 'comp_001_e10/curvature': 0.0}\n",
            "\tTrainEpoch 165:\t{'bce': -9179.25003215694, 'kl': 32.856938549614526, 'elbo': -9212.106970706554, 'll': 0.0, 'mi': 0.0, 'cov_norm': 0.0, 'beta': 1.0, 'comp_000_h2/curvature': -1.0, 'comp_001_e10/curvature': 0.0}\n",
            "\tTrainEpoch 166:\t{'bce': -9179.502697095266, 'kl': 32.858120781510955, 'elbo': -9212.360817876783, 'll': 0.0, 'mi': 0.0, 'cov_norm': 0.0, 'beta': 1.0, 'comp_000_h2/curvature': -1.0, 'comp_001_e10/curvature': 0.0}\n",
            "\tTrainEpoch 167:\t{'bce': -9178.4931361869, 'kl': 32.812113603780425, 'elbo': -9211.305249790677, 'll': 0.0, 'mi': 0.0, 'cov_norm': 0.0, 'beta': 1.0, 'comp_000_h2/curvature': -1.0, 'comp_001_e10/curvature': 0.0}\n",
            "\tTrainEpoch 168:\t{'bce': -9179.116202545454, 'kl': 32.85835976113538, 'elbo': -9211.974562306588, 'll': 0.0, 'mi': 0.0, 'cov_norm': 0.0, 'beta': 1.0, 'comp_000_h2/curvature': -1.0, 'comp_001_e10/curvature': 0.0}\n",
            "\tTrainEpoch 169:\t{'bce': -9177.711882626756, 'kl': 32.832239502991854, 'elbo': -9210.544122129739, 'll': 0.0, 'mi': 0.0, 'cov_norm': 0.0, 'beta': 1.0, 'comp_000_h2/curvature': -1.0, 'comp_001_e10/curvature': 0.0}\n",
            "\tTrainEpoch 170:\t{'bce': -9177.649237594587, 'kl': 32.91532770134777, 'elbo': -9210.564565295943, 'll': 0.0, 'mi': 0.0, 'cov_norm': 0.0, 'beta': 1.0, 'comp_000_h2/curvature': -1.0, 'comp_001_e10/curvature': 0.0}\n",
            "\tTrainEpoch 171:\t{'bce': -9177.467433637672, 'kl': 32.87133954149497, 'elbo': -9210.338773179166, 'll': 0.0, 'mi': 0.0, 'cov_norm': 0.0, 'beta': 1.0, 'comp_000_h2/curvature': -1.0, 'comp_001_e10/curvature': 0.0}\n",
            "\tTrainEpoch 172:\t{'bce': -9177.592605997563, 'kl': 32.870483228107446, 'elbo': -9210.463089225665, 'll': 0.0, 'mi': 0.0, 'cov_norm': 0.0, 'beta': 1.0, 'comp_000_h2/curvature': -1.0, 'comp_001_e10/curvature': 0.0}\n",
            "\tTrainEpoch 173:\t{'bce': -9176.277636518138, 'kl': 32.88321320445199, 'elbo': -9209.160849722588, 'll': 0.0, 'mi': 0.0, 'cov_norm': 0.0, 'beta': 1.0, 'comp_000_h2/curvature': -1.0, 'comp_001_e10/curvature': 0.0}\n",
            "\tTrainEpoch 174:\t{'bce': -9177.011229326261, 'kl': 32.91238343164955, 'elbo': -9209.923612757915, 'll': 0.0, 'mi': 0.0, 'cov_norm': 0.0, 'beta': 1.0, 'comp_000_h2/curvature': -1.0, 'comp_001_e10/curvature': 0.0}\n",
            "\tTrainEpoch 175:\t{'bce': -9176.224944265936, 'kl': 32.87521070891657, 'elbo': -9209.100154974853, 'll': 0.0, 'mi': 0.0, 'cov_norm': 0.0, 'beta': 1.0, 'comp_000_h2/curvature': -1.0, 'comp_001_e10/curvature': 0.0}\n",
            "\tTrainEpoch 176:\t{'bce': -9175.664512817351, 'kl': 32.87819509754928, 'elbo': -9208.542707914896, 'll': 0.0, 'mi': 0.0, 'cov_norm': 0.0, 'beta': 1.0, 'comp_000_h2/curvature': -1.0, 'comp_001_e10/curvature': 0.0}\n",
            "\tTrainEpoch 177:\t{'bce': -9175.284402354335, 'kl': 32.88448594972409, 'elbo': -9208.168888304064, 'll': 0.0, 'mi': 0.0, 'cov_norm': 0.0, 'beta': 1.0, 'comp_000_h2/curvature': -1.0, 'comp_001_e10/curvature': 0.0}\n",
            "\tTrainEpoch 178:\t{'bce': -9175.754755941156, 'kl': 32.89226058999846, 'elbo': -9208.647016531157, 'll': 0.0, 'mi': 0.0, 'cov_norm': 0.0, 'beta': 1.0, 'comp_000_h2/curvature': -1.0, 'comp_001_e10/curvature': 0.0}\n",
            "\tTrainEpoch 179:\t{'bce': -9175.40180576282, 'kl': 32.8587638893565, 'elbo': -9208.26056965217, 'll': 0.0, 'mi': 0.0, 'cov_norm': 0.0, 'beta': 1.0, 'comp_000_h2/curvature': -1.0, 'comp_001_e10/curvature': 0.0}\n",
            "\tTrainEpoch 180:\t{'bce': -9175.20734475643, 'kl': 32.92165365626323, 'elbo': -9208.12899841269, 'll': 0.0, 'mi': 0.0, 'cov_norm': 0.0, 'beta': 1.0, 'comp_000_h2/curvature': -1.0, 'comp_001_e10/curvature': 0.0}\n",
            "\tTrainEpoch 181:\t{'bce': -9175.194899841492, 'kl': 32.93168146978214, 'elbo': -9208.126581311279, 'll': 0.0, 'mi': 0.0, 'cov_norm': 0.0, 'beta': 1.0, 'comp_000_h2/curvature': -1.0, 'comp_001_e10/curvature': 0.0}\n",
            "\tTrainEpoch 182:\t{'bce': -9173.671638564208, 'kl': 32.87947424264113, 'elbo': -9206.55111280685, 'll': 0.0, 'mi': 0.0, 'cov_norm': 0.0, 'beta': 1.0, 'comp_000_h2/curvature': -1.0, 'comp_001_e10/curvature': 0.0}\n",
            "\tTrainEpoch 183:\t{'bce': -9173.523916524318, 'kl': 32.87299795151818, 'elbo': -9206.396914475832, 'll': 0.0, 'mi': 0.0, 'cov_norm': 0.0, 'beta': 1.0, 'comp_000_h2/curvature': -1.0, 'comp_001_e10/curvature': 0.0}\n",
            "\tTrainEpoch 184:\t{'bce': -9173.827833048916, 'kl': 32.90879582033553, 'elbo': -9206.73662886925, 'll': 0.0, 'mi': 0.0, 'cov_norm': 0.0, 'beta': 1.0, 'comp_000_h2/curvature': -1.0, 'comp_001_e10/curvature': 0.0}\n",
            "\tTrainEpoch 185:\t{'bce': -9172.785994510486, 'kl': 32.95574887515675, 'elbo': -9205.741743385644, 'll': 0.0, 'mi': 0.0, 'cov_norm': 0.0, 'beta': 1.0, 'comp_000_h2/curvature': -1.0, 'comp_001_e10/curvature': 0.0}\n",
            "\tTrainEpoch 186:\t{'bce': -9172.794129869728, 'kl': 32.95068866611224, 'elbo': -9205.744818535837, 'll': 0.0, 'mi': 0.0, 'cov_norm': 0.0, 'beta': 1.0, 'comp_000_h2/curvature': -1.0, 'comp_001_e10/curvature': 0.0}\n",
            "\tTrainEpoch 187:\t{'bce': -9172.971354557616, 'kl': 32.94438002235284, 'elbo': -9205.915734579967, 'll': 0.0, 'mi': 0.0, 'cov_norm': 0.0, 'beta': 1.0, 'comp_000_h2/curvature': -1.0, 'comp_001_e10/curvature': 0.0}\n",
            "\tTrainEpoch 188:\t{'bce': -9172.278069719143, 'kl': 32.92535685070888, 'elbo': -9205.203426569846, 'll': 0.0, 'mi': 0.0, 'cov_norm': 0.0, 'beta': 1.0, 'comp_000_h2/curvature': -1.0, 'comp_001_e10/curvature': 0.0}\n",
            "\tTrainEpoch 189:\t{'bce': -9171.667695103624, 'kl': 32.92465602598249, 'elbo': -9204.592351129604, 'll': 0.0, 'mi': 0.0, 'cov_norm': 0.0, 'beta': 1.0, 'comp_000_h2/curvature': -1.0, 'comp_001_e10/curvature': 0.0}\n",
            "\tTrainEpoch 190:\t{'bce': -9171.755528848566, 'kl': 32.995604302886484, 'elbo': -9204.75113315145, 'll': 0.0, 'mi': 0.0, 'cov_norm': 0.0, 'beta': 1.0, 'comp_000_h2/curvature': -1.0, 'comp_001_e10/curvature': 0.0}\n",
            "\tTrainEpoch 191:\t{'bce': -9171.338482165302, 'kl': 32.92877105725574, 'elbo': -9204.267253222557, 'll': 0.0, 'mi': 0.0, 'cov_norm': 0.0, 'beta': 1.0, 'comp_000_h2/curvature': -1.0, 'comp_001_e10/curvature': 0.0}\n",
            "\tTrainEpoch 192:\t{'bce': -9171.742088624296, 'kl': 32.95426606040113, 'elbo': -9204.696354684695, 'll': 0.0, 'mi': 0.0, 'cov_norm': 0.0, 'beta': 1.0, 'comp_000_h2/curvature': -1.0, 'comp_001_e10/curvature': 0.0}\n",
            "\tTrainEpoch 193:\t{'bce': -9170.456048583155, 'kl': 33.00123819170688, 'elbo': -9203.457286774865, 'll': 0.0, 'mi': 0.0, 'cov_norm': 0.0, 'beta': 1.0, 'comp_000_h2/curvature': -1.0, 'comp_001_e10/curvature': 0.0}\n",
            "\tTrainEpoch 194:\t{'bce': -9171.500053454874, 'kl': 32.92257904764301, 'elbo': -9204.422632502521, 'll': 0.0, 'mi': 0.0, 'cov_norm': 0.0, 'beta': 1.0, 'comp_000_h2/curvature': -1.0, 'comp_001_e10/curvature': 0.0}\n",
            "\tTrainEpoch 195:\t{'bce': -9170.737778720539, 'kl': 32.938514053696295, 'elbo': -9203.676292774238, 'll': 0.0, 'mi': 0.0, 'cov_norm': 0.0, 'beta': 1.0, 'comp_000_h2/curvature': -1.0, 'comp_001_e10/curvature': 0.0}\n",
            "\tTrainEpoch 196:\t{'bce': -9170.055849035834, 'kl': 32.947678664759806, 'elbo': -9203.003527700599, 'll': 0.0, 'mi': 0.0, 'cov_norm': 0.0, 'beta': 1.0, 'comp_000_h2/curvature': -1.0, 'comp_001_e10/curvature': 0.0}\n",
            "\tTrainEpoch 197:\t{'bce': -9170.048099392283, 'kl': 32.95340008291667, 'elbo': -9203.001499475211, 'll': 0.0, 'mi': 0.0, 'cov_norm': 0.0, 'beta': 1.0, 'comp_000_h2/curvature': -1.0, 'comp_001_e10/curvature': 0.0}\n",
            "\tTrainEpoch 198:\t{'bce': -9169.847884103676, 'kl': 32.974497712697534, 'elbo': -9202.822381816373, 'll': 0.0, 'mi': 0.0, 'cov_norm': 0.0, 'beta': 1.0, 'comp_000_h2/curvature': -1.0, 'comp_001_e10/curvature': 0.0}\n",
            "\tTrainEpoch 199:\t{'bce': -9169.058696682869, 'kl': 32.969576966582785, 'elbo': -9202.028273649452, 'll': 0.0, 'mi': 0.0, 'cov_norm': 0.0, 'beta': 1.0, 'comp_000_h2/curvature': -1.0, 'comp_001_e10/curvature': 0.0}\n",
            "\tTrainEpoch 200:\t{'bce': -9168.568150418876, 'kl': 33.01834782712734, 'elbo': -9201.586498246003, 'll': 0.0, 'mi': 0.0, 'cov_norm': 0.0, 'beta': 1.0, 'comp_000_h2/curvature': -1.0, 'comp_001_e10/curvature': 0.0}\n",
            "\tTrainEpoch 201:\t{'bce': -9168.689226036164, 'kl': 33.028696638847926, 'elbo': -9201.717922675018, 'll': 0.0, 'mi': 0.0, 'cov_norm': 0.0, 'beta': 1.0, 'comp_000_h2/curvature': -1.0, 'comp_001_e10/curvature': 0.0}\n",
            "\tTrainEpoch 202:\t{'bce': -9168.980261245646, 'kl': 33.02720430670628, 'elbo': -9202.007465552351, 'll': 0.0, 'mi': 0.0, 'cov_norm': 0.0, 'beta': 1.0, 'comp_000_h2/curvature': -1.0, 'comp_001_e10/curvature': 0.0}\n",
            "\tTrainEpoch 203:\t{'bce': -9168.303711881637, 'kl': 33.02425637659664, 'elbo': -9201.327968258234, 'll': 0.0, 'mi': 0.0, 'cov_norm': 0.0, 'beta': 1.0, 'comp_000_h2/curvature': -1.0, 'comp_001_e10/curvature': 0.0}\n",
            "\tTrainEpoch 204:\t{'bce': -9169.132620162662, 'kl': 33.059978813329934, 'elbo': -9202.192598975995, 'll': 0.0, 'mi': 0.0, 'cov_norm': 0.0, 'beta': 1.0, 'comp_000_h2/curvature': -1.0, 'comp_001_e10/curvature': 0.0}\n",
            "\tTrainEpoch 205:\t{'bce': -9168.061212470822, 'kl': 33.032126901627464, 'elbo': -9201.09333937245, 'll': 0.0, 'mi': 0.0, 'cov_norm': 0.0, 'beta': 1.0, 'comp_000_h2/curvature': -1.0, 'comp_001_e10/curvature': 0.0}\n",
            "\tTrainEpoch 206:\t{'bce': -9167.62148738714, 'kl': 33.03559192212912, 'elbo': -9200.657079309272, 'll': 0.0, 'mi': 0.0, 'cov_norm': 0.0, 'beta': 1.0, 'comp_000_h2/curvature': -1.0, 'comp_001_e10/curvature': 0.0}\n",
            "\tTrainEpoch 207:\t{'bce': -9167.349562783551, 'kl': 33.03430964049811, 'elbo': -9200.383872424047, 'll': 0.0, 'mi': 0.0, 'cov_norm': 0.0, 'beta': 1.0, 'comp_000_h2/curvature': -1.0, 'comp_001_e10/curvature': 0.0}\n",
            "\tTrainEpoch 208:\t{'bce': -9167.030103638064, 'kl': 33.044658031093405, 'elbo': -9200.074761669157, 'll': 0.0, 'mi': 0.0, 'cov_norm': 0.0, 'beta': 1.0, 'comp_000_h2/curvature': -1.0, 'comp_001_e10/curvature': 0.0}\n",
            "\tTrainEpoch 209:\t{'bce': -9167.000219818465, 'kl': 33.037162764298245, 'elbo': -9200.037382582766, 'll': 0.0, 'mi': 0.0, 'cov_norm': 0.0, 'beta': 1.0, 'comp_000_h2/curvature': -1.0, 'comp_001_e10/curvature': 0.0}\n",
            "\tTrainEpoch 210:\t{'bce': -9167.531968262752, 'kl': 33.14201051434554, 'elbo': -9200.673978777095, 'll': 0.0, 'mi': 0.0, 'cov_norm': 0.0, 'beta': 1.0, 'comp_000_h2/curvature': -1.0, 'comp_001_e10/curvature': 0.0}\n",
            "\tTrainEpoch 211:\t{'bce': -9167.150563269699, 'kl': 33.01871262037548, 'elbo': -9200.169275890068, 'll': 0.0, 'mi': 0.0, 'cov_norm': 0.0, 'beta': 1.0, 'comp_000_h2/curvature': -1.0, 'comp_001_e10/curvature': 0.0}\n",
            "\tTrainEpoch 212:\t{'bce': -9166.77519237816, 'kl': 33.042127424654495, 'elbo': -9199.817319802809, 'll': 0.0, 'mi': 0.0, 'cov_norm': 0.0, 'beta': 1.0, 'comp_000_h2/curvature': -1.0, 'comp_001_e10/curvature': 0.0}\n",
            "\tTrainEpoch 213:\t{'bce': -9166.219310924242, 'kl': 33.008597375026, 'elbo': -9199.227908299266, 'll': 0.0, 'mi': 0.0, 'cov_norm': 0.0, 'beta': 1.0, 'comp_000_h2/curvature': -1.0, 'comp_001_e10/curvature': 0.0}\n",
            "\tTrainEpoch 214:\t{'bce': -9165.406567265221, 'kl': 33.052818765797596, 'elbo': -9198.45938603103, 'll': 0.0, 'mi': 0.0, 'cov_norm': 0.0, 'beta': 1.0, 'comp_000_h2/curvature': -1.0, 'comp_001_e10/curvature': 0.0}\n",
            "\tTrainEpoch 215:\t{'bce': -9166.064877501229, 'kl': 33.070698403986704, 'elbo': -9199.135575905222, 'll': 0.0, 'mi': 0.0, 'cov_norm': 0.0, 'beta': 1.0, 'comp_000_h2/curvature': -1.0, 'comp_001_e10/curvature': 0.0}\n",
            "\tTrainEpoch 216:\t{'bce': -9165.682311711062, 'kl': 33.03118864878668, 'elbo': -9198.713500359847, 'll': 0.0, 'mi': 0.0, 'cov_norm': 0.0, 'beta': 1.0, 'comp_000_h2/curvature': -1.0, 'comp_001_e10/curvature': 0.0}\n",
            "\tTrainEpoch 217:\t{'bce': -9165.02053664016, 'kl': 33.06390342342218, 'elbo': -9198.084440063581, 'll': 0.0, 'mi': 0.0, 'cov_norm': 0.0, 'beta': 1.0, 'comp_000_h2/curvature': -1.0, 'comp_001_e10/curvature': 0.0}\n",
            "\tTrainEpoch 218:\t{'bce': -9164.855533491651, 'kl': 33.076639824191595, 'elbo': -9197.93217331584, 'll': 0.0, 'mi': 0.0, 'cov_norm': 0.0, 'beta': 1.0, 'comp_000_h2/curvature': -1.0, 'comp_001_e10/curvature': 0.0}\n",
            "\tTrainEpoch 219:\t{'bce': -9164.554887375165, 'kl': 33.10382100026005, 'elbo': -9197.658708375418, 'll': 0.0, 'mi': 0.0, 'cov_norm': 0.0, 'beta': 1.0, 'comp_000_h2/curvature': -1.0, 'comp_001_e10/curvature': 0.0}\n",
            "\tTrainEpoch 220:\t{'bce': -9164.651978290629, 'kl': 33.09175761772131, 'elbo': -9197.743735908349, 'll': 0.0, 'mi': 0.0, 'cov_norm': 0.0, 'beta': 1.0, 'comp_000_h2/curvature': -1.0, 'comp_001_e10/curvature': 0.0}\n",
            "\tTrainEpoch 221:\t{'bce': -9164.65975849423, 'kl': 33.11679473217455, 'elbo': -9197.776553226407, 'll': 0.0, 'mi': 0.0, 'cov_norm': 0.0, 'beta': 1.0, 'comp_000_h2/curvature': -1.0, 'comp_001_e10/curvature': 0.0}\n",
            "\tTrainEpoch 222:\t{'bce': -9164.970129919258, 'kl': 33.08082632516207, 'elbo': -9198.050956244415, 'll': 0.0, 'mi': 0.0, 'cov_norm': 0.0, 'beta': 1.0, 'comp_000_h2/curvature': -1.0, 'comp_001_e10/curvature': 0.0}\n",
            "\tTrainEpoch 223:\t{'bce': -9164.544760582516, 'kl': 33.095513415896704, 'elbo': -9197.640273998413, 'll': 0.0, 'mi': 0.0, 'cov_norm': 0.0, 'beta': 1.0, 'comp_000_h2/curvature': -1.0, 'comp_001_e10/curvature': 0.0}\n",
            "\tTrainEpoch 224:\t{'bce': -9163.642583479039, 'kl': 33.04538308338485, 'elbo': -9196.687966562418, 'll': 0.0, 'mi': 0.0, 'cov_norm': 0.0, 'beta': 1.0, 'comp_000_h2/curvature': -1.0, 'comp_001_e10/curvature': 0.0}\n",
            "\tTrainEpoch 225:\t{'bce': -9162.783358053613, 'kl': 33.09155067602817, 'elbo': -9195.874908729638, 'll': 0.0, 'mi': 0.0, 'cov_norm': 0.0, 'beta': 1.0, 'comp_000_h2/curvature': -1.0, 'comp_001_e10/curvature': 0.0}\n",
            "\tTrainEpoch 226:\t{'bce': -9163.678090535617, 'kl': 33.127856903019904, 'elbo': -9196.805947438645, 'll': 0.0, 'mi': 0.0, 'cov_norm': 0.0, 'beta': 1.0, 'comp_000_h2/curvature': -1.0, 'comp_001_e10/curvature': 0.0}\n",
            "\tTrainEpoch 227:\t{'bce': -9163.273886788611, 'kl': 33.13906894508476, 'elbo': -9196.412955733698, 'll': 0.0, 'mi': 0.0, 'cov_norm': 0.0, 'beta': 1.0, 'comp_000_h2/curvature': -1.0, 'comp_001_e10/curvature': 0.0}\n",
            "\tTrainEpoch 228:\t{'bce': -9163.133422986562, 'kl': 33.09549919181223, 'elbo': -9196.228922178372, 'll': 0.0, 'mi': 0.0, 'cov_norm': 0.0, 'beta': 1.0, 'comp_000_h2/curvature': -1.0, 'comp_001_e10/curvature': 0.0}\n",
            "\tTrainEpoch 229:\t{'bce': -9162.949404476029, 'kl': 33.13692920221356, 'elbo': -9196.086333678237, 'll': 0.0, 'mi': 0.0, 'cov_norm': 0.0, 'beta': 1.0, 'comp_000_h2/curvature': -1.0, 'comp_001_e10/curvature': 0.0}\n",
            "\tTrainEpoch 230:\t{'bce': -9162.539044691881, 'kl': 33.134615389700855, 'elbo': -9195.673660081575, 'll': 0.0, 'mi': 0.0, 'cov_norm': 0.0, 'beta': 1.0, 'comp_000_h2/curvature': -1.0, 'comp_001_e10/curvature': 0.0}\n",
            "\tTrainEpoch 231:\t{'bce': -9162.439968500705, 'kl': 33.06212853115455, 'elbo': -9195.502097031856, 'll': 0.0, 'mi': 0.0, 'cov_norm': 0.0, 'beta': 1.0, 'comp_000_h2/curvature': -1.0, 'comp_001_e10/curvature': 0.0}\n",
            "\tTrainEpoch 232:\t{'bce': -9162.066682312923, 'kl': 33.060655397394406, 'elbo': -9195.127337710319, 'll': 0.0, 'mi': 0.0, 'cov_norm': 0.0, 'beta': 1.0, 'comp_000_h2/curvature': -1.0, 'comp_001_e10/curvature': 0.0}\n",
            "\tTrainEpoch 233:\t{'bce': -9161.911197971034, 'kl': 33.13299187173852, 'elbo': -9195.044189842769, 'll': 0.0, 'mi': 0.0, 'cov_norm': 0.0, 'beta': 1.0, 'comp_000_h2/curvature': -1.0, 'comp_001_e10/curvature': 0.0}\n",
            "\tTrainEpoch 234:\t{'bce': -9161.994358449769, 'kl': 33.13687255736669, 'elbo': -9195.131231007139, 'll': 0.0, 'mi': 0.0, 'cov_norm': 0.0, 'beta': 1.0, 'comp_000_h2/curvature': -1.0, 'comp_001_e10/curvature': 0.0}\n",
            "\tTrainEpoch 235:\t{'bce': -9161.641114559652, 'kl': 33.10166807708153, 'elbo': -9194.742782636738, 'll': 0.0, 'mi': 0.0, 'cov_norm': 0.0, 'beta': 1.0, 'comp_000_h2/curvature': -1.0, 'comp_001_e10/curvature': 0.0}\n",
            "\tTrainEpoch 236:\t{'bce': -9162.326396667515, 'kl': 33.1426703720665, 'elbo': -9195.46906703959, 'll': 0.0, 'mi': 0.0, 'cov_norm': 0.0, 'beta': 1.0, 'comp_000_h2/curvature': -1.0, 'comp_001_e10/curvature': 0.0}\n",
            "\tTrainEpoch 237:\t{'bce': -9161.303753024004, 'kl': 33.13541637957746, 'elbo': -9194.43916940357, 'll': 0.0, 'mi': 0.0, 'cov_norm': 0.0, 'beta': 1.0, 'comp_000_h2/curvature': -1.0, 'comp_001_e10/curvature': 0.0}\n",
            "\tTrainEpoch 238:\t{'bce': -9161.61498659375, 'kl': 33.08575325991665, 'elbo': -9194.700739853663, 'll': 0.0, 'mi': 0.0, 'cov_norm': 0.0, 'beta': 1.0, 'comp_000_h2/curvature': -1.0, 'comp_001_e10/curvature': 0.0}\n",
            "\tTrainEpoch 239:\t{'bce': -9160.656210752062, 'kl': 33.15071056809146, 'elbo': -9193.806921320154, 'll': 0.0, 'mi': 0.0, 'cov_norm': 0.0, 'beta': 1.0, 'comp_000_h2/curvature': -1.0, 'comp_001_e10/curvature': 0.0}\n",
            "\tTrainEpoch 240:\t{'bce': -9160.18369019226, 'kl': 33.1213125686009, 'elbo': -9193.305002760868, 'll': 0.0, 'mi': 0.0, 'cov_norm': 0.0, 'beta': 1.0, 'comp_000_h2/curvature': -1.0, 'comp_001_e10/curvature': 0.0}\n",
            "\tTrainEpoch 241:\t{'bce': -9160.294892571377, 'kl': 33.17264742323039, 'elbo': -9193.467539994606, 'll': 0.0, 'mi': 0.0, 'cov_norm': 0.0, 'beta': 1.0, 'comp_000_h2/curvature': -1.0, 'comp_001_e10/curvature': 0.0}\n",
            "\tTrainEpoch 242:\t{'bce': -9161.624498889318, 'kl': 33.18888789976411, 'elbo': -9194.813386789085, 'll': 0.0, 'mi': 0.0, 'cov_norm': 0.0, 'beta': 1.0, 'comp_000_h2/curvature': -1.0, 'comp_001_e10/curvature': 0.0}\n",
            "\tTrainEpoch 243:\t{'bce': -9161.702083066275, 'kl': 33.118588036929594, 'elbo': -9194.82067110321, 'll': 0.0, 'mi': 0.0, 'cov_norm': 0.0, 'beta': 1.0, 'comp_000_h2/curvature': -1.0, 'comp_001_e10/curvature': 0.0}\n",
            "\tTrainEpoch 244:\t{'bce': -9160.390599850049, 'kl': 33.16382860975136, 'elbo': -9193.55442845979, 'll': 0.0, 'mi': 0.0, 'cov_norm': 0.0, 'beta': 1.0, 'comp_000_h2/curvature': -1.0, 'comp_001_e10/curvature': 0.0}\n",
            "\tTrainEpoch 245:\t{'bce': -9159.831447991048, 'kl': 33.140213783734886, 'elbo': -9192.971661774787, 'll': 0.0, 'mi': 0.0, 'cov_norm': 0.0, 'beta': 1.0, 'comp_000_h2/curvature': -1.0, 'comp_001_e10/curvature': 0.0}\n",
            "\tTrainEpoch 246:\t{'bce': -9159.71315805188, 'kl': 33.18372154966919, 'elbo': -9192.896879601549, 'll': 0.0, 'mi': 0.0, 'cov_norm': 0.0, 'beta': 1.0, 'comp_000_h2/curvature': -1.0, 'comp_001_e10/curvature': 0.0}\n",
            "\tTrainEpoch 247:\t{'bce': -9160.01448033786, 'kl': 33.16304888788551, 'elbo': -9193.177529225744, 'll': 0.0, 'mi': 0.0, 'cov_norm': 0.0, 'beta': 1.0, 'comp_000_h2/curvature': -1.0, 'comp_001_e10/curvature': 0.0}\n",
            "\tTrainEpoch 248:\t{'bce': -9160.632068950215, 'kl': 33.15186266151528, 'elbo': -9193.783931611728, 'll': 0.0, 'mi': 0.0, 'cov_norm': 0.0, 'beta': 1.0, 'comp_000_h2/curvature': -1.0, 'comp_001_e10/curvature': 0.0}\n",
            "\tTrainEpoch 249:\t{'bce': -9158.95692281908, 'kl': 33.18002841960637, 'elbo': -9192.136951238683, 'll': 0.0, 'mi': 0.0, 'cov_norm': 0.0, 'beta': 1.0, 'comp_000_h2/curvature': -1.0, 'comp_001_e10/curvature': 0.0}\n",
            "\tTrainEpoch 250:\t{'bce': -9158.702519345872, 'kl': 33.150278984002966, 'elbo': -9191.852798329874, 'll': 0.0, 'mi': 0.0, 'cov_norm': 0.0, 'beta': 1.0, 'comp_000_h2/curvature': -1.0, 'comp_001_e10/curvature': 0.0}\n",
            "\tTrainEpoch 251:\t{'bce': -9159.532471614097, 'kl': 33.20200124455647, 'elbo': -9192.734472858661, 'll': 0.0, 'mi': 0.0, 'cov_norm': 0.0, 'beta': 1.0, 'comp_000_h2/curvature': -1.0, 'comp_001_e10/curvature': 0.0}\n",
            "\tTrainEpoch 252:\t{'bce': -9158.510350528371, 'kl': 33.16051910744938, 'elbo': -9191.670869635822, 'll': 0.0, 'mi': 0.0, 'cov_norm': 0.0, 'beta': 1.0, 'comp_000_h2/curvature': -1.0, 'comp_001_e10/curvature': 0.0}\n",
            "\tTrainEpoch 253:\t{'bce': -9158.673269605904, 'kl': 33.1933449797344, 'elbo': -9191.866614585637, 'll': 0.0, 'mi': 0.0, 'cov_norm': 0.0, 'beta': 1.0, 'comp_000_h2/curvature': -1.0, 'comp_001_e10/curvature': 0.0}\n",
            "\tTrainEpoch 254:\t{'bce': -9158.338110894747, 'kl': 33.12501993082308, 'elbo': -9191.463130825576, 'll': 0.0, 'mi': 0.0, 'cov_norm': 0.0, 'beta': 1.0, 'comp_000_h2/curvature': -1.0, 'comp_001_e10/curvature': 0.0}\n",
            "\tTrainEpoch 255:\t{'bce': -9157.713465159768, 'kl': 33.23388161690752, 'elbo': -9190.947346776671, 'll': 0.0, 'mi': 0.0, 'cov_norm': 0.0, 'beta': 1.0, 'comp_000_h2/curvature': -1.0, 'comp_001_e10/curvature': 0.0}\n",
            "\tTrainEpoch 256:\t{'bce': -9158.326371713982, 'kl': 33.156058095135876, 'elbo': -9191.482429809119, 'll': 0.0, 'mi': 0.0, 'cov_norm': 0.0, 'beta': 1.0, 'comp_000_h2/curvature': -1.0, 'comp_001_e10/curvature': 0.0}\n",
            "\tTrainEpoch 257:\t{'bce': -9157.593645292396, 'kl': 33.14670748956056, 'elbo': -9190.740352781955, 'll': 0.0, 'mi': 0.0, 'cov_norm': 0.0, 'beta': 1.0, 'comp_000_h2/curvature': -1.0, 'comp_001_e10/curvature': 0.0}\n",
            "\tTrainEpoch 258:\t{'bce': -9157.009764364218, 'kl': 33.19304886802449, 'elbo': -9190.20281323224, 'll': 0.0, 'mi': 0.0, 'cov_norm': 0.0, 'beta': 1.0, 'comp_000_h2/curvature': -1.0, 'comp_001_e10/curvature': 0.0}\n",
            "\tTrainEpoch 259:\t{'bce': -9157.391546944722, 'kl': 33.185485562057536, 'elbo': -9190.57703250678, 'll': 0.0, 'mi': 0.0, 'cov_norm': 0.0, 'beta': 1.0, 'comp_000_h2/curvature': -1.0, 'comp_001_e10/curvature': 0.0}\n",
            "\tTrainEpoch 260:\t{'bce': -9158.404944165251, 'kl': 33.252587093286195, 'elbo': -9191.65753125854, 'll': 0.0, 'mi': 0.0, 'cov_norm': 0.0, 'beta': 1.0, 'comp_000_h2/curvature': -1.0, 'comp_001_e10/curvature': 0.0}\n",
            "\tTrainEpoch 261:\t{'bce': -9157.585224678496, 'kl': 33.2106618754766, 'elbo': -9190.795886553975, 'll': 0.0, 'mi': 0.0, 'cov_norm': 0.0, 'beta': 1.0, 'comp_000_h2/curvature': -1.0, 'comp_001_e10/curvature': 0.0}\n",
            "\tTrainEpoch 262:\t{'bce': -9157.161155794232, 'kl': 33.15387282196909, 'elbo': -9190.315028616202, 'll': 0.0, 'mi': 0.0, 'cov_norm': 0.0, 'beta': 1.0, 'comp_000_h2/curvature': -1.0, 'comp_001_e10/curvature': 0.0}\n",
            "\tTrainEpoch 263:\t{'bce': -9156.600580951117, 'kl': 33.22602261387617, 'elbo': -9189.826603564996, 'll': 0.0, 'mi': 0.0, 'cov_norm': 0.0, 'beta': 1.0, 'comp_000_h2/curvature': -1.0, 'comp_001_e10/curvature': 0.0}\n",
            "\tTrainEpoch 264:\t{'bce': -9156.712863056915, 'kl': 33.270669692306306, 'elbo': -9189.98353274922, 'll': 0.0, 'mi': 0.0, 'cov_norm': 0.0, 'beta': 1.0, 'comp_000_h2/curvature': -1.0, 'comp_001_e10/curvature': 0.0}\n",
            "\tTrainEpoch 265:\t{'bce': -9156.946047482972, 'kl': 33.200561138694354, 'elbo': -9190.14660862166, 'll': 0.0, 'mi': 0.0, 'cov_norm': 0.0, 'beta': 1.0, 'comp_000_h2/curvature': -1.0, 'comp_001_e10/curvature': 0.0}\n",
            "\tTrainEpoch 266:\t{'bce': -9156.330378980845, 'kl': 33.190322901400464, 'elbo': -9189.52070188225, 'll': 0.0, 'mi': 0.0, 'cov_norm': 0.0, 'beta': 1.0, 'comp_000_h2/curvature': -1.0, 'comp_001_e10/curvature': 0.0}\n",
            "\tTrainEpoch 267:\t{'bce': -9156.725362507776, 'kl': 33.26988397098503, 'elbo': -9189.99524647877, 'll': 0.0, 'mi': 0.0, 'cov_norm': 0.0, 'beta': 1.0, 'comp_000_h2/curvature': -1.0, 'comp_001_e10/curvature': 0.0}\n",
            "\tTrainEpoch 268:\t{'bce': -9156.245831599463, 'kl': 33.161252891368434, 'elbo': -9189.407084490824, 'll': 0.0, 'mi': 0.0, 'cov_norm': 0.0, 'beta': 1.0, 'comp_000_h2/curvature': -1.0, 'comp_001_e10/curvature': 0.0}\n",
            "\tTrainEpoch 269:\t{'bce': -9155.532325714104, 'kl': 33.253447827396705, 'elbo': -9188.785773541502, 'll': 0.0, 'mi': 0.0, 'cov_norm': 0.0, 'beta': 1.0, 'comp_000_h2/curvature': -1.0, 'comp_001_e10/curvature': 0.0}\n",
            "\tTrainEpoch 270:\t{'bce': -9156.656257261147, 'kl': 33.31617701771091, 'elbo': -9189.97243427885, 'll': 0.0, 'mi': 0.0, 'cov_norm': 0.0, 'beta': 1.0, 'comp_000_h2/curvature': -1.0, 'comp_001_e10/curvature': 0.0}\n",
            "\tTrainEpoch 271:\t{'bce': -9156.818044729367, 'kl': 33.23278433178346, 'elbo': -9190.05082906115, 'll': 0.0, 'mi': 0.0, 'cov_norm': 0.0, 'beta': 1.0, 'comp_000_h2/curvature': -1.0, 'comp_001_e10/curvature': 0.0}\n",
            "\tTrainEpoch 272:\t{'bce': -9156.622062034568, 'kl': 33.211259714719795, 'elbo': -9189.833321749293, 'll': 0.0, 'mi': 0.0, 'cov_norm': 0.0, 'beta': 1.0, 'comp_000_h2/curvature': -1.0, 'comp_001_e10/curvature': 0.0}\n",
            "\tTrainEpoch 273:\t{'bce': -9155.76132294367, 'kl': 33.210658666536524, 'elbo': -9188.971981610208, 'll': 0.0, 'mi': 0.0, 'cov_norm': 0.0, 'beta': 1.0, 'comp_000_h2/curvature': -1.0, 'comp_001_e10/curvature': 0.0}\n",
            "\tTrainEpoch 274:\t{'bce': -9155.057642281192, 'kl': 33.24517635195026, 'elbo': -9188.302818633138, 'll': 0.0, 'mi': 0.0, 'cov_norm': 0.0, 'beta': 1.0, 'comp_000_h2/curvature': -1.0, 'comp_001_e10/curvature': 0.0}\n",
            "\tTrainEpoch 275:\t{'bce': -9154.702377314821, 'kl': 33.29554935610414, 'elbo': -9187.997926670929, 'll': 0.0, 'mi': 0.0, 'cov_norm': 0.0, 'beta': 1.0, 'comp_000_h2/curvature': -1.0, 'comp_001_e10/curvature': 0.0}\n",
            "\tTrainEpoch 276:\t{'bce': -9155.04605911497, 'kl': 33.258931804579795, 'elbo': -9188.304990919547, 'll': 0.0, 'mi': 0.0, 'cov_norm': 0.0, 'beta': 1.0, 'comp_000_h2/curvature': -1.0, 'comp_001_e10/curvature': 0.0}\n",
            "\tTrainEpoch 277:\t{'bce': -9154.92005037539, 'kl': 33.292403709808575, 'elbo': -9188.2124540852, 'll': 0.0, 'mi': 0.0, 'cov_norm': 0.0, 'beta': 1.0, 'comp_000_h2/curvature': -1.0, 'comp_001_e10/curvature': 0.0}\n",
            "\tTrainEpoch 278:\t{'bce': -9156.118843845594, 'kl': 33.29572258797416, 'elbo': -9189.414566433565, 'll': 0.0, 'mi': 0.0, 'cov_norm': 0.0, 'beta': 1.0, 'comp_000_h2/curvature': -1.0, 'comp_001_e10/curvature': 0.0}\n",
            "\tTrainEpoch 279:\t{'bce': -9156.884012983273, 'kl': 33.270669659294235, 'elbo': -9190.15468264256, 'll': 0.0, 'mi': 0.0, 'cov_norm': 0.0, 'beta': 1.0, 'comp_000_h2/curvature': -1.0, 'comp_001_e10/curvature': 0.0}\n",
            "\tTrainEpoch 280:\t{'bce': -9155.226781776946, 'kl': 33.20712718154669, 'elbo': -9188.43390895849, 'll': 0.0, 'mi': 0.0, 'cov_norm': 0.0, 'beta': 1.0, 'comp_000_h2/curvature': -1.0, 'comp_001_e10/curvature': 0.0}\n",
            "\tTrainEpoch 281:\t{'bce': -9155.020992004762, 'kl': 33.280080348532444, 'elbo': -9188.301072353295, 'll': 0.0, 'mi': 0.0, 'cov_norm': 0.0, 'beta': 1.0, 'comp_000_h2/curvature': -1.0, 'comp_001_e10/curvature': 0.0}\n",
            "\tTrainEpoch 282:\t{'bce': -9153.667547114947, 'kl': 33.25687798422988, 'elbo': -9186.924425099181, 'll': 0.0, 'mi': 0.0, 'cov_norm': 0.0, 'beta': 1.0, 'comp_000_h2/curvature': -1.0, 'comp_001_e10/curvature': 0.0}\n",
            "\tTrainEpoch 283:\t{'bce': -9153.8378283419, 'kl': 33.31793983322426, 'elbo': -9187.155768175127, 'll': 0.0, 'mi': 0.0, 'cov_norm': 0.0, 'beta': 1.0, 'comp_000_h2/curvature': -1.0, 'comp_001_e10/curvature': 0.0}\n",
            "\tTrainEpoch 284:\t{'bce': -9153.9606948595, 'kl': 33.310950614282625, 'elbo': -9187.271645473787, 'll': 0.0, 'mi': 0.0, 'cov_norm': 0.0, 'beta': 1.0, 'comp_000_h2/curvature': -1.0, 'comp_001_e10/curvature': 0.0}\n",
            "\tTrainEpoch 285:\t{'bce': -9153.51472418517, 'kl': 33.29750986385323, 'elbo': -9186.812234049028, 'll': 0.0, 'mi': 0.0, 'cov_norm': 0.0, 'beta': 1.0, 'comp_000_h2/curvature': -1.0, 'comp_001_e10/curvature': 0.0}\n",
            "\tTrainEpoch 286:\t{'bce': -9153.013060075446, 'kl': 33.30847791966452, 'elbo': -9186.32153799512, 'll': 0.0, 'mi': 0.0, 'cov_norm': 0.0, 'beta': 1.0, 'comp_000_h2/curvature': -1.0, 'comp_001_e10/curvature': 0.0}\n",
            "\tTrainEpoch 287:\t{'bce': -9152.960553966608, 'kl': 33.29810237068247, 'elbo': -9186.258656337293, 'll': 0.0, 'mi': 0.0, 'cov_norm': 0.0, 'beta': 1.0, 'comp_000_h2/curvature': -1.0, 'comp_001_e10/curvature': 0.0}\n",
            "\tTrainEpoch 288:\t{'bce': -9153.261184218669, 'kl': 33.34897334872238, 'elbo': -9186.610157567395, 'll': 0.0, 'mi': 0.0, 'cov_norm': 0.0, 'beta': 1.0, 'comp_000_h2/curvature': -1.0, 'comp_001_e10/curvature': 0.0}\n",
            "\tTrainEpoch 289:\t{'bce': -9153.406410177506, 'kl': 33.2810864427468, 'elbo': -9186.687496620249, 'll': 0.0, 'mi': 0.0, 'cov_norm': 0.0, 'beta': 1.0, 'comp_000_h2/curvature': -1.0, 'comp_001_e10/curvature': 0.0}\n",
            "\tTrainEpoch 290:\t{'bce': -9153.499320552679, 'kl': 33.305831421752444, 'elbo': -9186.805151974431, 'll': 0.0, 'mi': 0.0, 'cov_norm': 0.0, 'beta': 1.0, 'comp_000_h2/curvature': -1.0, 'comp_001_e10/curvature': 0.0}\n",
            "\tTrainEpoch 291:\t{'bce': -9154.570788011519, 'kl': 33.23825266707113, 'elbo': -9187.8090406786, 'll': 0.0, 'mi': 0.0, 'cov_norm': 0.0, 'beta': 1.0, 'comp_000_h2/curvature': -1.0, 'comp_001_e10/curvature': 0.0}\n",
            "\tTrainEpoch 292:\t{'bce': -9153.474166911952, 'kl': 33.3281296637101, 'elbo': -9186.80229657566, 'll': 0.0, 'mi': 0.0, 'cov_norm': 0.0, 'beta': 1.0, 'comp_000_h2/curvature': -1.0, 'comp_001_e10/curvature': 0.0}\n",
            "\tTrainEpoch 293:\t{'bce': -9152.689010266411, 'kl': 33.270869384756146, 'elbo': -9185.959879651173, 'll': 0.0, 'mi': 0.0, 'cov_norm': 0.0, 'beta': 1.0, 'comp_000_h2/curvature': -1.0, 'comp_001_e10/curvature': 0.0}\n",
            "\tTrainEpoch 294:\t{'bce': -9152.587170441235, 'kl': 33.297204023224786, 'elbo': -9185.884374464458, 'll': 0.0, 'mi': 0.0, 'cov_norm': 0.0, 'beta': 1.0, 'comp_000_h2/curvature': -1.0, 'comp_001_e10/curvature': 0.0}\n",
            "\tTrainEpoch 295:\t{'bce': -9153.384544648321, 'kl': 33.291167053158254, 'elbo': -9186.675711701475, 'll': 0.0, 'mi': 0.0, 'cov_norm': 0.0, 'beta': 1.0, 'comp_000_h2/curvature': -1.0, 'comp_001_e10/curvature': 0.0}\n",
            "\tTrainEpoch 296:\t{'bce': -9152.59130294281, 'kl': 33.283090313837924, 'elbo': -9185.87439325665, 'll': 0.0, 'mi': 0.0, 'cov_norm': 0.0, 'beta': 1.0, 'comp_000_h2/curvature': -1.0, 'comp_001_e10/curvature': 0.0}\n",
            "\tTrainEpoch 297:\t{'bce': -9152.636949485926, 'kl': 33.31970655770327, 'elbo': -9185.956656043623, 'll': 0.0, 'mi': 0.0, 'cov_norm': 0.0, 'beta': 1.0, 'comp_000_h2/curvature': -1.0, 'comp_001_e10/curvature': 0.0}\n",
            "\tTrainEpoch 298:\t{'bce': -9152.12485550116, 'kl': 33.2780827766026, 'elbo': -9185.40293827777, 'll': 0.0, 'mi': 0.0, 'cov_norm': 0.0, 'beta': 1.0, 'comp_000_h2/curvature': -1.0, 'comp_001_e10/curvature': 0.0}\n",
            "\tTrainEpoch 299:\t{'bce': -9151.9032566542, 'kl': 33.32993433582184, 'elbo': -9185.233190990015, 'll': 0.0, 'mi': 0.0, 'cov_norm': 0.0, 'beta': 1.0, 'comp_000_h2/curvature': -1.0, 'comp_001_e10/curvature': 0.0}\n",
            "\tTrainEpoch 300:\t{'bce': -9151.68349110902, 'kl': 33.31400714166132, 'elbo': -9184.997498250686, 'll': 0.0, 'mi': 0.0, 'cov_norm': 0.0, 'beta': 1.0, 'comp_000_h2/curvature': -1.0, 'comp_001_e10/curvature': 0.0}\n",
            "\tTrainEpoch 301:\t{'bce': -9151.308891270295, 'kl': 33.3346168462916, 'elbo': -9184.643508116587, 'll': 0.0, 'mi': 0.0, 'cov_norm': 0.0, 'beta': 1.0, 'comp_000_h2/curvature': -1.0, 'comp_001_e10/curvature': 0.0}\n",
            "\tTrainEpoch 302:\t{'bce': -9151.348273892516, 'kl': 33.31076358505071, 'elbo': -9184.65903747757, 'll': 0.0, 'mi': 0.0, 'cov_norm': 0.0, 'beta': 1.0, 'comp_000_h2/curvature': -1.0, 'comp_001_e10/curvature': 0.0}\n",
            "\tTrainEpoch 303:\t{'bce': -9152.283499738536, 'kl': 33.33597746860002, 'elbo': -9185.619477207132, 'll': 0.0, 'mi': 0.0, 'cov_norm': 0.0, 'beta': 1.0, 'comp_000_h2/curvature': -1.0, 'comp_001_e10/curvature': 0.0}\n",
            "\tTrainEpoch 304:\t{'bce': -9151.23689111815, 'kl': 33.39178616171208, 'elbo': -9184.62867727986, 'll': 0.0, 'mi': 0.0, 'cov_norm': 0.0, 'beta': 1.0, 'comp_000_h2/curvature': -1.0, 'comp_001_e10/curvature': 0.0}\n",
            "\tTrainEpoch 305:\t{'bce': -9152.083920430417, 'kl': 33.30760740190642, 'elbo': -9185.391527832327, 'll': 0.0, 'mi': 0.0, 'cov_norm': 0.0, 'beta': 1.0, 'comp_000_h2/curvature': -1.0, 'comp_001_e10/curvature': 0.0}\n",
            "\tTrainEpoch 306:\t{'bce': -9151.620050613581, 'kl': 33.338489816266, 'elbo': -9184.958540429847, 'll': 0.0, 'mi': 0.0, 'cov_norm': 0.0, 'beta': 1.0, 'comp_000_h2/curvature': -1.0, 'comp_001_e10/curvature': 0.0}\n",
            "\tTrainEpoch 307:\t{'bce': -9150.931250593098, 'kl': 33.33529047261887, 'elbo': -9184.266541065712, 'll': 0.0, 'mi': 0.0, 'cov_norm': 0.0, 'beta': 1.0, 'comp_000_h2/curvature': -1.0, 'comp_001_e10/curvature': 0.0}\n",
            "\tTrainEpoch 308:\t{'bce': -9150.268046560457, 'kl': 33.3349956634863, 'elbo': -9183.603042223946, 'll': 0.0, 'mi': 0.0, 'cov_norm': 0.0, 'beta': 1.0, 'comp_000_h2/curvature': -1.0, 'comp_001_e10/curvature': 0.0}\n",
            "\tTrainEpoch 309:\t{'bce': -9151.693884009928, 'kl': 33.35031227037646, 'elbo': -9185.044196280305, 'll': 0.0, 'mi': 0.0, 'cov_norm': 0.0, 'beta': 1.0, 'comp_000_h2/curvature': -1.0, 'comp_001_e10/curvature': 0.0}\n",
            "\tTrainEpoch 310:\t{'bce': -9151.213095877065, 'kl': 33.287470152759454, 'elbo': -9184.50056602982, 'll': 0.0, 'mi': 0.0, 'cov_norm': 0.0, 'beta': 1.0, 'comp_000_h2/curvature': -1.0, 'comp_001_e10/curvature': 0.0}\n",
            "\tTrainEpoch 311:\t{'bce': -9151.395153864369, 'kl': 33.361513213383404, 'elbo': -9184.756667077756, 'll': 0.0, 'mi': 0.0, 'cov_norm': 0.0, 'beta': 1.0, 'comp_000_h2/curvature': -1.0, 'comp_001_e10/curvature': 0.0}\n",
            "\tTrainEpoch 312:\t{'bce': -9151.53191280904, 'kl': 33.34266187424529, 'elbo': -9184.874574683292, 'll': 0.0, 'mi': 0.0, 'cov_norm': 0.0, 'beta': 1.0, 'comp_000_h2/curvature': -1.0, 'comp_001_e10/curvature': 0.0}\n",
            "\tTrainEpoch 313:\t{'bce': -9150.342559706623, 'kl': 33.33644756195038, 'elbo': -9183.679007268576, 'll': 0.0, 'mi': 0.0, 'cov_norm': 0.0, 'beta': 1.0, 'comp_000_h2/curvature': -1.0, 'comp_001_e10/curvature': 0.0}\n",
            "\tTrainEpoch 314:\t{'bce': -9149.593441770174, 'kl': 33.33593343019152, 'elbo': -9182.929375200367, 'll': 0.0, 'mi': 0.0, 'cov_norm': 0.0, 'beta': 1.0, 'comp_000_h2/curvature': -1.0, 'comp_001_e10/curvature': 0.0}\n",
            "\tTrainEpoch 315:\t{'bce': -9151.630312405028, 'kl': 33.32737293962148, 'elbo': -9184.957685344654, 'll': 0.0, 'mi': 0.0, 'cov_norm': 0.0, 'beta': 1.0, 'comp_000_h2/curvature': -1.0, 'comp_001_e10/curvature': 0.0}\n",
            "\tTrainEpoch 316:\t{'bce': -9150.169263751168, 'kl': 33.37456978005955, 'elbo': -9183.543833531232, 'll': 0.0, 'mi': 0.0, 'cov_norm': 0.0, 'beta': 1.0, 'comp_000_h2/curvature': -1.0, 'comp_001_e10/curvature': 0.0}\n",
            "\tTrainEpoch 317:\t{'bce': -9150.70048412997, 'kl': 33.31254665438458, 'elbo': -9184.013030784357, 'll': 0.0, 'mi': 0.0, 'cov_norm': 0.0, 'beta': 1.0, 'comp_000_h2/curvature': -1.0, 'comp_001_e10/curvature': 0.0}\n",
            "\tTrainEpoch 318:\t{'bce': -9149.658480464746, 'kl': 33.41816780222483, 'elbo': -9183.076648266982, 'll': 0.0, 'mi': 0.0, 'cov_norm': 0.0, 'beta': 1.0, 'comp_000_h2/curvature': -1.0, 'comp_001_e10/curvature': 0.0}\n",
            "\tTrainEpoch 319:\t{'bce': -9149.579100013218, 'kl': 33.415492782418156, 'elbo': -9182.994592795636, 'll': 0.0, 'mi': 0.0, 'cov_norm': 0.0, 'beta': 1.0, 'comp_000_h2/curvature': -1.0, 'comp_001_e10/curvature': 0.0}\n",
            "\tTrainEpoch 320:\t{'bce': -9149.19351215482, 'kl': 33.34554665355724, 'elbo': -9182.53905880838, 'll': 0.0, 'mi': 0.0, 'cov_norm': 0.0, 'beta': 1.0, 'comp_000_h2/curvature': -1.0, 'comp_001_e10/curvature': 0.0}\n",
            "\tTrainEpoch 321:\t{'bce': -9148.726497066216, 'kl': 33.36059560956258, 'elbo': -9182.087092675783, 'll': 0.0, 'mi': 0.0, 'cov_norm': 0.0, 'beta': 1.0, 'comp_000_h2/curvature': -1.0, 'comp_001_e10/curvature': 0.0}\n",
            "\tTrainEpoch 322:\t{'bce': -9148.863007452881, 'kl': 33.39686817658145, 'elbo': -9182.259875629465, 'll': 0.0, 'mi': 0.0, 'cov_norm': 0.0, 'beta': 1.0, 'comp_000_h2/curvature': -1.0, 'comp_001_e10/curvature': 0.0}\n",
            "\tTrainEpoch 323:\t{'bce': -9148.49736346551, 'kl': 33.41777776232948, 'elbo': -9181.915141227848, 'll': 0.0, 'mi': 0.0, 'cov_norm': 0.0, 'beta': 1.0, 'comp_000_h2/curvature': -1.0, 'comp_001_e10/curvature': 0.0}\n",
            "\tTrainEpoch 324:\t{'bce': -9149.099561096786, 'kl': 33.398111055175896, 'elbo': -9182.497672151958, 'll': 0.0, 'mi': 0.0, 'cov_norm': 0.0, 'beta': 1.0, 'comp_000_h2/curvature': -1.0, 'comp_001_e10/curvature': 0.0}\n",
            "\tTrainEpoch 325:\t{'bce': -9149.646602314295, 'kl': 33.43479161356769, 'elbo': -9183.081393927869, 'll': 0.0, 'mi': 0.0, 'cov_norm': 0.0, 'beta': 1.0, 'comp_000_h2/curvature': -1.0, 'comp_001_e10/curvature': 0.0}\n",
            "\tTrainEpoch 326:\t{'bce': -9149.855329049564, 'kl': 33.390168439646104, 'elbo': -9183.245497489215, 'll': 0.0, 'mi': 0.0, 'cov_norm': 0.0, 'beta': 1.0, 'comp_000_h2/curvature': -1.0, 'comp_001_e10/curvature': 0.0}\n",
            "\tTrainEpoch 327:\t{'bce': -9149.307298718948, 'kl': 33.40038692466384, 'elbo': -9182.707685643614, 'll': 0.0, 'mi': 0.0, 'cov_norm': 0.0, 'beta': 1.0, 'comp_000_h2/curvature': -1.0, 'comp_001_e10/curvature': 0.0}\n",
            "\tTrainEpoch 328:\t{'bce': -9148.746928967954, 'kl': 33.35458318453327, 'elbo': -9182.101512152485, 'll': 0.0, 'mi': 0.0, 'cov_norm': 0.0, 'beta': 1.0, 'comp_000_h2/curvature': -1.0, 'comp_001_e10/curvature': 0.0}\n",
            "\tTrainEpoch 329:\t{'bce': -9149.251943988984, 'kl': 33.40901164473649, 'elbo': -9182.660955633723, 'll': 0.0, 'mi': 0.0, 'cov_norm': 0.0, 'beta': 1.0, 'comp_000_h2/curvature': -1.0, 'comp_001_e10/curvature': 0.0}\n",
            "\tTrainEpoch 330:\t{'bce': -9148.798793371117, 'kl': 33.34415423240995, 'elbo': -9182.14294760353, 'll': 0.0, 'mi': 0.0, 'cov_norm': 0.0, 'beta': 1.0, 'comp_000_h2/curvature': -1.0, 'comp_001_e10/curvature': 0.0}\n",
            "\tTrainEpoch 331:\t{'bce': -9148.047662314595, 'kl': 33.375719141883344, 'elbo': -9181.423381456478, 'll': 0.0, 'mi': 0.0, 'cov_norm': 0.0, 'beta': 1.0, 'comp_000_h2/curvature': -1.0, 'comp_001_e10/curvature': 0.0}\n",
            "\tTrainEpoch 332:\t{'bce': -9148.118385593036, 'kl': 33.43034822510169, 'elbo': -9181.548733818143, 'll': 0.0, 'mi': 0.0, 'cov_norm': 0.0, 'beta': 1.0, 'comp_000_h2/curvature': -1.0, 'comp_001_e10/curvature': 0.0}\n",
            "\tTrainEpoch 333:\t{'bce': -9148.746294939814, 'kl': 33.39086518970914, 'elbo': -9182.137160129527, 'll': 0.0, 'mi': 0.0, 'cov_norm': 0.0, 'beta': 1.0, 'comp_000_h2/curvature': -1.0, 'comp_001_e10/curvature': 0.0}\n",
            "\tTrainEpoch 334:\t{'bce': -9148.126689052673, 'kl': 33.41469438762396, 'elbo': -9181.541383440292, 'll': 0.0, 'mi': 0.0, 'cov_norm': 0.0, 'beta': 1.0, 'comp_000_h2/curvature': -1.0, 'comp_001_e10/curvature': 0.0}\n",
            "\tTrainEpoch 335:\t{'bce': -9148.776197837184, 'kl': 33.39824856350585, 'elbo': -9182.174446400686, 'll': 0.0, 'mi': 0.0, 'cov_norm': 0.0, 'beta': 1.0, 'comp_000_h2/curvature': -1.0, 'comp_001_e10/curvature': 0.0}\n",
            "\tTrainEpoch 336:\t{'bce': -9148.270136606514, 'kl': 33.373597144622686, 'elbo': -9181.643733751138, 'll': 0.0, 'mi': 0.0, 'cov_norm': 0.0, 'beta': 1.0, 'comp_000_h2/curvature': -1.0, 'comp_001_e10/curvature': 0.0}\n",
            "\tTrainEpoch 337:\t{'bce': -9148.275405511844, 'kl': 33.3880176525337, 'elbo': -9181.66342316438, 'll': 0.0, 'mi': 0.0, 'cov_norm': 0.0, 'beta': 1.0, 'comp_000_h2/curvature': -1.0, 'comp_001_e10/curvature': 0.0}\n",
            "\tTrainEpoch 338:\t{'bce': -9147.698152009314, 'kl': 33.381661643412485, 'elbo': -9181.079813652725, 'll': 0.0, 'mi': 0.0, 'cov_norm': 0.0, 'beta': 1.0, 'comp_000_h2/curvature': -1.0, 'comp_001_e10/curvature': 0.0}\n",
            "\tTrainEpoch 339:\t{'bce': -9147.610738432903, 'kl': 33.43404893671313, 'elbo': -9181.044787369618, 'll': 0.0, 'mi': 0.0, 'cov_norm': 0.0, 'beta': 1.0, 'comp_000_h2/curvature': -1.0, 'comp_001_e10/curvature': 0.0}\n",
            "\tTrainEpoch 340:\t{'bce': -9147.512110769172, 'kl': 33.36526510132539, 'elbo': -9180.877375870497, 'll': 0.0, 'mi': 0.0, 'cov_norm': 0.0, 'beta': 1.0, 'comp_000_h2/curvature': -1.0, 'comp_001_e10/curvature': 0.0}\n",
            "\tTrainEpoch 341:\t{'bce': -9147.983533874496, 'kl': 33.40048867668215, 'elbo': -9181.384022551176, 'll': 0.0, 'mi': 0.0, 'cov_norm': 0.0, 'beta': 1.0, 'comp_000_h2/curvature': -1.0, 'comp_001_e10/curvature': 0.0}\n",
            "\tTrainEpoch 342:\t{'bce': -9146.865361365404, 'kl': 33.445765784197796, 'elbo': -9180.311127149598, 'll': 0.0, 'mi': 0.0, 'cov_norm': 0.0, 'beta': 1.0, 'comp_000_h2/curvature': -1.0, 'comp_001_e10/curvature': 0.0}\n",
            "\tTrainEpoch 343:\t{'bce': -9147.366365629647, 'kl': 33.47449064467464, 'elbo': -9180.84085627432, 'll': 0.0, 'mi': 0.0, 'cov_norm': 0.0, 'beta': 1.0, 'comp_000_h2/curvature': -1.0, 'comp_001_e10/curvature': 0.0}\n",
            "\tTrainEpoch 344:\t{'bce': -9147.406375160008, 'kl': 33.42265636420277, 'elbo': -9180.829031524207, 'll': 0.0, 'mi': 0.0, 'cov_norm': 0.0, 'beta': 1.0, 'comp_000_h2/curvature': -1.0, 'comp_001_e10/curvature': 0.0}\n",
            "\tTrainEpoch 345:\t{'bce': -9146.622539231257, 'kl': 33.38977115025604, 'elbo': -9180.01231038152, 'll': 0.0, 'mi': 0.0, 'cov_norm': 0.0, 'beta': 1.0, 'comp_000_h2/curvature': -1.0, 'comp_001_e10/curvature': 0.0}\n",
            "\tTrainEpoch 346:\t{'bce': -9146.73041813497, 'kl': 33.45390148995799, 'elbo': -9180.184319624923, 'll': 0.0, 'mi': 0.0, 'cov_norm': 0.0, 'beta': 1.0, 'comp_000_h2/curvature': -1.0, 'comp_001_e10/curvature': 0.0}\n",
            "\tTrainEpoch 347:\t{'bce': -9146.469020794719, 'kl': 33.41354788056391, 'elbo': -9179.88256867529, 'll': 0.0, 'mi': 0.0, 'cov_norm': 0.0, 'beta': 1.0, 'comp_000_h2/curvature': -1.0, 'comp_001_e10/curvature': 0.0}\n",
            "\tTrainEpoch 348:\t{'bce': -9146.637785342084, 'kl': 33.41787243144595, 'elbo': -9180.05565777353, 'll': 0.0, 'mi': 0.0, 'cov_norm': 0.0, 'beta': 1.0, 'comp_000_h2/curvature': -1.0, 'comp_001_e10/curvature': 0.0}\n",
            "\tTrainEpoch 349:\t{'bce': -9146.832041012562, 'kl': 33.42882510226476, 'elbo': -9180.260866114813, 'll': 0.0, 'mi': 0.0, 'cov_norm': 0.0, 'beta': 1.0, 'comp_000_h2/curvature': -1.0, 'comp_001_e10/curvature': 0.0}\n",
            "\tTrainEpoch 350:\t{'bce': -9146.911511891603, 'kl': 33.41227887339416, 'elbo': -9180.323790764998, 'll': 0.0, 'mi': 0.0, 'cov_norm': 0.0, 'beta': 1.0, 'comp_000_h2/curvature': -1.0, 'comp_001_e10/curvature': 0.0}\n",
            "\tTrainEpoch 351:\t{'bce': -9146.707640199582, 'kl': 33.410144944521534, 'elbo': -9180.11778514411, 'll': 0.0, 'mi': 0.0, 'cov_norm': 0.0, 'beta': 1.0, 'comp_000_h2/curvature': -1.0, 'comp_001_e10/curvature': 0.0}\n",
            "\tTrainEpoch 352:\t{'bce': -9146.313262302154, 'kl': 33.37483969890694, 'elbo': -9179.688102001053, 'll': 0.0, 'mi': 0.0, 'cov_norm': 0.0, 'beta': 1.0, 'comp_000_h2/curvature': -1.0, 'comp_001_e10/curvature': 0.0}\n",
            "\tTrainEpoch 353:\t{'bce': -9146.278542944678, 'kl': 33.43706327272038, 'elbo': -9179.715606217396, 'll': 0.0, 'mi': 0.0, 'cov_norm': 0.0, 'beta': 1.0, 'comp_000_h2/curvature': -1.0, 'comp_001_e10/curvature': 0.0}\n",
            "\tTrainEpoch 354:\t{'bce': -9146.176581785949, 'kl': 33.43691974806751, 'elbo': -9179.61350153402, 'll': 0.0, 'mi': 0.0, 'cov_norm': 0.0, 'beta': 1.0, 'comp_000_h2/curvature': -1.0, 'comp_001_e10/curvature': 0.0}\n",
            "\tTrainEpoch 355:\t{'bce': -9146.065390820644, 'kl': 33.43842347830543, 'elbo': -9179.503814298954, 'll': 0.0, 'mi': 0.0, 'cov_norm': 0.0, 'beta': 1.0, 'comp_000_h2/curvature': -1.0, 'comp_001_e10/curvature': 0.0}\n",
            "\tTrainEpoch 356:\t{'bce': -9145.517635362663, 'kl': 33.388622159563596, 'elbo': -9178.906257522229, 'll': 0.0, 'mi': 0.0, 'cov_norm': 0.0, 'beta': 1.0, 'comp_000_h2/curvature': -1.0, 'comp_001_e10/curvature': 0.0}\n",
            "\tTrainEpoch 357:\t{'bce': -9145.807743714966, 'kl': 33.44551349055668, 'elbo': -9179.253257205517, 'll': 0.0, 'mi': 0.0, 'cov_norm': 0.0, 'beta': 1.0, 'comp_000_h2/curvature': -1.0, 'comp_001_e10/curvature': 0.0}\n",
            "\tTrainEpoch 358:\t{'bce': -9145.294051573434, 'kl': 33.432637706937285, 'elbo': -9178.726689280378, 'll': 0.0, 'mi': 0.0, 'cov_norm': 0.0, 'beta': 1.0, 'comp_000_h2/curvature': -1.0, 'comp_001_e10/curvature': 0.0}\n",
            "\tTrainEpoch 359:\t{'bce': -9145.884938988964, 'kl': 33.42056776320626, 'elbo': -9179.305506752165, 'll': 0.0, 'mi': 0.0, 'cov_norm': 0.0, 'beta': 1.0, 'comp_000_h2/curvature': -1.0, 'comp_001_e10/curvature': 0.0}\n",
            "\tTrainEpoch 360:\t{'bce': -9146.316967412351, 'kl': 33.498030375239814, 'elbo': -9179.814997787593, 'll': 0.0, 'mi': 0.0, 'cov_norm': 0.0, 'beta': 1.0, 'comp_000_h2/curvature': -1.0, 'comp_001_e10/curvature': 0.0}\n",
            "\tTrainEpoch 361:\t{'bce': -9145.835656345625, 'kl': 33.47359709091694, 'elbo': -9179.309253436544, 'll': 0.0, 'mi': 0.0, 'cov_norm': 0.0, 'beta': 1.0, 'comp_000_h2/curvature': -1.0, 'comp_001_e10/curvature': 0.0}\n",
            "\tTrainEpoch 362:\t{'bce': -9146.051593205091, 'kl': 33.46039407174161, 'elbo': -9179.511987276835, 'll': 0.0, 'mi': 0.0, 'cov_norm': 0.0, 'beta': 1.0, 'comp_000_h2/curvature': -1.0, 'comp_001_e10/curvature': 0.0}\n",
            "\tTrainEpoch 363:\t{'bce': -9145.251998436472, 'kl': 33.43858077613718, 'elbo': -9178.690579212607, 'll': 0.0, 'mi': 0.0, 'cov_norm': 0.0, 'beta': 1.0, 'comp_000_h2/curvature': -1.0, 'comp_001_e10/curvature': 0.0}\n",
            "\tTrainEpoch 364:\t{'bce': -9145.806742834113, 'kl': 33.48219472654893, 'elbo': -9179.288937560665, 'll': 0.0, 'mi': 0.0, 'cov_norm': 0.0, 'beta': 1.0, 'comp_000_h2/curvature': -1.0, 'comp_001_e10/curvature': 0.0}\n",
            "\tTrainEpoch 365:\t{'bce': -9145.314859722459, 'kl': 33.41044638709745, 'elbo': -9178.725306109556, 'll': 0.0, 'mi': 0.0, 'cov_norm': 0.0, 'beta': 1.0, 'comp_000_h2/curvature': -1.0, 'comp_001_e10/curvature': 0.0}\n",
            "\tTrainEpoch 366:\t{'bce': -9145.251260535875, 'kl': 33.464092151390744, 'elbo': -9178.715352687268, 'll': 0.0, 'mi': 0.0, 'cov_norm': 0.0, 'beta': 1.0, 'comp_000_h2/curvature': -1.0, 'comp_001_e10/curvature': 0.0}\n",
            "\tTrainEpoch 367:\t{'bce': -9144.967934257891, 'kl': 33.43774625454884, 'elbo': -9178.405680512447, 'll': 0.0, 'mi': 0.0, 'cov_norm': 0.0, 'beta': 1.0, 'comp_000_h2/curvature': -1.0, 'comp_001_e10/curvature': 0.0}\n",
            "\tTrainEpoch 368:\t{'bce': -9145.277425699078, 'kl': 33.43400249075283, 'elbo': -9178.711428189832, 'll': 0.0, 'mi': 0.0, 'cov_norm': 0.0, 'beta': 1.0, 'comp_000_h2/curvature': -1.0, 'comp_001_e10/curvature': 0.0}\n",
            "\tTrainEpoch 369:\t{'bce': -9145.319010073745, 'kl': 33.47312475949321, 'elbo': -9178.792134833242, 'll': 0.0, 'mi': 0.0, 'cov_norm': 0.0, 'beta': 1.0, 'comp_000_h2/curvature': -1.0, 'comp_001_e10/curvature': 0.0}\n",
            "\tTrainEpoch 370:\t{'bce': -9144.830079002071, 'kl': 33.46785827988934, 'elbo': -9178.297937281957, 'll': 0.0, 'mi': 0.0, 'cov_norm': 0.0, 'beta': 1.0, 'comp_000_h2/curvature': -1.0, 'comp_001_e10/curvature': 0.0}\n",
            "\tTrainEpoch 371:\t{'bce': -9144.95317626503, 'kl': 33.50794156698413, 'elbo': -9178.46111783201, 'll': 0.0, 'mi': 0.0, 'cov_norm': 0.0, 'beta': 1.0, 'comp_000_h2/curvature': -1.0, 'comp_001_e10/curvature': 0.0}\n",
            "\tTrainEpoch 372:\t{'bce': -9144.77158659708, 'kl': 33.45777947160375, 'elbo': -9178.229366068674, 'll': 0.0, 'mi': 0.0, 'cov_norm': 0.0, 'beta': 1.0, 'comp_000_h2/curvature': -1.0, 'comp_001_e10/curvature': 0.0}\n",
            "\tTrainEpoch 373:\t{'bce': -9144.819123788802, 'kl': 33.42648129425108, 'elbo': -9178.24560508305, 'll': 0.0, 'mi': 0.0, 'cov_norm': 0.0, 'beta': 1.0, 'comp_000_h2/curvature': -1.0, 'comp_001_e10/curvature': 0.0}\n",
            "\tTrainEpoch 374:\t{'bce': -9144.80223049188, 'kl': 33.518820380418546, 'elbo': -9178.321050872297, 'll': 0.0, 'mi': 0.0, 'cov_norm': 0.0, 'beta': 1.0, 'comp_000_h2/curvature': -1.0, 'comp_001_e10/curvature': 0.0}\n",
            "\tTrainEpoch 375:\t{'bce': -9144.753512571668, 'kl': 33.42986032909978, 'elbo': -9178.183372900765, 'll': 0.0, 'mi': 0.0, 'cov_norm': 0.0, 'beta': 1.0, 'comp_000_h2/curvature': -1.0, 'comp_001_e10/curvature': 0.0}\n",
            "\tTrainEpoch 376:\t{'bce': -9144.059871778658, 'kl': 33.491886107862626, 'elbo': -9177.551757886531, 'll': 0.0, 'mi': 0.0, 'cov_norm': 0.0, 'beta': 1.0, 'comp_000_h2/curvature': -1.0, 'comp_001_e10/curvature': 0.0}\n",
            "\tTrainEpoch 377:\t{'bce': -9144.344965396745, 'kl': 33.4943194077887, 'elbo': -9177.839284804539, 'll': 0.0, 'mi': 0.0, 'cov_norm': 0.0, 'beta': 1.0, 'comp_000_h2/curvature': -1.0, 'comp_001_e10/curvature': 0.0}\n",
            "\tTrainEpoch 378:\t{'bce': -9144.323433861351, 'kl': 33.464215665836534, 'elbo': -9177.787649527187, 'll': 0.0, 'mi': 0.0, 'cov_norm': 0.0, 'beta': 1.0, 'comp_000_h2/curvature': -1.0, 'comp_001_e10/curvature': 0.0}\n",
            "\tTrainEpoch 379:\t{'bce': -9143.70407399827, 'kl': 33.50519879137444, 'elbo': -9177.209272789647, 'll': 0.0, 'mi': 0.0, 'cov_norm': 0.0, 'beta': 1.0, 'comp_000_h2/curvature': -1.0, 'comp_001_e10/curvature': 0.0}\n",
            "\tTrainEpoch 380:\t{'bce': -9143.392037781232, 'kl': 33.46297824977111, 'elbo': -9176.855016031006, 'll': 0.0, 'mi': 0.0, 'cov_norm': 0.0, 'beta': 1.0, 'comp_000_h2/curvature': -1.0, 'comp_001_e10/curvature': 0.0}\n",
            "\tTrainEpoch 381:\t{'bce': -9143.499386816135, 'kl': 33.507042320737426, 'elbo': -9177.006429136874, 'll': 0.0, 'mi': 0.0, 'cov_norm': 0.0, 'beta': 1.0, 'comp_000_h2/curvature': -1.0, 'comp_001_e10/curvature': 0.0}\n",
            "\tTrainEpoch 382:\t{'bce': -9144.315874227092, 'kl': 33.47869988155541, 'elbo': -9177.79457410865, 'll': 0.0, 'mi': 0.0, 'cov_norm': 0.0, 'beta': 1.0, 'comp_000_h2/curvature': -1.0, 'comp_001_e10/curvature': 0.0}\n",
            "\tTrainEpoch 383:\t{'bce': -9143.835816435743, 'kl': 33.44634828309713, 'elbo': -9177.282164718843, 'll': 0.0, 'mi': 0.0, 'cov_norm': 0.0, 'beta': 1.0, 'comp_000_h2/curvature': -1.0, 'comp_001_e10/curvature': 0.0}\n",
            "\tTrainEpoch 384:\t{'bce': -9143.820407650726, 'kl': 33.497107514331404, 'elbo': -9177.317515165061, 'll': 0.0, 'mi': 0.0, 'cov_norm': 0.0, 'beta': 1.0, 'comp_000_h2/curvature': -1.0, 'comp_001_e10/curvature': 0.0}\n",
            "\tTrainEpoch 385:\t{'bce': -9143.331234266632, 'kl': 33.47003105427189, 'elbo': -9176.801265320895, 'll': 0.0, 'mi': 0.0, 'cov_norm': 0.0, 'beta': 1.0, 'comp_000_h2/curvature': -1.0, 'comp_001_e10/curvature': 0.0}\n",
            "\tTrainEpoch 386:\t{'bce': -9143.409907863117, 'kl': 33.49540930996013, 'elbo': -9176.905317173074, 'll': 0.0, 'mi': 0.0, 'cov_norm': 0.0, 'beta': 1.0, 'comp_000_h2/curvature': -1.0, 'comp_001_e10/curvature': 0.0}\n",
            "\tTrainEpoch 387:\t{'bce': -9143.558013292659, 'kl': 33.43688352143588, 'elbo': -9176.994896814092, 'll': 0.0, 'mi': 0.0, 'cov_norm': 0.0, 'beta': 1.0, 'comp_000_h2/curvature': -1.0, 'comp_001_e10/curvature': 0.0}\n",
            "\tTrainEpoch 388:\t{'bce': -9142.729559644473, 'kl': 33.49827475671225, 'elbo': -9176.227834401192, 'll': 0.0, 'mi': 0.0, 'cov_norm': 0.0, 'beta': 1.0, 'comp_000_h2/curvature': -1.0, 'comp_001_e10/curvature': 0.0}\n",
            "\tTrainEpoch 389:\t{'bce': -9143.167454663993, 'kl': 33.50424604479305, 'elbo': -9176.67170070878, 'll': 0.0, 'mi': 0.0, 'cov_norm': 0.0, 'beta': 1.0, 'comp_000_h2/curvature': -1.0, 'comp_001_e10/curvature': 0.0}\n",
            "\tTrainEpoch 390:\t{'bce': -9143.082805184355, 'kl': 33.51412949579464, 'elbo': -9176.59693468015, 'll': 0.0, 'mi': 0.0, 'cov_norm': 0.0, 'beta': 1.0, 'comp_000_h2/curvature': -1.0, 'comp_001_e10/curvature': 0.0}\n",
            "\tTrainEpoch 391:\t{'bce': -9143.020855112025, 'kl': 33.54867548087914, 'elbo': -9176.569530592904, 'll': 0.0, 'mi': 0.0, 'cov_norm': 0.0, 'beta': 1.0, 'comp_000_h2/curvature': -1.0, 'comp_001_e10/curvature': 0.0}\n",
            "\tTrainEpoch 392:\t{'bce': -9142.925491423905, 'kl': 33.49347807611911, 'elbo': -9176.418969500037, 'll': 0.0, 'mi': 0.0, 'cov_norm': 0.0, 'beta': 1.0, 'comp_000_h2/curvature': -1.0, 'comp_001_e10/curvature': 0.0}\n",
            "\tTrainEpoch 393:\t{'bce': -9143.126223337184, 'kl': 33.50821501524482, 'elbo': -9176.634438352423, 'll': 0.0, 'mi': 0.0, 'cov_norm': 0.0, 'beta': 1.0, 'comp_000_h2/curvature': -1.0, 'comp_001_e10/curvature': 0.0}\n",
            "\tTrainEpoch 394:\t{'bce': -9143.127987147815, 'kl': 33.53162796688207, 'elbo': -9176.65961511469, 'll': 0.0, 'mi': 0.0, 'cov_norm': 0.0, 'beta': 1.0, 'comp_000_h2/curvature': -1.0, 'comp_001_e10/curvature': 0.0}\n",
            "\tTrainEpoch 395:\t{'bce': -9142.92038189627, 'kl': 33.45229272550414, 'elbo': -9176.37267462177, 'll': 0.0, 'mi': 0.0, 'cov_norm': 0.0, 'beta': 1.0, 'comp_000_h2/curvature': -1.0, 'comp_001_e10/curvature': 0.0}\n",
            "\tTrainEpoch 396:\t{'bce': -9142.654324594567, 'kl': 33.44896849369617, 'elbo': -9176.103293088257, 'll': 0.0, 'mi': 0.0, 'cov_norm': 0.0, 'beta': 1.0, 'comp_000_h2/curvature': -1.0, 'comp_001_e10/curvature': 0.0}\n",
            "\tTrainEpoch 397:\t{'bce': -9142.750016695234, 'kl': 33.521089712323864, 'elbo': -9176.271106407552, 'll': 0.0, 'mi': 0.0, 'cov_norm': 0.0, 'beta': 1.0, 'comp_000_h2/curvature': -1.0, 'comp_001_e10/curvature': 0.0}\n",
            "\tTrainEpoch 398:\t{'bce': -9143.120091635426, 'kl': 33.48317922004005, 'elbo': -9176.603270855469, 'll': 0.0, 'mi': 0.0, 'cov_norm': 0.0, 'beta': 1.0, 'comp_000_h2/curvature': -1.0, 'comp_001_e10/curvature': 0.0}\n",
            "\tTrainEpoch 399:\t{'bce': -9142.037207119061, 'kl': 33.49793335103758, 'elbo': -9175.535140470103, 'll': 0.0, 'mi': 0.0, 'cov_norm': 0.0, 'beta': 1.0, 'comp_000_h2/curvature': -1.0, 'comp_001_e10/curvature': 0.0}\n",
            "\tTrainEpoch 400:\t{'bce': -9142.278908884316, 'kl': 33.52909149889403, 'elbo': -9175.808000383215, 'll': 0.0, 'mi': 0.0, 'cov_norm': 0.0, 'beta': 1.0, 'comp_000_h2/curvature': -1.0, 'comp_001_e10/curvature': 0.0}\n",
            "\tTrainEpoch 401:\t{'bce': -9142.681624328303, 'kl': 33.50545467761094, 'elbo': -9176.187079005913, 'll': 0.0, 'mi': 0.0, 'cov_norm': 0.0, 'beta': 1.0, 'comp_000_h2/curvature': -1.0, 'comp_001_e10/curvature': 0.0}\n",
            "\tTrainEpoch 402:\t{'bce': -9142.732412631187, 'kl': 33.48534054173802, 'elbo': -9176.217753172921, 'll': 0.0, 'mi': 0.0, 'cov_norm': 0.0, 'beta': 1.0, 'comp_000_h2/curvature': -1.0, 'comp_001_e10/curvature': 0.0}\n",
            "\tTrainEpoch 403:\t{'bce': -9142.036518383762, 'kl': 33.492884853192784, 'elbo': -9175.529403236947, 'll': 0.0, 'mi': 0.0, 'cov_norm': 0.0, 'beta': 1.0, 'comp_000_h2/curvature': -1.0, 'comp_001_e10/curvature': 0.0}\n",
            "\tTrainEpoch 404:\t{'bce': -9142.178143178853, 'kl': 33.48493875979927, 'elbo': -9175.66308193864, 'll': 0.0, 'mi': 0.0, 'cov_norm': 0.0, 'beta': 1.0, 'comp_000_h2/curvature': -1.0, 'comp_001_e10/curvature': 0.0}\n",
            "\tTrainEpoch 405:\t{'bce': -9142.054540275629, 'kl': 33.481344748472665, 'elbo': -9175.535885024103, 'll': 0.0, 'mi': 0.0, 'cov_norm': 0.0, 'beta': 1.0, 'comp_000_h2/curvature': -1.0, 'comp_001_e10/curvature': 0.0}\n",
            "\tTrainEpoch 406:\t{'bce': -9141.626447250183, 'kl': 33.50824549874211, 'elbo': -9175.134692748929, 'll': 0.0, 'mi': 0.0, 'cov_norm': 0.0, 'beta': 1.0, 'comp_000_h2/curvature': -1.0, 'comp_001_e10/curvature': 0.0}\n",
            "\tTrainEpoch 407:\t{'bce': -9141.548569693528, 'kl': 33.523319802138154, 'elbo': -9175.071889495668, 'll': 0.0, 'mi': 0.0, 'cov_norm': 0.0, 'beta': 1.0, 'comp_000_h2/curvature': -1.0, 'comp_001_e10/curvature': 0.0}\n",
            "\tTrainEpoch 408:\t{'bce': -9141.562164129604, 'kl': 33.513137346769994, 'elbo': -9175.075301476378, 'll': 0.0, 'mi': 0.0, 'cov_norm': 0.0, 'beta': 1.0, 'comp_000_h2/curvature': -1.0, 'comp_001_e10/curvature': 0.0}\n",
            "\tTrainEpoch 409:\t{'bce': -9142.133216675747, 'kl': 33.46540625886597, 'elbo': -9175.598622934614, 'll': 0.0, 'mi': 0.0, 'cov_norm': 0.0, 'beta': 1.0, 'comp_000_h2/curvature': -1.0, 'comp_001_e10/curvature': 0.0}\n",
            "\tTrainEpoch 410:\t{'bce': -9142.654415792711, 'kl': 33.52920827240776, 'elbo': -9176.183624065116, 'll': 0.0, 'mi': 0.0, 'cov_norm': 0.0, 'beta': 1.0, 'comp_000_h2/curvature': -1.0, 'comp_001_e10/curvature': 0.0}\n",
            "\tTrainEpoch 411:\t{'bce': -9141.510130613704, 'kl': 33.49683721014092, 'elbo': -9175.006967823843, 'll': 0.0, 'mi': 0.0, 'cov_norm': 0.0, 'beta': 1.0, 'comp_000_h2/curvature': -1.0, 'comp_001_e10/curvature': 0.0}\n",
            "\tTrainEpoch 412:\t{'bce': -9141.835909257456, 'kl': 33.5062383267745, 'elbo': -9175.342147584231, 'll': 0.0, 'mi': 0.0, 'cov_norm': 0.0, 'beta': 1.0, 'comp_000_h2/curvature': -1.0, 'comp_001_e10/curvature': 0.0}\n",
            "\tTrainEpoch 413:\t{'bce': -9141.979242449848, 'kl': 33.47430067315288, 'elbo': -9175.453543123002, 'll': 0.0, 'mi': 0.0, 'cov_norm': 0.0, 'beta': 1.0, 'comp_000_h2/curvature': -1.0, 'comp_001_e10/curvature': 0.0}\n",
            "\tTrainEpoch 414:\t{'bce': -9140.760936764686, 'kl': 33.49997758953382, 'elbo': -9174.260914354218, 'll': 0.0, 'mi': 0.0, 'cov_norm': 0.0, 'beta': 1.0, 'comp_000_h2/curvature': -1.0, 'comp_001_e10/curvature': 0.0}\n",
            "\tTrainEpoch 415:\t{'bce': -9140.807130985964, 'kl': 33.514752657688526, 'elbo': -9174.321883643657, 'll': 0.0, 'mi': 0.0, 'cov_norm': 0.0, 'beta': 1.0, 'comp_000_h2/curvature': -1.0, 'comp_001_e10/curvature': 0.0}\n",
            "\tTrainEpoch 416:\t{'bce': -9140.74714640164, 'kl': 33.55763998181928, 'elbo': -9174.304786383456, 'll': 0.0, 'mi': 0.0, 'cov_norm': 0.0, 'beta': 1.0, 'comp_000_h2/curvature': -1.0, 'comp_001_e10/curvature': 0.0}\n",
            "\tTrainEpoch 417:\t{'bce': -9141.045242292916, 'kl': 33.532155754532994, 'elbo': -9174.577398047448, 'll': 0.0, 'mi': 0.0, 'cov_norm': 0.0, 'beta': 1.0, 'comp_000_h2/curvature': -1.0, 'comp_001_e10/curvature': 0.0}\n",
            "\tTrainEpoch 418:\t{'bce': -9140.903563084441, 'kl': 33.55465041391801, 'elbo': -9174.458213498363, 'll': 0.0, 'mi': 0.0, 'cov_norm': 0.0, 'beta': 1.0, 'comp_000_h2/curvature': -1.0, 'comp_001_e10/curvature': 0.0}\n",
            "\tTrainEpoch 419:\t{'bce': -9141.702058275643, 'kl': 33.55277195572626, 'elbo': -9175.254830231364, 'll': 0.0, 'mi': 0.0, 'cov_norm': 0.0, 'beta': 1.0, 'comp_000_h2/curvature': -1.0, 'comp_001_e10/curvature': 0.0}\n",
            "\tTrainEpoch 420:\t{'bce': -9141.102432625556, 'kl': 33.576141583661396, 'elbo': -9174.678574209214, 'll': 0.0, 'mi': 0.0, 'cov_norm': 0.0, 'beta': 1.0, 'comp_000_h2/curvature': -1.0, 'comp_001_e10/curvature': 0.0}\n",
            "\tTrainEpoch 421:\t{'bce': -9141.206871736696, 'kl': 33.55506894625213, 'elbo': -9174.761940682947, 'll': 0.0, 'mi': 0.0, 'cov_norm': 0.0, 'beta': 1.0, 'comp_000_h2/curvature': -1.0, 'comp_001_e10/curvature': 0.0}\n",
            "\tTrainEpoch 422:\t{'bce': -9141.371993528586, 'kl': 33.57078726145186, 'elbo': -9174.942780790025, 'll': 0.0, 'mi': 0.0, 'cov_norm': 0.0, 'beta': 1.0, 'comp_000_h2/curvature': -1.0, 'comp_001_e10/curvature': 0.0}\n",
            "\tTrainEpoch 423:\t{'bce': -9141.730125613123, 'kl': 33.529906404085246, 'elbo': -9175.2600320172, 'll': 0.0, 'mi': 0.0, 'cov_norm': 0.0, 'beta': 1.0, 'comp_000_h2/curvature': -1.0, 'comp_001_e10/curvature': 0.0}\n",
            "\tTrainEpoch 424:\t{'bce': -9140.44239168417, 'kl': 33.483069078750574, 'elbo': -9173.92546076292, 'll': 0.0, 'mi': 0.0, 'cov_norm': 0.0, 'beta': 1.0, 'comp_000_h2/curvature': -1.0, 'comp_001_e10/curvature': 0.0}\n",
            "\tTrainEpoch 425:\t{'bce': -9139.977584237356, 'kl': 33.5842470533174, 'elbo': -9173.561831290672, 'll': 0.0, 'mi': 0.0, 'cov_norm': 0.0, 'beta': 1.0, 'comp_000_h2/curvature': -1.0, 'comp_001_e10/curvature': 0.0}\n",
            "\tTrainEpoch 426:\t{'bce': -9140.320109898637, 'kl': 33.557560964276036, 'elbo': -9173.877670862916, 'll': 0.0, 'mi': 0.0, 'cov_norm': 0.0, 'beta': 1.0, 'comp_000_h2/curvature': -1.0, 'comp_001_e10/curvature': 0.0}\n",
            "\tTrainEpoch 427:\t{'bce': -9140.472047560103, 'kl': 33.53457680331467, 'elbo': -9174.006624363412, 'll': 0.0, 'mi': 0.0, 'cov_norm': 0.0, 'beta': 1.0, 'comp_000_h2/curvature': -1.0, 'comp_001_e10/curvature': 0.0}\n",
            "\tTrainEpoch 428:\t{'bce': -9140.290191110182, 'kl': 33.532578907580564, 'elbo': -9173.822770017767, 'll': 0.0, 'mi': 0.0, 'cov_norm': 0.0, 'beta': 1.0, 'comp_000_h2/curvature': -1.0, 'comp_001_e10/curvature': 0.0}\n",
            "\tTrainEpoch 429:\t{'bce': -9140.351460721347, 'kl': 33.5482226923122, 'elbo': -9173.899683413652, 'll': 0.0, 'mi': 0.0, 'cov_norm': 0.0, 'beta': 1.0, 'comp_000_h2/curvature': -1.0, 'comp_001_e10/curvature': 0.0}\n",
            "\tTrainEpoch 430:\t{'bce': -9140.22372045107, 'kl': 33.59727213104235, 'elbo': -9173.820992582105, 'll': 0.0, 'mi': 0.0, 'cov_norm': 0.0, 'beta': 1.0, 'comp_000_h2/curvature': -1.0, 'comp_001_e10/curvature': 0.0}\n",
            "\tTrainEpoch 431:\t{'bce': -9139.828354640213, 'kl': 33.55056145877799, 'elbo': -9173.37891609898, 'll': 0.0, 'mi': 0.0, 'cov_norm': 0.0, 'beta': 1.0, 'comp_000_h2/curvature': -1.0, 'comp_001_e10/curvature': 0.0}\n",
            "\tTrainEpoch 432:\t{'bce': -9140.144912942336, 'kl': 33.5411932864892, 'elbo': -9173.686106228824, 'll': 0.0, 'mi': 0.0, 'cov_norm': 0.0, 'beta': 1.0, 'comp_000_h2/curvature': -1.0, 'comp_001_e10/curvature': 0.0}\n",
            "\tTrainEpoch 433:\t{'bce': -9139.666365389001, 'kl': 33.53074011975259, 'elbo': -9173.197105508758, 'll': 0.0, 'mi': 0.0, 'cov_norm': 0.0, 'beta': 1.0, 'comp_000_h2/curvature': -1.0, 'comp_001_e10/curvature': 0.0}\n",
            "\tTrainEpoch 434:\t{'bce': -9139.430686358175, 'kl': 33.56136240309179, 'elbo': -9172.992048761267, 'll': 0.0, 'mi': 0.0, 'cov_norm': 0.0, 'beta': 1.0, 'comp_000_h2/curvature': -1.0, 'comp_001_e10/curvature': 0.0}\n",
            "\tTrainEpoch 435:\t{'bce': -9139.209779640105, 'kl': 33.58302019593993, 'elbo': -9172.79279983604, 'll': 0.0, 'mi': 0.0, 'cov_norm': 0.0, 'beta': 1.0, 'comp_000_h2/curvature': -1.0, 'comp_001_e10/curvature': 0.0}\n",
            "\tTrainEpoch 436:\t{'bce': -9139.78820667525, 'kl': 33.5997043700953, 'elbo': -9173.387911045349, 'll': 0.0, 'mi': 0.0, 'cov_norm': 0.0, 'beta': 1.0, 'comp_000_h2/curvature': -1.0, 'comp_001_e10/curvature': 0.0}\n",
            "\tTrainEpoch 437:\t{'bce': -9140.110648936587, 'kl': 33.53860376189255, 'elbo': -9173.649252698482, 'll': 0.0, 'mi': 0.0, 'cov_norm': 0.0, 'beta': 1.0, 'comp_000_h2/curvature': -1.0, 'comp_001_e10/curvature': 0.0}\n",
            "\tTrainEpoch 438:\t{'bce': -9139.599013832812, 'kl': 33.53942789631694, 'elbo': -9173.138441729132, 'll': 0.0, 'mi': 0.0, 'cov_norm': 0.0, 'beta': 1.0, 'comp_000_h2/curvature': -1.0, 'comp_001_e10/curvature': 0.0}\n",
            "\tTrainEpoch 439:\t{'bce': -9139.637487643586, 'kl': 33.52004351373891, 'elbo': -9173.157531157329, 'll': 0.0, 'mi': 0.0, 'cov_norm': 0.0, 'beta': 1.0, 'comp_000_h2/curvature': -1.0, 'comp_001_e10/curvature': 0.0}\n",
            "\tTrainEpoch 440:\t{'bce': -9139.468764015877, 'kl': 33.550515082582784, 'elbo': -9173.019279098462, 'll': 0.0, 'mi': 0.0, 'cov_norm': 0.0, 'beta': 1.0, 'comp_000_h2/curvature': -1.0, 'comp_001_e10/curvature': 0.0}\n",
            "\tTrainEpoch 441:\t{'bce': -9139.881172909447, 'kl': 33.56549844190187, 'elbo': -9173.446671351356, 'll': 0.0, 'mi': 0.0, 'cov_norm': 0.0, 'beta': 1.0, 'comp_000_h2/curvature': -1.0, 'comp_001_e10/curvature': 0.0}\n",
            "\tTrainEpoch 442:\t{'bce': -9139.534581564001, 'kl': 33.57069745094601, 'elbo': -9173.105279014939, 'll': 0.0, 'mi': 0.0, 'cov_norm': 0.0, 'beta': 1.0, 'comp_000_h2/curvature': -1.0, 'comp_001_e10/curvature': 0.0}\n",
            "\tTrainEpoch 443:\t{'bce': -9139.604936739046, 'kl': 33.529548779731066, 'elbo': -9173.134485518773, 'll': 0.0, 'mi': 0.0, 'cov_norm': 0.0, 'beta': 1.0, 'comp_000_h2/curvature': -1.0, 'comp_001_e10/curvature': 0.0}\n",
            "\tTrainEpoch 444:\t{'bce': -9140.686131572988, 'kl': 33.51656455141763, 'elbo': -9174.20269612441, 'll': 0.0, 'mi': 0.0, 'cov_norm': 0.0, 'beta': 1.0, 'comp_000_h2/curvature': -1.0, 'comp_001_e10/curvature': 0.0}\n",
            "\tTrainEpoch 445:\t{'bce': -9140.087717847591, 'kl': 33.535071941783045, 'elbo': -9173.622789789373, 'll': 0.0, 'mi': 0.0, 'cov_norm': 0.0, 'beta': 1.0, 'comp_000_h2/curvature': -1.0, 'comp_001_e10/curvature': 0.0}\n",
            "\tTrainEpoch 446:\t{'bce': -9139.876507352787, 'kl': 33.49606611906264, 'elbo': -9173.372573471854, 'll': 0.0, 'mi': 0.0, 'cov_norm': 0.0, 'beta': 1.0, 'comp_000_h2/curvature': -1.0, 'comp_001_e10/curvature': 0.0}\n",
            "\tTrainEpoch 447:\t{'bce': -9139.600868958365, 'kl': 33.54245523815157, 'elbo': -9173.143324196515, 'll': 0.0, 'mi': 0.0, 'cov_norm': 0.0, 'beta': 1.0, 'comp_000_h2/curvature': -1.0, 'comp_001_e10/curvature': 0.0}\n",
            "\tTrainEpoch 448:\t{'bce': -9140.029012060899, 'kl': 33.54136827415519, 'elbo': -9173.570380335055, 'll': 0.0, 'mi': 0.0, 'cov_norm': 0.0, 'beta': 1.0, 'comp_000_h2/curvature': -1.0, 'comp_001_e10/curvature': 0.0}\n",
            "\tTrainEpoch 449:\t{'bce': -9138.99118997308, 'kl': 33.545449480816316, 'elbo': -9172.53663945389, 'll': 0.0, 'mi': 0.0, 'cov_norm': 0.0, 'beta': 1.0, 'comp_000_h2/curvature': -1.0, 'comp_001_e10/curvature': 0.0}\n",
            "\tTrainEpoch 450:\t{'bce': -9138.91113301949, 'kl': 33.55327004864577, 'elbo': -9172.464403068141, 'll': 0.0, 'mi': 0.0, 'cov_norm': 0.0, 'beta': 1.0, 'comp_000_h2/curvature': -1.0, 'comp_001_e10/curvature': 0.0}\n",
            "\tTrainEpoch 451:\t{'bce': -9138.512484636627, 'kl': 33.5634573911582, 'elbo': -9172.075942027786, 'll': 0.0, 'mi': 0.0, 'cov_norm': 0.0, 'beta': 1.0, 'comp_000_h2/curvature': -1.0, 'comp_001_e10/curvature': 0.0}\n",
            "\tTrainEpoch 452:\t{'bce': -9138.500877454722, 'kl': 33.550983219897006, 'elbo': -9172.051860674614, 'll': 0.0, 'mi': 0.0, 'cov_norm': 0.0, 'beta': 1.0, 'comp_000_h2/curvature': -1.0, 'comp_001_e10/curvature': 0.0}\n",
            "\tTrainEpoch 453:\t{'bce': -9139.066592609897, 'kl': 33.57374753464764, 'elbo': -9172.64034014454, 'll': 0.0, 'mi': 0.0, 'cov_norm': 0.0, 'beta': 1.0, 'comp_000_h2/curvature': -1.0, 'comp_001_e10/curvature': 0.0}\n",
            "\tTrainEpoch 454:\t{'bce': -9138.697799357638, 'kl': 33.58810218080788, 'elbo': -9172.28590153845, 'll': 0.0, 'mi': 0.0, 'cov_norm': 0.0, 'beta': 1.0, 'comp_000_h2/curvature': -1.0, 'comp_001_e10/curvature': 0.0}\n",
            "\tTrainEpoch 455:\t{'bce': -9138.240409325303, 'kl': 33.61046246135529, 'elbo': -9171.850871786659, 'll': 0.0, 'mi': 0.0, 'cov_norm': 0.0, 'beta': 1.0, 'comp_000_h2/curvature': -1.0, 'comp_001_e10/curvature': 0.0}\n",
            "\tTrainEpoch 456:\t{'bce': -9137.973021084197, 'kl': 33.570010735667815, 'elbo': -9171.543031819863, 'll': 0.0, 'mi': 0.0, 'cov_norm': 0.0, 'beta': 1.0, 'comp_000_h2/curvature': -1.0, 'comp_001_e10/curvature': 0.0}\n",
            "\tTrainEpoch 457:\t{'bce': -9138.55689151374, 'kl': 33.54709292944388, 'elbo': -9172.103984443189, 'll': 0.0, 'mi': 0.0, 'cov_norm': 0.0, 'beta': 1.0, 'comp_000_h2/curvature': -1.0, 'comp_001_e10/curvature': 0.0}\n",
            "\tTrainEpoch 458:\t{'bce': -9139.47267867506, 'kl': 33.57052844056544, 'elbo': -9173.043207115625, 'll': 0.0, 'mi': 0.0, 'cov_norm': 0.0, 'beta': 1.0, 'comp_000_h2/curvature': -1.0, 'comp_001_e10/curvature': 0.0}\n",
            "\tTrainEpoch 459:\t{'bce': -9138.018867830426, 'kl': 33.550660116767475, 'elbo': -9171.56952794719, 'll': 0.0, 'mi': 0.0, 'cov_norm': 0.0, 'beta': 1.0, 'comp_000_h2/curvature': -1.0, 'comp_001_e10/curvature': 0.0}\n",
            "\tTrainEpoch 460:\t{'bce': -9137.983198527718, 'kl': 33.57623986965994, 'elbo': -9171.559438397378, 'll': 0.0, 'mi': 0.0, 'cov_norm': 0.0, 'beta': 1.0, 'comp_000_h2/curvature': -1.0, 'comp_001_e10/curvature': 0.0}\n",
            "\tTrainEpoch 461:\t{'bce': -9137.947338190957, 'kl': 33.5749277377785, 'elbo': -9171.52226592874, 'll': 0.0, 'mi': 0.0, 'cov_norm': 0.0, 'beta': 1.0, 'comp_000_h2/curvature': -1.0, 'comp_001_e10/curvature': 0.0}\n",
            "\tTrainEpoch 462:\t{'bce': -9138.072734562758, 'kl': 33.63499354679443, 'elbo': -9171.707728109552, 'll': 0.0, 'mi': 0.0, 'cov_norm': 0.0, 'beta': 1.0, 'comp_000_h2/curvature': -1.0, 'comp_001_e10/curvature': 0.0}\n",
            "\tTrainEpoch 463:\t{'bce': -9138.38370431049, 'kl': 33.56464071952276, 'elbo': -9171.94834503001, 'll': 0.0, 'mi': 0.0, 'cov_norm': 0.0, 'beta': 1.0, 'comp_000_h2/curvature': -1.0, 'comp_001_e10/curvature': 0.0}\n",
            "\tTrainEpoch 464:\t{'bce': -9138.486140129948, 'kl': 33.599472659692886, 'elbo': -9172.085612789637, 'll': 0.0, 'mi': 0.0, 'cov_norm': 0.0, 'beta': 1.0, 'comp_000_h2/curvature': -1.0, 'comp_001_e10/curvature': 0.0}\n",
            "\tTrainEpoch 465:\t{'bce': -9138.203601359413, 'kl': 33.631880555602365, 'elbo': -9171.835481915012, 'll': 0.0, 'mi': 0.0, 'cov_norm': 0.0, 'beta': 1.0, 'comp_000_h2/curvature': -1.0, 'comp_001_e10/curvature': 0.0}\n",
            "\tTrainEpoch 466:\t{'bce': -9137.882355047064, 'kl': 33.55134833955664, 'elbo': -9171.433703386621, 'll': 0.0, 'mi': 0.0, 'cov_norm': 0.0, 'beta': 1.0, 'comp_000_h2/curvature': -1.0, 'comp_001_e10/curvature': 0.0}\n",
            "\tTrainEpoch 467:\t{'bce': -9138.16228723062, 'kl': 33.597330211277935, 'elbo': -9171.759617441901, 'll': 0.0, 'mi': 0.0, 'cov_norm': 0.0, 'beta': 1.0, 'comp_000_h2/curvature': -1.0, 'comp_001_e10/curvature': 0.0}\n",
            "\tTrainEpoch 468:\t{'bce': -9138.006462013314, 'kl': 33.60886680120711, 'elbo': -9171.615328814521, 'll': 0.0, 'mi': 0.0, 'cov_norm': 0.0, 'beta': 1.0, 'comp_000_h2/curvature': -1.0, 'comp_001_e10/curvature': 0.0}\n",
            "\tTrainEpoch 469:\t{'bce': -9137.843970967686, 'kl': 33.630353023718655, 'elbo': -9171.4743239914, 'll': 0.0, 'mi': 0.0, 'cov_norm': 0.0, 'beta': 1.0, 'comp_000_h2/curvature': -1.0, 'comp_001_e10/curvature': 0.0}\n",
            "\tTrainEpoch 470:\t{'bce': -9138.410836608158, 'kl': 33.552320703589196, 'elbo': -9171.963157311748, 'll': 0.0, 'mi': 0.0, 'cov_norm': 0.0, 'beta': 1.0, 'comp_000_h2/curvature': -1.0, 'comp_001_e10/curvature': 0.0}\n",
            "\tTrainEpoch 471:\t{'bce': -9137.97256226783, 'kl': 33.6272469011613, 'elbo': -9171.59980916899, 'll': 0.0, 'mi': 0.0, 'cov_norm': 0.0, 'beta': 1.0, 'comp_000_h2/curvature': -1.0, 'comp_001_e10/curvature': 0.0}\n",
            "\tTrainEpoch 472:\t{'bce': -9137.660847673631, 'kl': 33.566281189787006, 'elbo': -9171.227128863417, 'll': 0.0, 'mi': 0.0, 'cov_norm': 0.0, 'beta': 1.0, 'comp_000_h2/curvature': -1.0, 'comp_001_e10/curvature': 0.0}\n",
            "\tTrainEpoch 473:\t{'bce': -9137.464859695467, 'kl': 33.58468686973629, 'elbo': -9171.049546565204, 'll': 0.0, 'mi': 0.0, 'cov_norm': 0.0, 'beta': 1.0, 'comp_000_h2/curvature': -1.0, 'comp_001_e10/curvature': 0.0}\n",
            "\tTrainEpoch 474:\t{'bce': -9137.220555566582, 'kl': 33.580917523072216, 'elbo': -9170.801473089656, 'll': 0.0, 'mi': 0.0, 'cov_norm': 0.0, 'beta': 1.0, 'comp_000_h2/curvature': -1.0, 'comp_001_e10/curvature': 0.0}\n",
            "\tTrainEpoch 475:\t{'bce': -9137.881218084272, 'kl': 33.608431962051256, 'elbo': -9171.48965004633, 'll': 0.0, 'mi': 0.0, 'cov_norm': 0.0, 'beta': 1.0, 'comp_000_h2/curvature': -1.0, 'comp_001_e10/curvature': 0.0}\n",
            "\tTrainEpoch 476:\t{'bce': -9137.775329328466, 'kl': 33.62980185795896, 'elbo': -9171.405131186431, 'll': 0.0, 'mi': 0.0, 'cov_norm': 0.0, 'beta': 1.0, 'comp_000_h2/curvature': -1.0, 'comp_001_e10/curvature': 0.0}\n",
            "\tTrainEpoch 477:\t{'bce': -9137.509801852362, 'kl': 33.65092985196901, 'elbo': -9171.16073170433, 'll': 0.0, 'mi': 0.0, 'cov_norm': 0.0, 'beta': 1.0, 'comp_000_h2/curvature': -1.0, 'comp_001_e10/curvature': 0.0}\n",
            "\tTrainEpoch 478:\t{'bce': -9138.096846019698, 'kl': 33.591976149208634, 'elbo': -9171.688822168904, 'll': 0.0, 'mi': 0.0, 'cov_norm': 0.0, 'beta': 1.0, 'comp_000_h2/curvature': -1.0, 'comp_001_e10/curvature': 0.0}\n",
            "\tTrainEpoch 479:\t{'bce': -9136.921045184641, 'kl': 33.57726603045046, 'elbo': -9170.498311215095, 'll': 0.0, 'mi': 0.0, 'cov_norm': 0.0, 'beta': 1.0, 'comp_000_h2/curvature': -1.0, 'comp_001_e10/curvature': 0.0}\n",
            "\tTrainEpoch 480:\t{'bce': -9136.94553460354, 'kl': 33.62825180390184, 'elbo': -9170.573786407442, 'll': 0.0, 'mi': 0.0, 'cov_norm': 0.0, 'beta': 1.0, 'comp_000_h2/curvature': -1.0, 'comp_001_e10/curvature': 0.0}\n",
            "\tTrainEpoch 481:\t{'bce': -9136.377910647072, 'kl': 33.63361132159204, 'elbo': -9170.011521968665, 'll': 0.0, 'mi': 0.0, 'cov_norm': 0.0, 'beta': 1.0, 'comp_000_h2/curvature': -1.0, 'comp_001_e10/curvature': 0.0}\n",
            "\tTrainEpoch 482:\t{'bce': -9136.774571797021, 'kl': 33.64378531602132, 'elbo': -9170.418357113045, 'll': 0.0, 'mi': 0.0, 'cov_norm': 0.0, 'beta': 1.0, 'comp_000_h2/curvature': -1.0, 'comp_001_e10/curvature': 0.0}\n",
            "\tTrainEpoch 483:\t{'bce': -9137.466481092106, 'kl': 33.59524972908317, 'elbo': -9171.061730821193, 'll': 0.0, 'mi': 0.0, 'cov_norm': 0.0, 'beta': 1.0, 'comp_000_h2/curvature': -1.0, 'comp_001_e10/curvature': 0.0}\n",
            "\tTrainEpoch 484:\t{'bce': -9137.608188079443, 'kl': 33.575884310365545, 'elbo': -9171.18407238981, 'll': 0.0, 'mi': 0.0, 'cov_norm': 0.0, 'beta': 1.0, 'comp_000_h2/curvature': -1.0, 'comp_001_e10/curvature': 0.0}\n",
            "\tTrainEpoch 485:\t{'bce': -9137.272522802785, 'kl': 33.59422915219509, 'elbo': -9170.866751954974, 'll': 0.0, 'mi': 0.0, 'cov_norm': 0.0, 'beta': 1.0, 'comp_000_h2/curvature': -1.0, 'comp_001_e10/curvature': 0.0}\n",
            "\tTrainEpoch 486:\t{'bce': -9137.701180157568, 'kl': 33.617272061117276, 'elbo': -9171.318452218693, 'll': 0.0, 'mi': 0.0, 'cov_norm': 0.0, 'beta': 1.0, 'comp_000_h2/curvature': -1.0, 'comp_001_e10/curvature': 0.0}\n",
            "\tTrainEpoch 487:\t{'bce': -9136.80720690788, 'kl': 33.573418018483196, 'elbo': -9170.380624926362, 'll': 0.0, 'mi': 0.0, 'cov_norm': 0.0, 'beta': 1.0, 'comp_000_h2/curvature': -1.0, 'comp_001_e10/curvature': 0.0}\n",
            "\tTrainEpoch 488:\t{'bce': -9136.181159120348, 'kl': 33.62124514073483, 'elbo': -9169.80240426108, 'll': 0.0, 'mi': 0.0, 'cov_norm': 0.0, 'beta': 1.0, 'comp_000_h2/curvature': -1.0, 'comp_001_e10/curvature': 0.0}\n",
            "\tTrainEpoch 489:\t{'bce': -9136.654700714109, 'kl': 33.60873945602933, 'elbo': -9170.26344017014, 'll': 0.0, 'mi': 0.0, 'cov_norm': 0.0, 'beta': 1.0, 'comp_000_h2/curvature': -1.0, 'comp_001_e10/curvature': 0.0}\n",
            "\tTrainEpoch 490:\t{'bce': -9136.751804932102, 'kl': 33.59300087048498, 'elbo': -9170.344805802584, 'll': 0.0, 'mi': 0.0, 'cov_norm': 0.0, 'beta': 1.0, 'comp_000_h2/curvature': -1.0, 'comp_001_e10/curvature': 0.0}\n",
            "\tTrainEpoch 491:\t"
          ]
        }
      ],
      "source": [
        "# =====\n",
        "model = NBVAE(h_dim=h_dim,\n",
        "              components=components,\n",
        "              mask=mask,\n",
        "              dataset=dataset,\n",
        "              scalar_parametrization=scalar_parametrization).to(device)\n",
        "\n",
        "cur_time = datetime.datetime.utcnow().isoformat()\n",
        "chkpt_dir = f\"./chkpt/vae-{'mnist'}-{model_name}-{cur_time}\"\n",
        "\n",
        "trainer = Trainer(model,\n",
        "                  img_dims=[10,10],\n",
        "                  chkpt_dir=chkpt_dir,\n",
        "                  train_statistics=0,\n",
        "                  show_embeddings=False,\n",
        "                  export_embeddings=False,\n",
        "                  test_every=0)\n",
        "\n",
        "optimizer = trainer.build_optimizer(learning_rate=0.001, fixed_curvature=True)\n",
        "\n",
        "betas = utils.linear_betas(1.0,\n",
        "                           1.0,\n",
        "                           end_epoch=1,\n",
        "                           epochs=200)\n",
        "\n",
        "# Originally, max_epochs=500\n",
        "trainer.train_stopping(optimizer=optimizer,\n",
        "                       train_data=train_loader,\n",
        "                       eval_data=test_loader,\n",
        "                       warmup=20,\n",
        "                       lookahead=10,\n",
        "                       betas=betas,\n",
        "                       likelihood_n=200,\n",
        "                       max_epochs=500)\n",
        "\n",
        "use_log = True\n",
        "if use_log:\n",
        "  a = trainer.model(torch.log1p(torch.tensor(x)))\n",
        "else:\n",
        "  a = trainer.model(torch.tensor(x))\n",
        "b = a[1]\n",
        "bb = b.detach().numpy()\n",
        "\n",
        "np.savetxt(os.path.join(hyperparameter_path, f'{model_name}_all_encode_v63.txt'), bb)\n",
        "reconstructed_x = trainer.model.decode(a[1])\n",
        "reconstructed_x = reconstructed_x[1].detach().numpy()\n",
        "print(reconstructed_x.shape)\n",
        "torch.save(model.state_dict(), os.path.join(hyperparameter_path, model_name))"
      ]
    },
    {
      "cell_type": "code",
      "execution_count": null,
      "metadata": {
        "id": "T_4J_ZB7z1GA"
      },
      "outputs": [],
      "source": [
        "model_save_path = os.path.join(hyperparameter_path, model_name)\n",
        "torch.save(model.state_dict(), model_save_path)"
      ]
    },
    {
      "cell_type": "code",
      "execution_count": null,
      "metadata": {
        "colab": {
          "base_uri": "https://localhost:8080/"
        },
        "id": "ZqM75uN39ex5",
        "outputId": "9ec3e74d-1cb4-4720-a1e5-da67c0889734"
      },
      "outputs": [
        {
          "name": "stdout",
          "output_type": "stream",
          "text": [
            "tensor([1., 1., 1.,  ..., 0., 0., 0.])\n",
            "714.0\n",
            "tensor([0., 0., 0.,  ..., 1., 1., 1.])\n",
            "3831.0\n"
          ]
        }
      ],
      "source": [
        "for row in mask:\n",
        "  print(row)\n",
        "  print(torch.sum(row).item())"
      ]
    },
    {
      "cell_type": "code",
      "execution_count": null,
      "metadata": {
        "id": "HbWKll7pw71M"
      },
      "outputs": [],
      "source": [
        "lines = ['Input Description',\n",
        "         dataset_name,\n",
        "         'Used Cycling.cancer.cell.1 only.',\n",
        "         str(adata.X.shape),\n",
        "         'Rearranged genes and made mask be [mask_cyc, mask_all].',\n",
        "        'Used the raw counts.',\n",
        "        'Used all genes.'\n",
        "\n",
        "         ]\n",
        "\n",
        "mask_description = \"[\"\n",
        "for i, row in enumerate(mask):\n",
        "  mask_description = mask_description + str(torch.sum(row).item()) + \",\"\n",
        "mask_description = mask_description + \"]\"\n",
        "lines = lines + [mask_description]\n",
        "\n",
        "if dataset_name == \"velocity_human\" or dataset_name == \"velocity_mouse\":\n",
        "  if use_raw:\n",
        "    lines = lines + ['Used the raw count matrix obtained from the GSE file.']\n",
        "  else:\n",
        "    lines = lines + ['Used the X included rather than the raw count matrix.']\n",
        "with open(os.path.join(input_path, input_dir + '.txt'), 'w') as f:\n",
        "    for line in lines:\n",
        "        f.write(line)\n",
        "        f.write('\\n')"
      ]
    },
    {
      "cell_type": "code",
      "execution_count": null,
      "metadata": {
        "id": "g39InuLDynkL"
      },
      "outputs": [],
      "source": [
        "lines = ['Hyperparameter Description',\n",
        "         'Default hyperparameters.',\n",
        "         f'Shape of the mask: {mask.shape}'\n",
        "         'Commented out the constraint that z1 >= 0 in vae.py.'\n",
        "         ]\n",
        "if use_log:\n",
        "  lines = lines + ['Used log.']\n",
        "else:\n",
        "  lines = lines + [\"Did not use log.\"]\n",
        "with open(os.path.join(hyperparameter_path, hyperparameter_dir+'.txt'), 'w') as f:\n",
        "    for line in lines:\n",
        "        f.write(line)\n",
        "        f.write('\\n')"
      ]
    },
    {
      "cell_type": "code",
      "execution_count": null,
      "metadata": {
        "id": "9yNqlTtoFGlH"
      },
      "outputs": [],
      "source": [
        "adata"
      ]
    },
    {
      "cell_type": "markdown",
      "metadata": {
        "id": "9uCtRn9JDSdf"
      },
      "source": [
        "Preprocessing"
      ]
    },
    {
      "cell_type": "markdown",
      "metadata": {
        "id": "n-oHwvK3VT4U"
      },
      "source": [
        "Data preprocessing"
      ]
    },
    {
      "cell_type": "code",
      "execution_count": null,
      "metadata": {
        "id": "CVdAoP3-gy7r"
      },
      "outputs": [],
      "source": [
        "# Data already normalized and log-transformed\n",
        "# Select highly variable genes\n",
        "sc.pp.highly_variable_genes(adata, min_mean=0.0125, max_mean=3, min_disp=0.5)"
      ]
    },
    {
      "cell_type": "code",
      "execution_count": null,
      "metadata": {
        "colab": {
          "base_uri": "https://localhost:8080/"
        },
        "id": "1NPfsBPqj5RC",
        "outputId": "89e27112-a93d-4e4d-ec14-184901e0644c"
      },
      "outputs": [
        {
          "name": "stderr",
          "output_type": "stream",
          "text": [
            "/usr/local/lib/python3.10/dist-packages/scanpy/preprocessing/_simple.py:843: UserWarning: Received a view of an AnnData. Making a copy.\n",
            "  view_to_actual(adata)\n"
          ]
        }
      ],
      "source": [
        "# adata = adata[:, adata.var.highly_variable]\n",
        "# print(adata.X.shape)\n",
        "# Scale to unit variance and zero mean\n",
        "sc.pp.scale(adata)"
      ]
    },
    {
      "cell_type": "markdown",
      "metadata": {
        "id": "OrOcAtxcOGlP"
      },
      "source": [
        "Get rid of batch effects"
      ]
    },
    {
      "cell_type": "code",
      "execution_count": null,
      "metadata": {
        "colab": {
          "base_uri": "https://localhost:8080/"
        },
        "id": "FxlHdGOEF5hI",
        "outputId": "7ddf61de-59b0-4914-fa60-a1dec64d31e5"
      },
      "outputs": [
        {
          "name": "stdout",
          "output_type": "stream",
          "text": [
            "Requirement already satisfied: bbknn in /usr/local/lib/python3.10/dist-packages (1.5.1)\n",
            "Requirement already satisfied: Cython in /usr/local/lib/python3.10/dist-packages (from bbknn) (0.29.35)\n",
            "Requirement already satisfied: numpy in /usr/local/lib/python3.10/dist-packages (from bbknn) (1.22.4)\n",
            "Requirement already satisfied: scipy in /usr/local/lib/python3.10/dist-packages (from bbknn) (1.10.1)\n",
            "Requirement already satisfied: annoy in /usr/local/lib/python3.10/dist-packages (from bbknn) (1.17.3)\n",
            "Requirement already satisfied: pynndescent in /usr/local/lib/python3.10/dist-packages (from bbknn) (0.5.10)\n",
            "Requirement already satisfied: umap-learn in /usr/local/lib/python3.10/dist-packages (from bbknn) (0.5.3)\n",
            "Requirement already satisfied: scikit-learn in /usr/local/lib/python3.10/dist-packages (from bbknn) (1.2.2)\n",
            "Requirement already satisfied: packaging in /usr/local/lib/python3.10/dist-packages (from bbknn) (23.1)\n",
            "Requirement already satisfied: numba>=0.51.2 in /usr/local/lib/python3.10/dist-packages (from pynndescent->bbknn) (0.56.4)\n",
            "Requirement already satisfied: llvmlite>=0.30 in /usr/local/lib/python3.10/dist-packages (from pynndescent->bbknn) (0.39.1)\n",
            "Requirement already satisfied: joblib>=0.11 in /usr/local/lib/python3.10/dist-packages (from pynndescent->bbknn) (1.2.0)\n",
            "Requirement already satisfied: threadpoolctl>=2.0.0 in /usr/local/lib/python3.10/dist-packages (from scikit-learn->bbknn) (3.1.0)\n",
            "Requirement already satisfied: tqdm in /usr/local/lib/python3.10/dist-packages (from umap-learn->bbknn) (4.65.0)\n",
            "Requirement already satisfied: setuptools in /usr/local/lib/python3.10/dist-packages (from numba>=0.51.2->pynndescent->bbknn) (67.7.2)\n"
          ]
        }
      ],
      "source": [
        "!pip install bbknn"
      ]
    },
    {
      "cell_type": "code",
      "execution_count": null,
      "metadata": {
        "id": "vHftXwxDQZEW"
      },
      "outputs": [],
      "source": [
        "import bbknn\n",
        "\n",
        "bbknn.ridge_regression(adata, batch_key=['Chemistry'])"
      ]
    },
    {
      "cell_type": "markdown",
      "metadata": {
        "id": "bIswRs_Mg2sy"
      },
      "source": [
        "Alternative way to choose highly variable genes"
      ]
    },
    {
      "cell_type": "code",
      "execution_count": null,
      "metadata": {
        "id": "W7LXy9anLVdu"
      },
      "outputs": [],
      "source": [
        "def process_ovarian_epithelial(ovarian_adata):\n",
        "  print(ovarian_adata.X.dtype)\n",
        "  sc.pp.highly_variable_genes(ovarian_adata, flavor=\"cell_ranger\", n_top_genes=2000)"
      ]
    },
    {
      "cell_type": "code",
      "execution_count": null,
      "metadata": {
        "colab": {
          "base_uri": "https://localhost:8080/"
        },
        "id": "jVjkytbjMAfr",
        "outputId": "a2ee92cc-4787-46bb-cb80-75c5aa967894"
      },
      "outputs": [
        {
          "name": "stdout",
          "output_type": "stream",
          "text": [
            "float64\n"
          ]
        },
        {
          "name": "stderr",
          "output_type": "stream",
          "text": [
            "/usr/local/lib/python3.10/dist-packages/scanpy/preprocessing/_highly_variable_genes.py:540: ImplicitModificationWarning: Trying to modify attribute `._uns` of view, initializing view as actual.\n",
            "  adata.uns['hvg'] = {'flavor': flavor}\n"
          ]
        },
        {
          "data": {
            "text/plain": [
              "AnnData object with n_obs × n_vars = 38488 × 31897\n",
              "    obs: 'percent.mt', 'percent.rb', 'doublet', 'sample', 'batch', 'patient_id', 'S.Score', 'G2M.Score', 'Phase', 'CC.Diff', 'RNA_snn_res.0.3', 'seurat_clusters', 'nCount_RNA', 'nFeature_RNA', 'doublet_score', 'cell_id', 'cell_type_super', 'RNA_snn_res.0.1', 'RNA_snn_res.0.2', 'cluster_label', 'CD8.Cytotoxic.module', 'CD8.Dysfunctional.module', 'CD8.Naive.module', 'CD8.Predysfunctional.module', 'CIN.module', 'CIN.responsive.Noncanonical.NFKB.targets.up.module', 'CIN.responsive.Noncanonical.NFKB.targets.down.module', 'Noncanonical.NFKB.regulators.up.module', 'Noncanonical.NFKB.regulators.down.module', 'Canonical.NFKB.regulators.module', 'Interferon.regulators.module', 'EMT.module', 'Inflammation.module', 'Motility.and.migration.module', 'ISG.module', 'SASP.module', 'Myofibroblast.module', 'Fibroblast.module', 'Mesenchymal.stem.cell.module', 'Pericytes.module', 'Smooth.muscle.cell.module', 'ER.stress.module', 'IFNg.signaling.module', 'Androgen.pathway', 'EGFR.pathway', 'Estrogen.pathway', 'Hypoxia.pathway', 'JAK.STAT.pathway', 'MAPK.pathway', 'NFkB.pathway', 'p53.pathway', 'PI3K.pathway', 'TGFb.pathway', 'TNFa.pathway', 'Trail.pathway', 'VEGF.pathway', 'WNT.pathway', 'HALLMARK_TNFA_SIGNALING_VIA_NFKB', 'HALLMARK_HYPOXIA', 'HALLMARK_CHOLESTEROL_HOMEOSTASIS', 'HALLMARK_MITOTIC_SPINDLE', 'HALLMARK_WNT_BETA_CATENIN_SIGNALING', 'HALLMARK_TGF_BETA_SIGNALING', 'HALLMARK_IL6_JAK_STAT3_SIGNALING', 'HALLMARK_DNA_REPAIR', 'HALLMARK_G2M_CHECKPOINT', 'HALLMARK_APOPTOSIS', 'HALLMARK_NOTCH_SIGNALING', 'HALLMARK_ADIPOGENESIS', 'HALLMARK_ESTROGEN_RESPONSE_EARLY', 'HALLMARK_ESTROGEN_RESPONSE_LATE', 'HALLMARK_ANDROGEN_RESPONSE', 'HALLMARK_MYOGENESIS', 'HALLMARK_PROTEIN_SECRETION', 'HALLMARK_INTERFERON_ALPHA_RESPONSE', 'HALLMARK_INTERFERON_GAMMA_RESPONSE', 'HALLMARK_APICAL_JUNCTION', 'HALLMARK_APICAL_SURFACE', 'HALLMARK_HEDGEHOG_SIGNALING', 'HALLMARK_COMPLEMENT', 'HALLMARK_UNFOLDED_PROTEIN_RESPONSE', 'HALLMARK_PI3K_AKT_MTOR_SIGNALING', 'HALLMARK_MTORC1_SIGNALING', 'HALLMARK_E2F_TARGETS', 'HALLMARK_MYC_TARGETS_V1', 'HALLMARK_MYC_TARGETS_V2', 'HALLMARK_EPITHELIAL_MESENCHYMAL_TRANSITION', 'HALLMARK_INFLAMMATORY_RESPONSE', 'HALLMARK_XENOBIOTIC_METABOLISM', 'HALLMARK_FATTY_ACID_METABOLISM', 'HALLMARK_OXIDATIVE_PHOSPHORYLATION', 'HALLMARK_GLYCOLYSIS', 'HALLMARK_REACTIVE_OXYGEN_SPECIES_PATHWAY', 'HALLMARK_P53_PATHWAY', 'HALLMARK_UV_RESPONSE_UP', 'HALLMARK_UV_RESPONSE_DN', 'HALLMARK_ANGIOGENESIS', 'HALLMARK_HEME_METABOLISM', 'HALLMARK_COAGULATION', 'HALLMARK_IL2_STAT5_SIGNALING', 'HALLMARK_BILE_ACID_METABOLISM', 'HALLMARK_PEROXISOME', 'HALLMARK_ALLOGRAFT_REJECTION', 'HALLMARK_SPERMATOGENESIS', 'HALLMARK_KRAS_SIGNALING_UP', 'HALLMARK_KRAS_SIGNALING_DN', 'HALLMARK_PANCREAS_BETA_CELLS', 'author_sample_id', 'author_cell_type', 'organism_ontology_term_id', 'cell_type_ontology_term_id', 'tissue_ontology_term_id', 'assay_ontology_term_id', 'suspension_type', 'disease_ontology_term_id', 'self_reported_ethnicity_ontology_term_id', 'development_stage_ontology_term_id', 'sex_ontology_term_id', 'donor_id', 'author_tumor_supersite', 'author_tumor_site', 'author_tumor_subsite', 'author_sort_parameters', 'author_therapy', 'author_procedure', 'author_procedure_type', 'is_primary_data', 'BAF_1p', 'BAF_1q', 'BAF_2p', 'BAF_2q', 'BAF_3p', 'BAF_3q', 'BAF_4p', 'BAF_4q', 'BAF_5p', 'BAF_5q', 'BAF_6p', 'BAF_6q', 'BAF_7p', 'BAF_7q', 'BAF_8', 'BAF_9', 'BAF_10p', 'BAF_10q', 'BAF_11p', 'BAF_11q', 'BAF_12', 'BAF_13', 'BAF_14', 'BAF_15', 'BAF_16p', 'BAF_16q', 'BAF_17p', 'BAF_17q', 'BAF_18', 'BAF_19p', 'BAF_19q', 'BAF_20', 'BAF_21', 'BAF_22', 'BAF_X', 'cell_type', 'assay', 'disease', 'organism', 'sex', 'tissue', 'self_reported_ethnicity', 'development_stage'\n",
              "    var: 'feature.types', 'vst.mean', 'vst.variance', 'vst.variance.expected', 'vst.variance.standardized', 'vst.variable', 'feature_is_filtered', 'gene_name', 'feature_name', 'feature_reference', 'feature_biotype', 'highly_variable', 'means', 'dispersions', 'dispersions_norm'\n",
              "    uns: 'default_embedding', 'schema_version', 'title', 'hvg'\n",
              "    obsm: 'X_harmony', 'X_original', 'X_pca', 'X_raw', 'X_umap', 'X_umapharmony', 'X_umappca'\n",
              "    varm: 'HARMONY', 'PCs'"
            ]
          },
          "execution_count": 35,
          "metadata": {},
          "output_type": "execute_result"
        }
      ],
      "source": [
        "if \"ovarian_epithelial\" in dataset_name:\n",
        "  process_ovarian_epithelial(adata)\n",
        "adata"
      ]
    },
    {
      "cell_type": "code",
      "execution_count": null,
      "metadata": {
        "colab": {
          "base_uri": "https://localhost:8080/"
        },
        "id": "sqfv93X1mtAR",
        "outputId": "9b63a2db-e1f6-445a-9ebb-45ebda6a22d0"
      },
      "outputs": [
        {
          "data": {
            "text/plain": [
              "gene.ids\n",
              "ENSG00000243485    MIR1302-2HG\n",
              "ENSG00000186092          OR4F5\n",
              "ENSG00000238009     AL627309.1\n",
              "ENSG00000239945     AL627309.3\n",
              "ENSG00000241599     AL627309.4\n",
              "                      ...     \n",
              "ENSG00000276345     AC004556.1\n",
              "ENSG00000277856     AC233755.2\n",
              "ENSG00000275063     AC233755.1\n",
              "ENSG00000271254     AC240274.1\n",
              "ENSG00000268674        FAM231C\n",
              "Name: gene_name, Length: 31897, dtype: category\n",
              "Categories (31897, object): ['A1BG', 'A1BG-AS1', 'A1CF', 'A2M', ..., 'ZYG11A', 'ZYG11B', 'ZYX',\n",
              "                             'ZZEF1']"
            ]
          },
          "execution_count": 53,
          "metadata": {},
          "output_type": "execute_result"
        }
      ],
      "source": [
        "adata.var['gene_name']"
      ]
    },
    {
      "cell_type": "code",
      "execution_count": null,
      "metadata": {
        "id": "GqYkBjBGj8-q"
      },
      "outputs": [],
      "source": [
        "# Set any cell cycling genes to be included as a highly variable gene\n",
        "add_in = True\n",
        "highly_variable_genes = adata.var['highly_variable'].copy()\n",
        "if add_in:\n",
        "  all_cycle_gene = pd.read_csv('/content/drive/MyDrive/mvae/data/scdata/cycle_gene.txt', header=None, sep='\\t')\n",
        "\n",
        "  cycle_gene_present = all_cycle_gene[0][all_cycle_gene[0].isin(adata.var['gene_name'])]\n",
        "  contained = adata.var['gene_name'].isin(cycle_gene_present)\n",
        "  print(contained)\n",
        "  highly_variable_genes[contained] = True\n",
        "\n",
        "print(np.sum(highly_variable_genes))\n",
        "adata = adata[:, highly_variable_genes]"
      ]
    },
    {
      "cell_type": "code",
      "execution_count": null,
      "metadata": {
        "colab": {
          "base_uri": "https://localhost:8080/"
        },
        "id": "4F0iKdkVQW52",
        "outputId": "0a43909e-40f9-4a71-b54a-3daff3bc0da6"
      },
      "outputs": [
        {
          "name": "stdout",
          "output_type": "stream",
          "text": [
            "The sparse matrix does not contain infinity.\n"
          ]
        }
      ],
      "source": [
        "# Check if the sparse matrix contains infinity\n",
        "contains_infinity = np.isinf(adata.obsm['X_original'].data).any()\n",
        "\n",
        "# Print the result\n",
        "if contains_infinity:\n",
        "    print(\"The sparse matrix contains infinity.\")\n",
        "else:\n",
        "    print(\"The sparse matrix does not contain infinity.\")"
      ]
    },
    {
      "cell_type": "markdown",
      "metadata": {
        "id": "HNmOT81zkhoB"
      },
      "source": [
        "Obtaining a subset of the cells"
      ]
    },
    {
      "cell_type": "code",
      "execution_count": 63,
      "metadata": {
        "id": "ZlsI5ywQnTQE"
      },
      "outputs": [],
      "source": [
        "def obtain_subset_indices(adata, obs_key, desired_types):\n",
        "  \"\"\"\n",
        "  Obtain the indices of cells that meet a criteria in observations.\n",
        "  obs_key: The observation desired.\n",
        "  desired_types: Which types of the observation should be kept.\n",
        "  \"\"\"\n",
        "  subset_indices = adata.obs[obs_key] == desired_types[0]\n",
        "  for i in range(1, len(desired_types)):\n",
        "    subset_indices = subset_indices | (adata.obs[obs_key] == desired_types[i])\n",
        "  return subset_indices"
      ]
    },
    {
      "cell_type": "code",
      "execution_count": null,
      "metadata": {
        "id": "aJVt0AVR7EgS"
      },
      "outputs": [],
      "source": [
        "subset_indices = obtain_subset_indices(adata, 'cluster_label', ['Cycling.cancer.cell.1',\n",
        "                                                      'Cycling.cancer.cell.2',\n",
        "\n",
        "                                                      ])"
      ]
    },
    {
      "cell_type": "code",
      "execution_count": null,
      "metadata": {
        "id": "ehR37JnCWIwj"
      },
      "outputs": [],
      "source": [
        "# Obtain the subset\n",
        "adata = adata[subset_indices]"
      ]
    },
    {
      "cell_type": "code",
      "execution_count": null,
      "metadata": {
        "colab": {
          "base_uri": "https://localhost:8080/"
        },
        "id": "Yb2DhBmu5Cxn",
        "outputId": "992e9fd0-9ec8-4923-f505-a8ef354aa9d9"
      },
      "outputs": [
        {
          "name": "stdout",
          "output_type": "stream",
          "text": [
            "(38488, 31897)\n"
          ]
        }
      ],
      "source": [
        "print(adata.X.shape)"
      ]
    },
    {
      "cell_type": "markdown",
      "metadata": {
        "id": "mYpOoeI-wUGj"
      },
      "source": [
        "Obtaining a subset of the genes"
      ]
    },
    {
      "cell_type": "code",
      "execution_count": 16,
      "metadata": {
        "id": "qXblrlyzxBi7"
      },
      "outputs": [],
      "source": [
        "def obtain_cycle_indices(adata, gene_name, cycle_gene_only=True):\n",
        "  \"\"\"\n",
        "  Obtain the indices of either the cell cycling genes or the non-cell cycling genes.\n",
        "  gene_name: A string that is the name of the variable in adata.var containing the gene names.\n",
        "  cycle_gene_only: True if the value for the gene should be set to True if it is a cell cycling gene.\n",
        "    False otherwise.\n",
        "  \"\"\"\n",
        "  cycle_gene = pd.read_csv('/content/drive/MyDrive/mvae/data/scdata/cycle_gene.txt', header=None, sep='\\t')\n",
        "  print(f\"Number of total cell cycle genes: {len(cycle_gene[0])}\")\n",
        "  print(cycle_gene[0])\n",
        "\n",
        "  # Genes involved with the cell cycle present in adata\n",
        "  cycle_gene = cycle_gene[0][cycle_gene[0].isin(adata.var[gene_name])]\n",
        "  print(cycle_gene)\n",
        "\n",
        "  if cycle_gene_only:\n",
        "    desired_gene_indices = adata.var[gene_name].isin(cycle_gene)\n",
        "    print(desired_gene_indices)\n",
        "  else:\n",
        "    desired_gene_indices = ~adata.var[gene_name].isin(cycle_gene)\n",
        "  return desired_gene_indices"
      ]
    },
    {
      "cell_type": "code",
      "execution_count": 17,
      "metadata": {
        "colab": {
          "base_uri": "https://localhost:8080/"
        },
        "id": "mUBdCwtXzACX",
        "outputId": "30b8d3f2-65d4-425d-e09d-38c9ded10f82"
      },
      "outputs": [
        {
          "output_type": "stream",
          "name": "stdout",
          "text": [
            "Number of total cell cycle genes: 800\n",
            "0          ABCA7\n",
            "1            ACD\n",
            "2          ACYP1\n",
            "3        ADAMTS1\n",
            "4          ADCK2\n",
            "         ...    \n",
            "795        ZNF98\n",
            "796        ZNFX1\n",
            "797    ZNFX1-AS1\n",
            "798         ZPBP\n",
            "799      ZSCAN5A\n",
            "Name: 0, Length: 800, dtype: object\n",
            "0        ABCA7\n",
            "1          ACD\n",
            "2        ACYP1\n",
            "3      ADAMTS1\n",
            "4        ADCK2\n",
            "        ...   \n",
            "794     ZNF593\n",
            "795      ZNF98\n",
            "796      ZNFX1\n",
            "798       ZPBP\n",
            "799    ZSCAN5A\n",
            "Name: 0, Length: 729, dtype: object\n",
            "MIR1302-2HG    False\n",
            "FAM138A        False\n",
            "OR4F5          False\n",
            "AL627309.1     False\n",
            "AL627309.3     False\n",
            "               ...  \n",
            "AC141272.1     False\n",
            "AC023491.2     False\n",
            "AC007325.1     False\n",
            "AC007325.4     False\n",
            "AC007325.2     False\n",
            "Name: gene_name, Length: 36601, dtype: bool\n"
          ]
        }
      ],
      "source": [
        "cycle_indices = obtain_cycle_indices(adata, 'gene_name', cycle_gene_only=True)"
      ]
    },
    {
      "cell_type": "code",
      "execution_count": 18,
      "metadata": {
        "colab": {
          "base_uri": "https://localhost:8080/"
        },
        "id": "2_YeUcXnGsnX",
        "outputId": "a1b8d7a0-62a0-4ee2-fdcf-ef4058d1c59c"
      },
      "outputs": [
        {
          "output_type": "execute_result",
          "data": {
            "text/plain": [
              "729"
            ]
          },
          "metadata": {},
          "execution_count": 18
        }
      ],
      "source": [
        "np.sum(cycle_indices)"
      ]
    },
    {
      "cell_type": "code",
      "execution_count": null,
      "metadata": {
        "colab": {
          "base_uri": "https://localhost:8080/"
        },
        "id": "7zDO6B4yGufW",
        "outputId": "bf3fb2e8-08e8-4e49-e10b-194786b949f3"
      },
      "outputs": [
        {
          "data": {
            "text/plain": [
              "View of AnnData object with n_obs × n_vars = 149460 × 732\n",
              "    obs: 'percent.mt', 'percent.rb', 'doublet', 'sample', 'batch', 'patient_id', 'S.Score', 'G2M.Score', 'Phase', 'CC.Diff', 'RNA_snn_res.0.3', 'seurat_clusters', 'nCount_RNA', 'nFeature_RNA', 'doublet_score', 'cell_id', 'cell_type_super', 'RNA_snn_res.0.1', 'RNA_snn_res.0.2', 'cluster_label', 'CD8.Cytotoxic.module', 'CD8.Dysfunctional.module', 'CD8.Naive.module', 'CD8.Predysfunctional.module', 'CIN.module', 'CIN.responsive.Noncanonical.NFKB.targets.up.module', 'CIN.responsive.Noncanonical.NFKB.targets.down.module', 'Noncanonical.NFKB.regulators.up.module', 'Noncanonical.NFKB.regulators.down.module', 'Canonical.NFKB.regulators.module', 'Interferon.regulators.module', 'EMT.module', 'Inflammation.module', 'Motility.and.migration.module', 'ISG.module', 'SASP.module', 'Myofibroblast.module', 'Fibroblast.module', 'Mesenchymal.stem.cell.module', 'Pericytes.module', 'Smooth.muscle.cell.module', 'ER.stress.module', 'IFNg.signaling.module', 'Androgen.pathway', 'EGFR.pathway', 'Estrogen.pathway', 'Hypoxia.pathway', 'JAK.STAT.pathway', 'MAPK.pathway', 'NFkB.pathway', 'p53.pathway', 'PI3K.pathway', 'TGFb.pathway', 'TNFa.pathway', 'Trail.pathway', 'VEGF.pathway', 'WNT.pathway', 'HALLMARK_TNFA_SIGNALING_VIA_NFKB', 'HALLMARK_HYPOXIA', 'HALLMARK_CHOLESTEROL_HOMEOSTASIS', 'HALLMARK_MITOTIC_SPINDLE', 'HALLMARK_WNT_BETA_CATENIN_SIGNALING', 'HALLMARK_TGF_BETA_SIGNALING', 'HALLMARK_IL6_JAK_STAT3_SIGNALING', 'HALLMARK_DNA_REPAIR', 'HALLMARK_G2M_CHECKPOINT', 'HALLMARK_APOPTOSIS', 'HALLMARK_NOTCH_SIGNALING', 'HALLMARK_ADIPOGENESIS', 'HALLMARK_ESTROGEN_RESPONSE_EARLY', 'HALLMARK_ESTROGEN_RESPONSE_LATE', 'HALLMARK_ANDROGEN_RESPONSE', 'HALLMARK_MYOGENESIS', 'HALLMARK_PROTEIN_SECRETION', 'HALLMARK_INTERFERON_ALPHA_RESPONSE', 'HALLMARK_INTERFERON_GAMMA_RESPONSE', 'HALLMARK_APICAL_JUNCTION', 'HALLMARK_APICAL_SURFACE', 'HALLMARK_HEDGEHOG_SIGNALING', 'HALLMARK_COMPLEMENT', 'HALLMARK_UNFOLDED_PROTEIN_RESPONSE', 'HALLMARK_PI3K_AKT_MTOR_SIGNALING', 'HALLMARK_MTORC1_SIGNALING', 'HALLMARK_E2F_TARGETS', 'HALLMARK_MYC_TARGETS_V1', 'HALLMARK_MYC_TARGETS_V2', 'HALLMARK_EPITHELIAL_MESENCHYMAL_TRANSITION', 'HALLMARK_INFLAMMATORY_RESPONSE', 'HALLMARK_XENOBIOTIC_METABOLISM', 'HALLMARK_FATTY_ACID_METABOLISM', 'HALLMARK_OXIDATIVE_PHOSPHORYLATION', 'HALLMARK_GLYCOLYSIS', 'HALLMARK_REACTIVE_OXYGEN_SPECIES_PATHWAY', 'HALLMARK_P53_PATHWAY', 'HALLMARK_UV_RESPONSE_UP', 'HALLMARK_UV_RESPONSE_DN', 'HALLMARK_ANGIOGENESIS', 'HALLMARK_HEME_METABOLISM', 'HALLMARK_COAGULATION', 'HALLMARK_IL2_STAT5_SIGNALING', 'HALLMARK_BILE_ACID_METABOLISM', 'HALLMARK_PEROXISOME', 'HALLMARK_ALLOGRAFT_REJECTION', 'HALLMARK_SPERMATOGENESIS', 'HALLMARK_KRAS_SIGNALING_UP', 'HALLMARK_KRAS_SIGNALING_DN', 'HALLMARK_PANCREAS_BETA_CELLS', 'author_sample_id', 'author_cell_type', 'organism_ontology_term_id', 'cell_type_ontology_term_id', 'tissue_ontology_term_id', 'assay_ontology_term_id', 'suspension_type', 'disease_ontology_term_id', 'self_reported_ethnicity_ontology_term_id', 'development_stage_ontology_term_id', 'sex_ontology_term_id', 'donor_id', 'author_tumor_supersite', 'author_tumor_site', 'author_tumor_subsite', 'author_sort_parameters', 'author_therapy', 'author_procedure', 'author_procedure_type', 'is_primary_data', 'BAF_1p', 'BAF_1q', 'BAF_2p', 'BAF_2q', 'BAF_3p', 'BAF_3q', 'BAF_4p', 'BAF_4q', 'BAF_5p', 'BAF_5q', 'BAF_6p', 'BAF_6q', 'BAF_7p', 'BAF_7q', 'BAF_8', 'BAF_9', 'BAF_10p', 'BAF_10q', 'BAF_11p', 'BAF_11q', 'BAF_12', 'BAF_13', 'BAF_14', 'BAF_15', 'BAF_16p', 'BAF_16q', 'BAF_17p', 'BAF_17q', 'BAF_18', 'BAF_19p', 'BAF_19q', 'BAF_20', 'BAF_21', 'BAF_22', 'BAF_X', 'cell_type', 'assay', 'disease', 'organism', 'sex', 'tissue', 'self_reported_ethnicity', 'development_stage'\n",
              "    var: 'feature.types', 'vst.mean', 'vst.variance', 'vst.variance.expected', 'vst.variance.standardized', 'vst.variable', 'feature_is_filtered', 'gene_name', 'feature_name', 'feature_reference', 'feature_biotype'\n",
              "    uns: 'default_embedding', 'schema_version', 'title'\n",
              "    obsm: 'X_harmony', 'X_pca', 'X_raw', 'X_umap', 'X_umapharmony', 'X_umappca', 'X_original'\n",
              "    varm: 'HARMONY', 'PCs'"
            ]
          },
          "execution_count": 19,
          "metadata": {},
          "output_type": "execute_result"
        }
      ],
      "source": [
        "# Indexing if only want the cell cycling genes\n",
        "adata = adata[:, cycle_indices]\n",
        "adata"
      ]
    },
    {
      "cell_type": "markdown",
      "metadata": {
        "id": "yLfjj67dR_f5"
      },
      "source": [
        "Rearrange the input so that cell cycle genes are first"
      ]
    },
    {
      "cell_type": "code",
      "execution_count": 19,
      "metadata": {
        "id": "1fPYBkkII8v-"
      },
      "outputs": [],
      "source": [
        "def rearrange_input(adata, gene_name):\n",
        "  \"\"\"\n",
        "  Rearranges the columns of adata, so that cell cycling genes appear first and non-cell\n",
        "  cycling genes appear after.\n",
        "  gene_name: A string that is the name of the variable in adata.var containing the gene name.\n",
        "  \"\"\"\n",
        "  cycle_gene = pd.read_csv('/content/drive/MyDrive/mvae/data/scdata/cycle_gene.txt', header=None, sep='\\t')\n",
        "  print(f\"Number of total cell cycle genes: {len(cycle_gene[0])}\")\n",
        "  print(cycle_gene[0])\n",
        "  # Genes involved with the cell cycle present in adata\n",
        "  cycle_gene = cycle_gene[0][cycle_gene[0].isin(adata.var[gene_name])]\n",
        "\n",
        "  contained = adata.var[gene_name].isin(cycle_gene)\n",
        "  print(f\"Number of cell cycle genes present in adata: {np.sum(contained)}\")\n",
        "\n",
        "  # cycle_indices = []\n",
        "  # non_cycle_indices = []\n",
        "  cycle_g = []\n",
        "  cycle_indices = np.zeros(np.sum(contained))\n",
        "  non_cycle_indices = np.zeros(len(contained)-np.sum(contained))\n",
        "  non_cycle_g = []\n",
        "\n",
        "  count = 0\n",
        "  count_1 = 0\n",
        "  for i in range(0, len(contained)):\n",
        "    if contained.iloc[i]:\n",
        "      cycle_indices[count]=i\n",
        "      cycle_g.append(adata.var[gene_name].iloc[i])\n",
        "      count = count + 1\n",
        "    else:\n",
        "      non_cycle_indices[count_1] = i\n",
        "      non_cycle_g.append(adata.var[gene_name].iloc[i])\n",
        "      count_1 = count_1 + 1\n",
        "\n",
        "  new_indices = np.hstack((cycle_indices, non_cycle_indices)).astype(int)\n",
        "  print(new_indices)\n",
        "  # Place the cycling genes first\n",
        "  # cycling_columns = adata.X[:, cycle_indices]\n",
        "  # Place the non-cycling genes after\n",
        "  # non_cycling_columns = adata.X[:, non_cycle_indices]\n",
        "\n",
        "  # new_X = np.hstack((cycling_columns, non_cycling_columns))\n",
        "  new_primerid = np.array(cycle_g + non_cycle_g)\n",
        "\n",
        "  adata.obsm['X_unrearranged'] = adata.X\n",
        "  adata.X = adata.X[:, new_indices]\n",
        "  adata.var[gene_name + '_unrearranged'] = adata.var[gene_name]\n",
        "  adata.var[gene_name] = new_primerid\n",
        "\n",
        "  return cycle_gene"
      ]
    },
    {
      "cell_type": "code",
      "execution_count": 20,
      "metadata": {
        "colab": {
          "base_uri": "https://localhost:8080/"
        },
        "id": "L8KY5_gMJqs-",
        "outputId": "d62912f8-b4ab-495d-db1e-643bfa228938"
      },
      "outputs": [
        {
          "output_type": "stream",
          "name": "stdout",
          "text": [
            "Rearranging so that cell cycle genes appear first and the non-cell cycle genes follow.\n",
            "Number of total cell cycle genes: 800\n",
            "0          ABCA7\n",
            "1            ACD\n",
            "2          ACYP1\n",
            "3        ADAMTS1\n",
            "4          ADCK2\n",
            "         ...    \n",
            "795        ZNF98\n",
            "796        ZNFX1\n",
            "797    ZNFX1-AS1\n",
            "798         ZPBP\n",
            "799      ZSCAN5A\n",
            "Name: 0, Length: 800, dtype: object\n",
            "Number of cell cycle genes present in adata: 729\n",
            "[   86   216   234 ... 36598 36599 36600]\n"
          ]
        }
      ],
      "source": [
        "gene_name = 'gene_name'\n",
        "rearrange = True\n",
        "if rearrange:\n",
        "  print(\"Rearranging so that cell cycle genes appear first and the non-cell cycle genes follow.\")\n",
        "  cycle_gene = rearrange_input(adata, gene_name)\n",
        "  adata.var[gene_name].index = np.arange(0, adata.n_vars, 1)"
      ]
    },
    {
      "cell_type": "code",
      "execution_count": 21,
      "metadata": {
        "colab": {
          "base_uri": "https://localhost:8080/"
        },
        "id": "l6o3r2kqoxq4",
        "outputId": "3a981e12-e257-4ebb-d83c-02338261fd72"
      },
      "outputs": [
        {
          "output_type": "execute_result",
          "data": {
            "text/plain": [
              "0              GNB1\n",
              "1              RERE\n",
              "2            PIK3CD\n",
              "3             TMCO4\n",
              "4            HP1BP3\n",
              "            ...    \n",
              "36596    AC141272.1\n",
              "36597    AC023491.2\n",
              "36598    AC007325.1\n",
              "36599    AC007325.4\n",
              "36600    AC007325.2\n",
              "Name: gene_name, Length: 36601, dtype: object"
            ]
          },
          "metadata": {},
          "execution_count": 21
        }
      ],
      "source": [
        "adata.var[gene_name]"
      ]
    },
    {
      "cell_type": "code",
      "execution_count": 22,
      "metadata": {
        "colab": {
          "base_uri": "https://localhost:8080/"
        },
        "id": "gflIsqoto0U3",
        "outputId": "aedc1870-23c6-4469-934e-16628d568004"
      },
      "outputs": [
        {
          "output_type": "execute_result",
          "data": {
            "text/plain": [
              "MIR1302-2HG    MIR1302-2HG\n",
              "FAM138A            FAM138A\n",
              "OR4F5                OR4F5\n",
              "AL627309.1      AL627309.1\n",
              "AL627309.3      AL627309.3\n",
              "                  ...     \n",
              "AC141272.1      AC141272.1\n",
              "AC023491.2      AC023491.2\n",
              "AC007325.1      AC007325.1\n",
              "AC007325.4      AC007325.4\n",
              "AC007325.2      AC007325.2\n",
              "Name: gene_name_unrearranged, Length: 36601, dtype: object"
            ]
          },
          "metadata": {},
          "execution_count": 22
        }
      ],
      "source": [
        "adata.var[gene_name+'_unrearranged']"
      ]
    }
  ],
  "metadata": {
    "colab": {
      "machine_shape": "hm",
      "provenance": [],
      "authorship_tag": "ABX9TyO+K+VmdR+0hwYKnzGu1sCa",
      "include_colab_link": true
    },
    "kernelspec": {
      "display_name": "Python 3",
      "name": "python3"
    },
    "language_info": {
      "name": "python"
    }
  },
  "nbformat": 4,
  "nbformat_minor": 0
}